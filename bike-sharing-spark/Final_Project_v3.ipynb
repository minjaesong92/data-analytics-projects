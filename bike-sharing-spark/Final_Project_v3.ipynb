{
 "cells": [
  {
   "cell_type": "markdown",
   "metadata": {},
   "source": [
    "# Big Data Project\n",
    "  ### MinJae Song\n",
    "  ### Stephen Acurso\n",
    "  ### CIS 4567 - Big Data Analytics. Dr. Salehan"
   ]
  },
  {
   "cell_type": "markdown",
   "metadata": {},
   "source": [
    "# Bike Rentals\n",
    "## Project Objective: We will use a bike sharing dataset to predict hourly bike rentals through relevant information such as time, weather, season, casual rentals, registered rentals, etc. Through our predictions, we will also be able to extract the more impacting variables relative to rental count. With good predictions, we can examine customer demand trends to prepare and decrease/increase supply.\n",
    "## Method of Analysis: In order to predict future rentals, we will be using linear regression to create our model. Through iterations of linear regression we will choose the best model for our predictions and important features. However, if there is a need for improvement, we will try decision tree regression to improve our model. We will compare evaluation metrics on both methods and choose accordingly.\n",
    "## Data description: Our dataset is from the UCI Data Repository for bike rentals. Our columns consist of variables such as: date, season (1:spring, 2:summer, 3:fall, 4:winter), year, month, hour, holiday (whether it is a holiday or not), day of the week, workingday (1:neither weekend nor holiday, 0:otherwise), weather status (1:clear, few clouds, partly cloudy, 2:mist,cloudy,mist+broken clouds,mist+fewclouds, 3:light snow, light rain+thunderstorm+scattered clouds, light rain+scattered clouds, 4:heavy rain+ice pallets+thunderstorm+mist, snow+fog), temperature, feels-like-temperature, humidity, wind speed, casual rentals, registered rentals, and total rentals."
   ]
  },
  {
   "cell_type": "code",
   "execution_count": 1,
   "metadata": {},
   "outputs": [
    {
     "data": {
      "application/vnd.jupyter.widget-view+json": {
       "model_id": "4353ca99c7e84af69e38916bfde5aeaa",
       "version_major": 2,
       "version_minor": 0
      },
      "text/plain": [
       "VBox()"
      ]
     },
     "metadata": {},
     "output_type": "display_data"
    },
    {
     "name": "stdout",
     "output_type": "stream",
     "text": [
      "Starting Spark application\n"
     ]
    },
    {
     "data": {
      "text/html": [
       "<table>\n",
       "<tr><th>ID</th><th>YARN Application ID</th><th>Kind</th><th>State</th><th>Spark UI</th><th>Driver log</th><th>Current session?</th></tr><tr><td>10</td><td>application_1575483558914_0011</td><td>pyspark</td><td>idle</td><td><a target=\"_blank\" href=\"http://ip-172-31-62-126.ec2.internal:20888/proxy/application_1575483558914_0011/\">Link</a></td><td><a target=\"_blank\" href=\"http://ip-172-31-53-103.ec2.internal:8042/node/containerlogs/container_1575483558914_0011_01_000002/livy\">Link</a></td><td>✔</td></tr></table>"
      ],
      "text/plain": [
       "<IPython.core.display.HTML object>"
      ]
     },
     "metadata": {},
     "output_type": "display_data"
    },
    {
     "data": {
      "application/vnd.jupyter.widget-view+json": {
       "model_id": "",
       "version_major": 2,
       "version_minor": 0
      },
      "text/plain": [
       "FloatProgress(value=0.0, bar_style='info', description='Progress:', layout=Layout(height='25px', width='50%'),…"
      ]
     },
     "metadata": {},
     "output_type": "display_data"
    },
    {
     "name": "stdout",
     "output_type": "stream",
     "text": [
      "SparkSession available as 'spark'.\n"
     ]
    },
    {
     "data": {
      "application/vnd.jupyter.widget-view+json": {
       "model_id": "",
       "version_major": 2,
       "version_minor": 0
      },
      "text/plain": [
       "FloatProgress(value=0.0, bar_style='info', description='Progress:', layout=Layout(height='25px', width='50%'),…"
      ]
     },
     "metadata": {},
     "output_type": "display_data"
    },
    {
     "name": "stdout",
     "output_type": "stream",
     "text": [
      "'2.4.4'"
     ]
    }
   ],
   "source": [
    "import pyspark\n",
    "sc.version"
   ]
  },
  {
   "cell_type": "markdown",
   "metadata": {},
   "source": [
    "### import the dataset"
   ]
  },
  {
   "cell_type": "code",
   "execution_count": 2,
   "metadata": {},
   "outputs": [
    {
     "data": {
      "application/vnd.jupyter.widget-view+json": {
       "model_id": "598a4f34563948d38e32109eb22fb70d",
       "version_major": 2,
       "version_minor": 0
      },
      "text/plain": [
       "VBox()"
      ]
     },
     "metadata": {},
     "output_type": "display_data"
    },
    {
     "data": {
      "application/vnd.jupyter.widget-view+json": {
       "model_id": "",
       "version_major": 2,
       "version_minor": 0
      },
      "text/plain": [
       "FloatProgress(value=0.0, bar_style='info', description='Progress:', layout=Layout(height='25px', width='50%'),…"
      ]
     },
     "metadata": {},
     "output_type": "display_data"
    },
    {
     "name": "stdout",
     "output_type": "stream",
     "text": [
      "17379"
     ]
    }
   ],
   "source": [
    "import pyspark.sql.functions as func\n",
    "\n",
    "bike_rental_path = 's3://2019fallcis4567/Big Data Project/hour.csv'\n",
    "\n",
    "bike_rental = spark.read.csv(\n",
    "    bike_rental_path\n",
    "    , header=True\n",
    "    , inferSchema=True\n",
    ")\n",
    "\n",
    "#remove leading or trailing spaces from text values\n",
    "for col, typ in bike_rental.dtypes:\n",
    "    if typ == 'string':\n",
    "        bike_rental = bike_rental.withColumn(\n",
    "            col\n",
    "            , func.ltrim(func.rtrim(bike_rental[col]))\n",
    "        )\n",
    "bike_rental.count()"
   ]
  },
  {
   "cell_type": "markdown",
   "metadata": {},
   "source": [
    "### dataset contains 17379 rows and 17 columns"
   ]
  },
  {
   "cell_type": "code",
   "execution_count": 3,
   "metadata": {},
   "outputs": [
    {
     "data": {
      "application/vnd.jupyter.widget-view+json": {
       "model_id": "2bcd01baa9d34d39bbfffab4559b7cbf",
       "version_major": 2,
       "version_minor": 0
      },
      "text/plain": [
       "VBox()"
      ]
     },
     "metadata": {},
     "output_type": "display_data"
    },
    {
     "data": {
      "application/vnd.jupyter.widget-view+json": {
       "model_id": "",
       "version_major": 2,
       "version_minor": 0
      },
      "text/plain": [
       "FloatProgress(value=0.0, bar_style='info', description='Progress:', layout=Layout(height='25px', width='50%'),…"
      ]
     },
     "metadata": {},
     "output_type": "display_data"
    },
    {
     "name": "stdout",
     "output_type": "stream",
     "text": [
      "+-------+-------------------+------+---+----+---+-------+-------+----------+----------+----+------+----+---------+------+----------+---+\n",
      "|instant|             dteday|season| yr|mnth| hr|holiday|weekday|workingday|weathersit|temp| atemp| hum|windspeed|casual|registered|cnt|\n",
      "+-------+-------------------+------+---+----+---+-------+-------+----------+----------+----+------+----+---------+------+----------+---+\n",
      "|      1|2011-01-01 00:00:00|     1|  0|   1|  0|      0|      6|         0|         1|0.24|0.2879|0.81|      0.0|     3|        13| 16|\n",
      "|      2|2011-01-01 00:00:00|     1|  0|   1|  1|      0|      6|         0|         1|0.22|0.2727| 0.8|      0.0|     8|        32| 40|\n",
      "|      3|2011-01-01 00:00:00|     1|  0|   1|  2|      0|      6|         0|         1|0.22|0.2727| 0.8|      0.0|     5|        27| 32|\n",
      "|      4|2011-01-01 00:00:00|     1|  0|   1|  3|      0|      6|         0|         1|0.24|0.2879|0.75|      0.0|     3|        10| 13|\n",
      "|      5|2011-01-01 00:00:00|     1|  0|   1|  4|      0|      6|         0|         1|0.24|0.2879|0.75|      0.0|     0|         1|  1|\n",
      "|      6|2011-01-01 00:00:00|     1|  0|   1|  5|      0|      6|         0|         2|0.24|0.2576|0.75|   0.0896|     0|         1|  1|\n",
      "|      7|2011-01-01 00:00:00|     1|  0|   1|  6|      0|      6|         0|         1|0.22|0.2727| 0.8|      0.0|     2|         0|  2|\n",
      "|      8|2011-01-01 00:00:00|     1|  0|   1|  7|      0|      6|         0|         1| 0.2|0.2576|0.86|      0.0|     1|         2|  3|\n",
      "|      9|2011-01-01 00:00:00|     1|  0|   1|  8|      0|      6|         0|         1|0.24|0.2879|0.75|      0.0|     1|         7|  8|\n",
      "|     10|2011-01-01 00:00:00|     1|  0|   1|  9|      0|      6|         0|         1|0.32|0.3485|0.76|      0.0|     8|         6| 14|\n",
      "|     11|2011-01-01 00:00:00|     1|  0|   1| 10|      0|      6|         0|         1|0.38|0.3939|0.76|   0.2537|    12|        24| 36|\n",
      "|     12|2011-01-01 00:00:00|     1|  0|   1| 11|      0|      6|         0|         1|0.36|0.3333|0.81|   0.2836|    26|        30| 56|\n",
      "|     13|2011-01-01 00:00:00|     1|  0|   1| 12|      0|      6|         0|         1|0.42|0.4242|0.77|   0.2836|    29|        55| 84|\n",
      "|     14|2011-01-01 00:00:00|     1|  0|   1| 13|      0|      6|         0|         2|0.46|0.4545|0.72|   0.2985|    47|        47| 94|\n",
      "|     15|2011-01-01 00:00:00|     1|  0|   1| 14|      0|      6|         0|         2|0.46|0.4545|0.72|   0.2836|    35|        71|106|\n",
      "|     16|2011-01-01 00:00:00|     1|  0|   1| 15|      0|      6|         0|         2|0.44|0.4394|0.77|   0.2985|    40|        70|110|\n",
      "|     17|2011-01-01 00:00:00|     1|  0|   1| 16|      0|      6|         0|         2|0.42|0.4242|0.82|   0.2985|    41|        52| 93|\n",
      "|     18|2011-01-01 00:00:00|     1|  0|   1| 17|      0|      6|         0|         2|0.44|0.4394|0.82|   0.2836|    15|        52| 67|\n",
      "|     19|2011-01-01 00:00:00|     1|  0|   1| 18|      0|      6|         0|         3|0.42|0.4242|0.88|   0.2537|     9|        26| 35|\n",
      "|     20|2011-01-01 00:00:00|     1|  0|   1| 19|      0|      6|         0|         3|0.42|0.4242|0.88|   0.2537|     6|        31| 37|\n",
      "+-------+-------------------+------+---+----+---+-------+-------+----------+----------+----+------+----+---------+------+----------+---+\n",
      "only showing top 20 rows"
     ]
    }
   ],
   "source": [
    "bike_rental.show()"
   ]
  },
  {
   "cell_type": "markdown",
   "metadata": {},
   "source": [
    "# Checking for null values"
   ]
  },
  {
   "cell_type": "code",
   "execution_count": 4,
   "metadata": {},
   "outputs": [
    {
     "data": {
      "application/vnd.jupyter.widget-view+json": {
       "model_id": "06600a9830494523bad0cce3758e26c6",
       "version_major": 2,
       "version_minor": 0
      },
      "text/plain": [
       "VBox()"
      ]
     },
     "metadata": {},
     "output_type": "display_data"
    },
    {
     "data": {
      "application/vnd.jupyter.widget-view+json": {
       "model_id": "",
       "version_major": 2,
       "version_minor": 0
      },
      "text/plain": [
       "FloatProgress(value=0.0, bar_style='info', description='Progress:', layout=Layout(height='25px', width='50%'),…"
      ]
     },
     "metadata": {},
     "output_type": "display_data"
    },
    {
     "name": "stdout",
     "output_type": "stream",
     "text": [
      "0"
     ]
    }
   ],
   "source": [
    "bike_rental.rdd.map(\n",
    "           lambda row: (\n",
    "                 row['instant']\n",
    "               , sum([c == None for c in row])\n",
    "           )\n",
    "        )\\\n",
    "        .filter(lambda el: el[1] >= 1)\\\n",
    "        .count()"
   ]
  },
  {
   "cell_type": "markdown",
   "metadata": {},
   "source": [
    "There are no rows with missing values. We have a complete dataset, we can move forward."
   ]
  },
  {
   "cell_type": "code",
   "execution_count": 5,
   "metadata": {},
   "outputs": [
    {
     "data": {
      "application/vnd.jupyter.widget-view+json": {
       "model_id": "c0d9682c4dca481fac5b31b4a0d20979",
       "version_major": 2,
       "version_minor": 0
      },
      "text/plain": [
       "VBox()"
      ]
     },
     "metadata": {},
     "output_type": "display_data"
    },
    {
     "data": {
      "application/vnd.jupyter.widget-view+json": {
       "model_id": "",
       "version_major": 2,
       "version_minor": 0
      },
      "text/plain": [
       "FloatProgress(value=0.0, bar_style='info', description='Progress:', layout=Layout(height='25px', width='50%'),…"
      ]
     },
     "metadata": {},
     "output_type": "display_data"
    },
    {
     "name": "stdout",
     "output_type": "stream",
     "text": [
      "root\n",
      " |-- instant: integer (nullable = true)\n",
      " |-- dteday: timestamp (nullable = true)\n",
      " |-- season: integer (nullable = true)\n",
      " |-- yr: integer (nullable = true)\n",
      " |-- mnth: integer (nullable = true)\n",
      " |-- hr: integer (nullable = true)\n",
      " |-- holiday: integer (nullable = true)\n",
      " |-- weekday: integer (nullable = true)\n",
      " |-- workingday: integer (nullable = true)\n",
      " |-- weathersit: integer (nullable = true)\n",
      " |-- temp: double (nullable = true)\n",
      " |-- atemp: double (nullable = true)\n",
      " |-- hum: double (nullable = true)\n",
      " |-- windspeed: double (nullable = true)\n",
      " |-- casual: integer (nullable = true)\n",
      " |-- registered: integer (nullable = true)\n",
      " |-- cnt: integer (nullable = true)"
     ]
    }
   ],
   "source": [
    "bike_rental.printSchema()"
   ]
  },
  {
   "cell_type": "markdown",
   "metadata": {},
   "source": [
    "## we will get the count and compare with the distinct count to see if there are any duplicates in our rows"
   ]
  },
  {
   "cell_type": "code",
   "execution_count": 6,
   "metadata": {},
   "outputs": [
    {
     "data": {
      "application/vnd.jupyter.widget-view+json": {
       "model_id": "e5cf6447c20049f696385670f8fa1a4a",
       "version_major": 2,
       "version_minor": 0
      },
      "text/plain": [
       "VBox()"
      ]
     },
     "metadata": {},
     "output_type": "display_data"
    },
    {
     "data": {
      "application/vnd.jupyter.widget-view+json": {
       "model_id": "",
       "version_major": 2,
       "version_minor": 0
      },
      "text/plain": [
       "FloatProgress(value=0.0, bar_style='info', description='Progress:', layout=Layout(height='25px', width='50%'),…"
      ]
     },
     "metadata": {},
     "output_type": "display_data"
    },
    {
     "name": "stdout",
     "output_type": "stream",
     "text": [
      "(17379, 17379)"
     ]
    }
   ],
   "source": [
    "# do we have any rows that are duplicated?\n",
    "bike_rental.count(), bike_rental.distinct().count()"
   ]
  },
  {
   "cell_type": "markdown",
   "metadata": {},
   "source": [
    "### we don't have any duplicates or missing values in our dataset"
   ]
  },
  {
   "cell_type": "markdown",
   "metadata": {},
   "source": [
    "# Checking dataset for outliers"
   ]
  },
  {
   "cell_type": "code",
   "execution_count": 7,
   "metadata": {},
   "outputs": [
    {
     "data": {
      "application/vnd.jupyter.widget-view+json": {
       "model_id": "269cf76b4a834c689ff76a95eccd43c7",
       "version_major": 2,
       "version_minor": 0
      },
      "text/plain": [
       "VBox()"
      ]
     },
     "metadata": {},
     "output_type": "display_data"
    },
    {
     "data": {
      "application/vnd.jupyter.widget-view+json": {
       "model_id": "",
       "version_major": 2,
       "version_minor": 0
      },
      "text/plain": [
       "FloatProgress(value=0.0, bar_style='info', description='Progress:', layout=Layout(height='25px', width='50%'),…"
      ]
     },
     "metadata": {},
     "output_type": "display_data"
    },
    {
     "name": "stdout",
     "output_type": "stream",
     "text": [
      "season [2.0, 3.0]\n",
      "mnth [4.0, 9.0]\n",
      "hr [6.0, 17.0]\n",
      "holiday [0.0, 0.0]\n",
      "weekday [1.0, 5.0]\n",
      "weathersit [1.0, 2.0]\n",
      "temp [0.34, 0.64]\n",
      "atemp [0.3333, 0.6061]\n",
      "hum [0.48, 0.77]\n",
      "windspeed [0.1045, 0.2537]\n",
      "cnt [44.0, 255.0]\n",
      "+-------+--------+------+-----+---------+---------+------------+------+-------+-----+-----------+-----+\n",
      "|instant|season_o|mnth_o| hr_o|holiday_o|weekday_o|weathersit_o|temp_o|atemp_o|hum_o|windspeed_o|cnt_o|\n",
      "+-------+--------+------+-----+---------+---------+------------+------+-------+-----+-----------+-----+\n",
      "|      1|   false| false|false|    false|    false|       false| false|  false|false|      false|false|\n",
      "|      2|   false| false|false|    false|    false|       false| false|  false|false|      false|false|\n",
      "|      3|   false| false|false|    false|    false|       false| false|  false|false|      false|false|\n",
      "|      4|   false| false|false|    false|    false|       false| false|  false|false|      false|false|\n",
      "|      5|   false| false|false|    false|    false|       false| false|  false|false|      false|false|\n",
      "|      6|   false| false|false|    false|    false|       false| false|  false|false|      false|false|\n",
      "|      7|   false| false|false|    false|    false|       false| false|  false|false|      false|false|\n",
      "|      8|   false| false|false|    false|    false|       false| false|  false|false|      false|false|\n",
      "|      9|   false| false|false|    false|    false|       false| false|  false|false|      false|false|\n",
      "|     10|   false| false|false|    false|    false|       false| false|  false|false|      false|false|\n",
      "|     11|   false| false|false|    false|    false|       false| false|  false|false|      false|false|\n",
      "|     12|   false| false|false|    false|    false|       false| false|  false|false|      false|false|\n",
      "|     13|   false| false|false|    false|    false|       false| false|  false|false|      false|false|\n",
      "|     14|   false| false|false|    false|    false|       false| false|  false|false|      false|false|\n",
      "|     15|   false| false|false|    false|    false|       false| false|  false|false|      false|false|\n",
      "|     16|   false| false|false|    false|    false|       false| false|  false|false|      false|false|\n",
      "|     17|   false| false|false|    false|    false|       false| false|  false|false|      false|false|\n",
      "|     18|   false| false|false|    false|    false|       false| false|  false|false|      false|false|\n",
      "|     19|   false| false|false|    false|    false|       false| false|  false|false|      false|false|\n",
      "|     20|   false| false|false|    false|    false|       false| false|  false|false|      false|false|\n",
      "+-------+--------+------+-----+---------+---------+------------+------+-------+-----+-----------+-----+\n",
      "only showing top 20 rows"
     ]
    }
   ],
   "source": [
    "features = ['season','mnth','hr','holiday','weekday','weathersit','temp','atemp','hum','windspeed', 'cnt']\n",
    "quantiles = [0.25, 0.75]\n",
    "\n",
    "cut_off_points = []\n",
    "\n",
    "#getting Q1 and Q3\n",
    "#The third parameter, set to 0.05, is relative target precision to achieve (>= 0).\n",
    "#If set to zero, the exact quantiles are computed, which could be very expensive. \n",
    "for feature in features:\n",
    "    quants = bike_rental.approxQuantile(feature, quantiles, 0.05)\n",
    "    print(feature, quants)\n",
    "    IQR = quants[1] - quants[0]\n",
    "    cut_off_points.append((feature, [\n",
    "        quants[0] - 1.5 * IQR,\n",
    "        quants[1] + 1.5 * IQR,\n",
    "    ]))\n",
    "\n",
    "cut_off_points = dict(cut_off_points)\n",
    "\n",
    "outliers = bike_rental.select(*['instant'] + [\n",
    "       (\n",
    "           (bike_rental[f] < cut_off_points[f][0]) |\n",
    "           (bike_rental[f] > cut_off_points[f][1])\n",
    "       ).alias(f + '_o') for f in features\n",
    "  ])\n",
    "outliers.show()"
   ]
  },
  {
   "cell_type": "code",
   "execution_count": 8,
   "metadata": {},
   "outputs": [
    {
     "data": {
      "application/vnd.jupyter.widget-view+json": {
       "model_id": "d5badf2ec11740b69650befbdd330bc8",
       "version_major": 2,
       "version_minor": 0
      },
      "text/plain": [
       "VBox()"
      ]
     },
     "metadata": {},
     "output_type": "display_data"
    },
    {
     "data": {
      "application/vnd.jupyter.widget-view+json": {
       "model_id": "",
       "version_major": 2,
       "version_minor": 0
      },
      "text/plain": [
       "FloatProgress(value=0.0, bar_style='info', description='Progress:', layout=Layout(height='25px', width='50%'),…"
      ]
     },
     "metadata": {},
     "output_type": "display_data"
    },
    {
     "name": "stdout",
     "output_type": "stream",
     "text": [
      "+------+----+---+-------+-------+----------+----+------+----+---------+---+\n",
      "|season|mnth| hr|holiday|weekday|weathersit|temp| atemp| hum|windspeed|cnt|\n",
      "+------+----+---+-------+-------+----------+----+------+----+---------+---+\n",
      "|     1|   1| 14|      0|      6|         1| 0.2|0.1667|0.32|   0.4925| 95|\n",
      "|     1|   1| 17|      0|      6|         1|0.16|0.1212|0.37|   0.5522| 69|\n",
      "|     1|   1|  9|      0|      0|         1|0.12|0.0758|0.46|   0.5224| 19|\n",
      "|     1|   1| 11|      0|      0|         1|0.16|0.1212| 0.4|   0.5224| 49|\n",
      "|     1|   1| 12|      0|      3|         1| 0.2|0.1515|0.47|   0.5821| 55|\n",
      "|     1|   1| 18|      0|      3|         1| 0.2|0.1515|0.47|   0.5224|137|\n",
      "|     1|   1|  0|      1|      1|         2| 0.2| 0.197|0.47|   0.2239| 17|\n",
      "|     1|   1|  1|      1|      1|         2| 0.2| 0.197|0.44|    0.194| 16|\n",
      "|     1|   1|  2|      1|      1|         2|0.18|0.1667|0.43|   0.2537|  8|\n",
      "|     1|   1|  3|      1|      1|         2|0.18|0.1818|0.43|    0.194|  2|\n",
      "|     1|   1|  4|      1|      1|         2|0.18| 0.197|0.43|   0.1343|  3|\n",
      "|     1|   1|  5|      1|      1|         2|0.18| 0.197|0.43|   0.1642|  1|\n",
      "|     1|   1|  6|      1|      1|         2|0.18|0.1818|0.43|    0.194|  5|\n",
      "|     1|   1|  7|      1|      1|         2|0.16|0.1818| 0.5|   0.1343| 13|\n",
      "|     1|   1|  8|      1|      1|         2|0.16|0.1515|0.47|   0.2239| 33|\n",
      "|     1|   1|  9|      1|      1|         2|0.16|0.1515|0.47|   0.2239| 47|\n",
      "|     1|   1| 10|      1|      1|         2|0.16|0.1515| 0.5|   0.2537| 57|\n",
      "|     1|   1| 11|      1|      1|         2|0.16|0.1515|0.55|    0.194| 64|\n",
      "|     1|   1| 12|      1|      1|         2|0.18| 0.197|0.47|   0.1343| 80|\n",
      "|     1|   1| 13|      1|      1|         2|0.18| 0.197|0.47|   0.1343| 93|\n",
      "+------+----+---+-------+-------+----------+----+------+----+---------+---+\n",
      "only showing top 20 rows"
     ]
    }
   ],
   "source": [
    "#show the rows containing outliers\n",
    "with_outliers_flag = bike_rental.join(outliers, on='instant')\n",
    "\n",
    "(\n",
    "    with_outliers_flag\n",
    "    .filter('season_o OR mnth_o OR hr_o OR holiday_o OR weekday_o OR weathersit_o OR temp_o OR atemp_o OR hum_o OR windspeed_o OR cnt_o ')\n",
    "    .select('season','mnth','hr','holiday','weekday','weathersit','temp','atemp','hum','windspeed', 'cnt')\n",
    "    .show()\n",
    ")"
   ]
  },
  {
   "cell_type": "code",
   "execution_count": 9,
   "metadata": {},
   "outputs": [
    {
     "data": {
      "application/vnd.jupyter.widget-view+json": {
       "model_id": "c7cd2f8d8cb64039b81d48b4389181d8",
       "version_major": 2,
       "version_minor": 0
      },
      "text/plain": [
       "VBox()"
      ]
     },
     "metadata": {},
     "output_type": "display_data"
    },
    {
     "data": {
      "application/vnd.jupyter.widget-view+json": {
       "model_id": "",
       "version_major": 2,
       "version_minor": 0
      },
      "text/plain": [
       "FloatProgress(value=0.0, bar_style='info', description='Progress:', layout=Layout(height='25px', width='50%'),…"
      ]
     },
     "metadata": {},
     "output_type": "display_data"
    }
   ],
   "source": [
    "#We do have some outliers"
   ]
  },
  {
   "cell_type": "markdown",
   "metadata": {},
   "source": [
    "## we didnt get rid of any outliers because we want to observe our accuracy on the entire dataset and we want to improve our model after capturing the entire dataset"
   ]
  },
  {
   "cell_type": "code",
   "execution_count": 10,
   "metadata": {
    "scrolled": true
   },
   "outputs": [
    {
     "data": {
      "application/vnd.jupyter.widget-view+json": {
       "model_id": "ce18114f640f4e189a4d7f4a69cad216",
       "version_major": 2,
       "version_minor": 0
      },
      "text/plain": [
       "VBox()"
      ]
     },
     "metadata": {},
     "output_type": "display_data"
    },
    {
     "data": {
      "application/vnd.jupyter.widget-view+json": {
       "model_id": "",
       "version_major": 2,
       "version_minor": 0
      },
      "text/plain": [
       "FloatProgress(value=0.0, bar_style='info', description='Progress:', layout=Layout(height='25px', width='50%'),…"
      ]
     },
     "metadata": {},
     "output_type": "display_data"
    },
    {
     "name": "stdout",
     "output_type": "stream",
     "text": [
      "+-------+------------------+-------------------+------------------+-------------------+-------------------+\n",
      "|summary|               cnt|               temp|             atemp|                hum|          windspeed|\n",
      "+-------+------------------+-------------------+------------------+-------------------+-------------------+\n",
      "|  count|             17379|              17379|             17379|              17379|              17379|\n",
      "|   mean|189.46308763450142| 0.4969871684216586|0.4757751021347581| 0.6272288394038822| 0.1900976063064631|\n",
      "| stddev| 181.3875990918646|0.19255612124972202|0.1718502156353594|0.19292983406291458|0.12234022857279034|\n",
      "|    min|                 1|               0.02|               0.0|                0.0|                0.0|\n",
      "|    max|               977|                1.0|               1.0|                1.0|             0.8507|\n",
      "+-------+------------------+-------------------+------------------+-------------------+-------------------+"
     ]
    }
   ],
   "source": [
    "#describe numeric features\n",
    "features = ['cnt', 'temp', 'atemp', 'hum', 'windspeed']\n",
    "descriptive_stats = bike_rental.describe(features)\n",
    "descriptive_stats.show()"
   ]
  },
  {
   "cell_type": "markdown",
   "metadata": {},
   "source": [
    "# You can see that temp, atemp, hum, and windspeed are all normalized which should assist in developing our model"
   ]
  },
  {
   "cell_type": "code",
   "execution_count": 11,
   "metadata": {},
   "outputs": [
    {
     "data": {
      "application/vnd.jupyter.widget-view+json": {
       "model_id": "821c445c187045179d8a15f0f3a5867c",
       "version_major": 2,
       "version_minor": 0
      },
      "text/plain": [
       "VBox()"
      ]
     },
     "metadata": {},
     "output_type": "display_data"
    },
    {
     "data": {
      "application/vnd.jupyter.widget-view+json": {
       "model_id": "",
       "version_major": 2,
       "version_minor": 0
      },
      "text/plain": [
       "FloatProgress(value=0.0, bar_style='info', description='Progress:', layout=Layout(height='25px', width='50%'),…"
      ]
     },
     "metadata": {},
     "output_type": "display_data"
    },
    {
     "name": "stdout",
     "output_type": "stream",
     "text": [
      "+-------+-----------------+------------------+------------------+------------------+------------------+--------------------+-----------------+------------------+------------------+-------------------+------------------+-------------------+-------------------+-----------------+------------------+------------------+\n",
      "|summary|          instant|            season|                yr|              mnth|                hr|             holiday|          weekday|        workingday|        weathersit|               temp|             atemp|                hum|          windspeed|           casual|        registered|               cnt|\n",
      "+-------+-----------------+------------------+------------------+------------------+------------------+--------------------+-----------------+------------------+------------------+-------------------+------------------+-------------------+-------------------+-----------------+------------------+------------------+\n",
      "|  count|            17379|             17379|             17379|             17379|             17379|               17379|            17379|             17379|             17379|              17379|             17379|              17379|              17379|            17379|             17379|             17379|\n",
      "|   mean|           8690.0|2.5016399102364923|0.5025605615973301| 6.537775476149376|11.546751826917545|0.028770355026181024|3.003682605443351|0.6827205247712756| 1.425283387997008| 0.4969871684216586|0.4757751021347581| 0.6272288394038822| 0.1900976063064631|35.67621842453536|153.78686920996606|189.46308763450142|\n",
      "| stddev|5017.029499614288|  1.10691813944808|0.5000078290910193|3.4387757137501724|6.9144050952644776|  0.1671652763843717|2.005771456110986|0.4654306335238818|0.6393568777542525|0.19255612124972202|0.1718502156353594|0.19292983406291458|0.12234022857279034|49.30503038705298|151.35728591258325| 181.3875990918646|\n",
      "|    min|                1|                 1|                 0|                 1|                 0|                   0|                0|                 0|                 1|               0.02|               0.0|                0.0|                0.0|                0|                 0|                 1|\n",
      "|    max|            17379|                 4|                 1|                12|                23|                   1|                6|                 1|                 4|                1.0|               1.0|                1.0|             0.8507|              367|               886|               977|\n",
      "+-------+-----------------+------------------+------------------+------------------+------------------+--------------------+-----------------+------------------+------------------+-------------------+------------------+-------------------+-------------------+-----------------+------------------+------------------+"
     ]
    }
   ],
   "source": [
    "#describe all columns\n",
    "descriptive_stats_all = bike_rental.describe()\n",
    "descriptive_stats_all.show()"
   ]
  },
  {
   "cell_type": "markdown",
   "metadata": {},
   "source": [
    "## after observing our data, we saw that our values for our numeric variables were already normalized, therefore we don't need it to normalize for our regression model. We may need to go back and use the index to get the original values if we plan to use a different method."
   ]
  },
  {
   "cell_type": "code",
   "execution_count": 12,
   "metadata": {
    "scrolled": true
   },
   "outputs": [
    {
     "data": {
      "application/vnd.jupyter.widget-view+json": {
       "model_id": "17d88e1566c84cb2b0dd45abb1984444",
       "version_major": 2,
       "version_minor": 0
      },
      "text/plain": [
       "VBox()"
      ]
     },
     "metadata": {},
     "output_type": "display_data"
    },
    {
     "data": {
      "application/vnd.jupyter.widget-view+json": {
       "model_id": "",
       "version_major": 2,
       "version_minor": 0
      },
      "text/plain": [
       "FloatProgress(value=0.0, bar_style='info', description='Progress:', layout=Layout(height='25px', width='50%'),…"
      ]
     },
     "metadata": {},
     "output_type": "display_data"
    },
    {
     "name": "stdout",
     "output_type": "stream",
     "text": [
      "Correlation to CNT for  season 0.17805573098267663\n",
      "Correlation to CNT for  mnth 0.12063776021315141\n",
      "Correlation to CNT for  hr 0.3940714977829419\n",
      "Correlation to CNT for  workingday 0.030284367747910726\n",
      "Correlation to CNT for  weathersit -0.14242613813809568\n",
      "Correlation to CNT for  temp 0.4047722757786578\n",
      "Correlation to CNT for  atemp 0.40092930412663574\n",
      "Correlation to CNT for  hum -0.32291074082456017\n",
      "Correlation to CNT for  windspeed 0.09323378392612537\n",
      "Correlation to CNT for  cnt 1.0"
     ]
    }
   ],
   "source": [
    "import pyspark.mllib.stat as st\n",
    "import numpy as np\n",
    "\n",
    "independent_variables = ['season','mnth','hr','workingday','weathersit','temp','atemp','hum','windspeed']\n",
    "dependent_variable = ['cnt']\n",
    "bike_sharing_df = bike_rental.select(independent_variables + dependent_variable)\n",
    "for i in bike_sharing_df.columns:\n",
    "    print(\"Correlation to CNT for \", i, bike_rental.stat.corr('cnt', i))"
   ]
  },
  {
   "cell_type": "markdown",
   "metadata": {},
   "source": [
    "# Histogram for temperature and count."
   ]
  },
  {
   "cell_type": "code",
   "execution_count": 13,
   "metadata": {},
   "outputs": [
    {
     "data": {
      "application/vnd.jupyter.widget-view+json": {
       "model_id": "4a1a16102155467d87883d49a489f6bf",
       "version_major": 2,
       "version_minor": 0
      },
      "text/plain": [
       "VBox()"
      ]
     },
     "metadata": {},
     "output_type": "display_data"
    },
    {
     "data": {
      "application/vnd.jupyter.widget-view+json": {
       "model_id": "",
       "version_major": 2,
       "version_minor": 0
      },
      "text/plain": [
       "FloatProgress(value=0.0, bar_style='info', description='Progress:', layout=Layout(height='25px', width='50%'),…"
      ]
     },
     "metadata": {},
     "output_type": "display_data"
    }
   ],
   "source": [
    "#generate bins and count of each bin\n",
    "histogram_temp = (\n",
    "    bike_sharing_df\n",
    "    .select('temp')\n",
    "    .rdd\n",
    "    .flatMap(lambda record: record)\n",
    "    .histogram(5)\n",
    ")"
   ]
  },
  {
   "cell_type": "code",
   "execution_count": 14,
   "metadata": {},
   "outputs": [
    {
     "data": {
      "application/vnd.jupyter.widget-view+json": {
       "model_id": "22f6329d950f48329bf2926c49af53f5",
       "version_major": 2,
       "version_minor": 0
      },
      "text/plain": [
       "VBox()"
      ]
     },
     "metadata": {},
     "output_type": "display_data"
    },
    {
     "data": {
      "application/vnd.jupyter.widget-view+json": {
       "model_id": "",
       "version_major": 2,
       "version_minor": 0
      },
      "text/plain": [
       "FloatProgress(value=0.0, bar_style='info', description='Progress:', layout=Layout(height='25px', width='50%'),…"
      ]
     },
     "metadata": {},
     "output_type": "display_data"
    },
    {
     "name": "stdout",
     "output_type": "stream",
     "text": [
      "[0.02, 0.216, 0.41200000000000003, 0.6080000000000001, 0.804, 1.0]\n",
      "[1070, 5357, 5117, 5126, 709]\n",
      "([0.02, 0.216, 0.41200000000000003, 0.6080000000000001, 0.804, 1.0], [1070, 5357, 5117, 5126, 709])"
     ]
    }
   ],
   "source": [
    "#.histogram() generates two arrays: \n",
    "#1) list of bin bounds, \n",
    "#2) count of elements in corresponding bin\n",
    "for i in histogram_temp:\n",
    "    print(i)\n",
    "    \n",
    "histogram_temp"
   ]
  },
  {
   "cell_type": "code",
   "execution_count": 15,
   "metadata": {},
   "outputs": [
    {
     "data": {
      "application/vnd.jupyter.widget-view+json": {
       "model_id": "f83f81b34c024e2f9c114c41f02ba53f",
       "version_major": 2,
       "version_minor": 0
      },
      "text/plain": [
       "VBox()"
      ]
     },
     "metadata": {},
     "output_type": "display_data"
    },
    {
     "data": {
      "application/vnd.jupyter.widget-view+json": {
       "model_id": "",
       "version_major": 2,
       "version_minor": 0
      },
      "text/plain": [
       "FloatProgress(value=0.0, bar_style='info', description='Progress:', layout=Layout(height='25px', width='50%'),…"
      ]
     },
     "metadata": {},
     "output_type": "display_data"
    },
    {
     "name": "stdout",
     "output_type": "stream",
     "text": [
      "[0.02,0.22)\n",
      "[0.22,0.41)\n",
      "[0.41,0.61)\n",
      "[0.61,0.8)\n",
      "[0.8,1.0)"
     ]
    }
   ],
   "source": [
    "#display bin ranges\n",
    "for i in range(len(histogram_temp[0])-1):\n",
    "    print('[' + str(round(histogram_temp[0][i],2))\n",
    "        + ',' + str(round(histogram_temp[0][i+1],2))\n",
    "          + ')'\n",
    "         )"
   ]
  },
  {
   "cell_type": "code",
   "execution_count": 16,
   "metadata": {},
   "outputs": [
    {
     "data": {
      "application/vnd.jupyter.widget-view+json": {
       "model_id": "046ad227d2c0473e8b29c7077cf4cd7d",
       "version_major": 2,
       "version_minor": 0
      },
      "text/plain": [
       "VBox()"
      ]
     },
     "metadata": {},
     "output_type": "display_data"
    },
    {
     "data": {
      "application/vnd.jupyter.widget-view+json": {
       "model_id": "",
       "version_major": 2,
       "version_minor": 0
      },
      "text/plain": [
       "FloatProgress(value=0.0, bar_style='info', description='Progress:', layout=Layout(height='25px', width='50%'),…"
      ]
     },
     "metadata": {},
     "output_type": "display_data"
    },
    {
     "name": "stdout",
     "output_type": "stream",
     "text": [
      "[(0.02, 1070), (0.216, 5357), (0.41200000000000003, 5117), (0.6080000000000001, 5126), (0.804, 709)]"
     ]
    }
   ],
   "source": [
    "#symbol * unpacks histogram_MPG and passes the two compoonents to zip as parameters\n",
    "#zip(*histogram_MPG) = zip(histogram_MPG[0], histogram_MPG[1])\n",
    "sorted(zip(*histogram_temp))"
   ]
  },
  {
   "cell_type": "code",
   "execution_count": 17,
   "metadata": {},
   "outputs": [
    {
     "data": {
      "application/vnd.jupyter.widget-view+json": {
       "model_id": "",
       "version_major": 2,
       "version_minor": 0
      },
      "text/plain": [
       "FloatProgress(value=0.0, bar_style='info', description='Progress:', layout=Layout(height='25px', width='50%'),…"
      ]
     },
     "metadata": {},
     "output_type": "display_data"
    },
    {
     "data": {
      "application/vnd.jupyter.widget-view+json": {
       "model_id": "",
       "version_major": 2,
       "version_minor": 0
      },
      "text/plain": [
       "FloatProgress(value=0.0, bar_style='info', description='Progress:', layout=Layout(height='25px', width='50%'),…"
      ]
     },
     "metadata": {},
     "output_type": "display_data"
    }
   ],
   "source": [
    "%%spark -o hist_temp \n",
    "#The above Spark magic exports hist_MPG to local node running the notebook\n",
    "#So that we can use the local object to draw a histogram\n",
    "import pandas as pd\n",
    "hist_temp =  spark.createDataFrame(\n",
    "    list(zip(*histogram_temp)), \n",
    "    ['bins', 'counts'])"
   ]
  },
  {
   "cell_type": "code",
   "execution_count": 18,
   "metadata": {},
   "outputs": [
    {
     "data": {
      "image/png": "[encoded data removed]",
      "text/plain": [
       "<Figure size 432x288 with 1 Axes>"
      ]
     },
     "metadata": {
      "needs_background": "light"
     },
     "output_type": "display_data"
    }
   ],
   "source": [
    "%matplotlib inline\n",
    "import matplotlib\n",
    "import matplotlib.pyplot as plt\n",
    "hist_temp.set_index('bins'\n",
    "            ).plot(kind='bar')\n",
    "plt.show()"
   ]
  },
  {
   "cell_type": "markdown",
   "metadata": {},
   "source": [
    "## as expected, we see that there are far fewer rentals in temperatures that were low or high (compared to other values because the temperatures were normalized in the dataset. (change bin labels to easier names?) "
   ]
  },
  {
   "cell_type": "markdown",
   "metadata": {},
   "source": [
    "# Histogram for count and weather situation"
   ]
  },
  {
   "cell_type": "code",
   "execution_count": 19,
   "metadata": {},
   "outputs": [
    {
     "data": {
      "application/vnd.jupyter.widget-view+json": {
       "model_id": "7187aab4c69d4b13b5bcd84f9d11e116",
       "version_major": 2,
       "version_minor": 0
      },
      "text/plain": [
       "VBox()"
      ]
     },
     "metadata": {},
     "output_type": "display_data"
    },
    {
     "data": {
      "application/vnd.jupyter.widget-view+json": {
       "model_id": "",
       "version_major": 2,
       "version_minor": 0
      },
      "text/plain": [
       "FloatProgress(value=0.0, bar_style='info', description='Progress:', layout=Layout(height='25px', width='50%'),…"
      ]
     },
     "metadata": {},
     "output_type": "display_data"
    }
   ],
   "source": [
    "#generate bins and count of each bin\n",
    "histogram_weathersit = (\n",
    "    bike_sharing_df\n",
    "    .select('weathersit')\n",
    "    .rdd\n",
    "    .flatMap(lambda record: record)\n",
    "    .histogram(4)\n",
    ")"
   ]
  },
  {
   "cell_type": "code",
   "execution_count": 20,
   "metadata": {},
   "outputs": [
    {
     "data": {
      "application/vnd.jupyter.widget-view+json": {
       "model_id": "b8deaca49f8946b58a78b61a62bfe3d3",
       "version_major": 2,
       "version_minor": 0
      },
      "text/plain": [
       "VBox()"
      ]
     },
     "metadata": {},
     "output_type": "display_data"
    },
    {
     "data": {
      "application/vnd.jupyter.widget-view+json": {
       "model_id": "",
       "version_major": 2,
       "version_minor": 0
      },
      "text/plain": [
       "FloatProgress(value=0.0, bar_style='info', description='Progress:', layout=Layout(height='25px', width='50%'),…"
      ]
     },
     "metadata": {},
     "output_type": "display_data"
    },
    {
     "name": "stdout",
     "output_type": "stream",
     "text": [
      "[1.0, 1.75, 2.5, 3.25, 4]\n",
      "[11413, 4544, 1419, 3]\n",
      "([1.0, 1.75, 2.5, 3.25, 4], [11413, 4544, 1419, 3])"
     ]
    }
   ],
   "source": [
    "for i in histogram_weathersit:\n",
    "    print(i)\n",
    "    \n",
    "histogram_weathersit"
   ]
  },
  {
   "cell_type": "code",
   "execution_count": 21,
   "metadata": {},
   "outputs": [
    {
     "data": {
      "application/vnd.jupyter.widget-view+json": {
       "model_id": "fe2f6d7037d045a987992c39c40172cb",
       "version_major": 2,
       "version_minor": 0
      },
      "text/plain": [
       "VBox()"
      ]
     },
     "metadata": {},
     "output_type": "display_data"
    },
    {
     "data": {
      "application/vnd.jupyter.widget-view+json": {
       "model_id": "",
       "version_major": 2,
       "version_minor": 0
      },
      "text/plain": [
       "FloatProgress(value=0.0, bar_style='info', description='Progress:', layout=Layout(height='25px', width='50%'),…"
      ]
     },
     "metadata": {},
     "output_type": "display_data"
    },
    {
     "name": "stdout",
     "output_type": "stream",
     "text": [
      "[1.0,1.75)\n",
      "[1.75,2.5)\n",
      "[2.5,3.25)\n",
      "[3.25,4)"
     ]
    }
   ],
   "source": [
    "#display bin ranges\n",
    "for i in range(len(histogram_weathersit[0])-1):\n",
    "    print('[' + str(round(histogram_weathersit[0][i],2))\n",
    "        + ',' + str(round(histogram_weathersit[0][i+1],2))\n",
    "          + ')'\n",
    "         )"
   ]
  },
  {
   "cell_type": "code",
   "execution_count": 22,
   "metadata": {},
   "outputs": [
    {
     "data": {
      "application/vnd.jupyter.widget-view+json": {
       "model_id": "315d5b562990435caef7026314cf2a0d",
       "version_major": 2,
       "version_minor": 0
      },
      "text/plain": [
       "VBox()"
      ]
     },
     "metadata": {},
     "output_type": "display_data"
    },
    {
     "data": {
      "application/vnd.jupyter.widget-view+json": {
       "model_id": "",
       "version_major": 2,
       "version_minor": 0
      },
      "text/plain": [
       "FloatProgress(value=0.0, bar_style='info', description='Progress:', layout=Layout(height='25px', width='50%'),…"
      ]
     },
     "metadata": {},
     "output_type": "display_data"
    },
    {
     "name": "stdout",
     "output_type": "stream",
     "text": [
      "[(1.0, 11413), (1.75, 4544), (2.5, 1419), (3.25, 3)]"
     ]
    }
   ],
   "source": [
    "#symbol * unpacks histogram_MPG and passes the two compoonents to zip as parameters\n",
    "#zip(*histogram_MPG) = zip(histogram_MPG[0], histogram_MPG[1])\n",
    "sorted(zip(*histogram_weathersit))"
   ]
  },
  {
   "cell_type": "code",
   "execution_count": 23,
   "metadata": {},
   "outputs": [
    {
     "data": {
      "application/vnd.jupyter.widget-view+json": {
       "model_id": "",
       "version_major": 2,
       "version_minor": 0
      },
      "text/plain": [
       "FloatProgress(value=0.0, bar_style='info', description='Progress:', layout=Layout(height='25px', width='50%'),…"
      ]
     },
     "metadata": {},
     "output_type": "display_data"
    },
    {
     "data": {
      "application/vnd.jupyter.widget-view+json": {
       "model_id": "",
       "version_major": 2,
       "version_minor": 0
      },
      "text/plain": [
       "FloatProgress(value=0.0, bar_style='info', description='Progress:', layout=Layout(height='25px', width='50%'),…"
      ]
     },
     "metadata": {},
     "output_type": "display_data"
    }
   ],
   "source": [
    "%%spark -o hist_weathersit \n",
    "#The above Spark magic exports hist_MPG to local node running the notebook\n",
    "#So that we can use the local object to draw a histogram\n",
    "import pandas as pd\n",
    "hist_weathersit =  spark.createDataFrame(\n",
    "    list(zip(*histogram_weathersit)), \n",
    "    ['bins', 'counts'])"
   ]
  },
  {
   "cell_type": "code",
   "execution_count": 24,
   "metadata": {},
   "outputs": [
    {
     "data": {
      "image/png": "[encoded data removed]",
      "text/plain": [
       "<Figure size 432x288 with 1 Axes>"
      ]
     },
     "metadata": {
      "needs_background": "light"
     },
     "output_type": "display_data"
    }
   ],
   "source": [
    "%matplotlib inline\n",
    "import matplotlib\n",
    "import matplotlib.pyplot as plt\n",
    "hist_weathersit.set_index('bins'\n",
    "            ).plot(kind='bar')\n",
    "plt.show()"
   ]
  },
  {
   "cell_type": "markdown",
   "metadata": {},
   "source": [
    "# histogram on count and humidity"
   ]
  },
  {
   "cell_type": "code",
   "execution_count": 25,
   "metadata": {},
   "outputs": [
    {
     "data": {
      "application/vnd.jupyter.widget-view+json": {
       "model_id": "eb1473f0851e45a69a739f971ee6a253",
       "version_major": 2,
       "version_minor": 0
      },
      "text/plain": [
       "VBox()"
      ]
     },
     "metadata": {},
     "output_type": "display_data"
    },
    {
     "data": {
      "application/vnd.jupyter.widget-view+json": {
       "model_id": "",
       "version_major": 2,
       "version_minor": 0
      },
      "text/plain": [
       "FloatProgress(value=0.0, bar_style='info', description='Progress:', layout=Layout(height='25px', width='50%'),…"
      ]
     },
     "metadata": {},
     "output_type": "display_data"
    }
   ],
   "source": [
    "#generate bins and count of each bin\n",
    "histogram_hum = (\n",
    "    bike_sharing_df\n",
    "    .select('hum')\n",
    "    .rdd\n",
    "    .flatMap(lambda record: record)\n",
    "    .histogram(4)\n",
    ")"
   ]
  },
  {
   "cell_type": "code",
   "execution_count": 26,
   "metadata": {},
   "outputs": [
    {
     "data": {
      "application/vnd.jupyter.widget-view+json": {
       "model_id": "4c162d7f9d75483c9f57f3348b359b93",
       "version_major": 2,
       "version_minor": 0
      },
      "text/plain": [
       "VBox()"
      ]
     },
     "metadata": {},
     "output_type": "display_data"
    },
    {
     "data": {
      "application/vnd.jupyter.widget-view+json": {
       "model_id": "",
       "version_major": 2,
       "version_minor": 0
      },
      "text/plain": [
       "FloatProgress(value=0.0, bar_style='info', description='Progress:', layout=Layout(height='25px', width='50%'),…"
      ]
     },
     "metadata": {},
     "output_type": "display_data"
    },
    {
     "name": "stdout",
     "output_type": "stream",
     "text": [
      "[0.0, 0.25, 0.5, 0.75, 1.0]\n",
      "[250, 4646, 7066, 5417]\n",
      "([1.0, 1.75, 2.5, 3.25, 4], [11413, 4544, 1419, 3])"
     ]
    }
   ],
   "source": [
    "for i in histogram_hum:\n",
    "    print(i)\n",
    "    \n",
    "histogram_weathersit"
   ]
  },
  {
   "cell_type": "code",
   "execution_count": 27,
   "metadata": {},
   "outputs": [
    {
     "data": {
      "application/vnd.jupyter.widget-view+json": {
       "model_id": "9a999b28f06b4580a8eaea073444b028",
       "version_major": 2,
       "version_minor": 0
      },
      "text/plain": [
       "VBox()"
      ]
     },
     "metadata": {},
     "output_type": "display_data"
    },
    {
     "data": {
      "application/vnd.jupyter.widget-view+json": {
       "model_id": "",
       "version_major": 2,
       "version_minor": 0
      },
      "text/plain": [
       "FloatProgress(value=0.0, bar_style='info', description='Progress:', layout=Layout(height='25px', width='50%'),…"
      ]
     },
     "metadata": {},
     "output_type": "display_data"
    },
    {
     "name": "stdout",
     "output_type": "stream",
     "text": [
      "[0.0,0.25)\n",
      "[0.25,0.5)\n",
      "[0.5,0.75)\n",
      "[0.75,1.0)"
     ]
    }
   ],
   "source": [
    "#display bin ranges\n",
    "for i in range(len(histogram_hum[0])-1):\n",
    "    print('[' + str(round(histogram_hum[0][i],2))\n",
    "        + ',' + str(round(histogram_hum[0][i+1],2))\n",
    "          + ')'\n",
    "         )"
   ]
  },
  {
   "cell_type": "code",
   "execution_count": 28,
   "metadata": {},
   "outputs": [
    {
     "data": {
      "application/vnd.jupyter.widget-view+json": {
       "model_id": "353fcd79f32a40c8bba10210d9a0015e",
       "version_major": 2,
       "version_minor": 0
      },
      "text/plain": [
       "VBox()"
      ]
     },
     "metadata": {},
     "output_type": "display_data"
    },
    {
     "data": {
      "application/vnd.jupyter.widget-view+json": {
       "model_id": "",
       "version_major": 2,
       "version_minor": 0
      },
      "text/plain": [
       "FloatProgress(value=0.0, bar_style='info', description='Progress:', layout=Layout(height='25px', width='50%'),…"
      ]
     },
     "metadata": {},
     "output_type": "display_data"
    },
    {
     "name": "stdout",
     "output_type": "stream",
     "text": [
      "[(0.0, 250), (0.25, 4646), (0.5, 7066), (0.75, 5417)]"
     ]
    }
   ],
   "source": [
    "#symbol * unpacks histogram_MPG and passes the two compoonents to zip as parameters\n",
    "#zip(*histogram_MPG) = zip(histogram_MPG[0], histogram_MPG[1])\n",
    "sorted(zip(*histogram_hum))"
   ]
  },
  {
   "cell_type": "code",
   "execution_count": 29,
   "metadata": {},
   "outputs": [
    {
     "data": {
      "application/vnd.jupyter.widget-view+json": {
       "model_id": "",
       "version_major": 2,
       "version_minor": 0
      },
      "text/plain": [
       "FloatProgress(value=0.0, bar_style='info', description='Progress:', layout=Layout(height='25px', width='50%'),…"
      ]
     },
     "metadata": {},
     "output_type": "display_data"
    },
    {
     "data": {
      "application/vnd.jupyter.widget-view+json": {
       "model_id": "",
       "version_major": 2,
       "version_minor": 0
      },
      "text/plain": [
       "FloatProgress(value=0.0, bar_style='info', description='Progress:', layout=Layout(height='25px', width='50%'),…"
      ]
     },
     "metadata": {},
     "output_type": "display_data"
    }
   ],
   "source": [
    "%%spark -o hist_hum \n",
    "#The above Spark magic exports hist_MPG to local node running the notebook\n",
    "#So that we can use the local object to draw a histogram\n",
    "import pandas as pd\n",
    "hist_hum =  spark.createDataFrame(\n",
    "    list(zip(*histogram_hum)), \n",
    "    ['bins', 'counts'])"
   ]
  },
  {
   "cell_type": "code",
   "execution_count": 30,
   "metadata": {},
   "outputs": [
    {
     "data": {
      "image/png": "[encoded data removed]",
      "text/plain": [
       "<Figure size 432x288 with 1 Axes>"
      ]
     },
     "metadata": {
      "needs_background": "light"
     },
     "output_type": "display_data"
    }
   ],
   "source": [
    "%matplotlib inline\n",
    "import matplotlib\n",
    "import matplotlib.pyplot as plt\n",
    "hist_hum.set_index('bins'\n",
    "            ).plot(kind='bar')\n",
    "plt.show()"
   ]
  },
  {
   "cell_type": "markdown",
   "metadata": {},
   "source": [
    "## this histogram shows that users are renting more bikes when the humidity is considered normal, however we don't see a strong, obvious relationship"
   ]
  },
  {
   "cell_type": "markdown",
   "metadata": {},
   "source": [
    "# Scatter plot for hour and count"
   ]
  },
  {
   "cell_type": "code",
   "execution_count": 31,
   "metadata": {},
   "outputs": [
    {
     "data": {
      "application/vnd.jupyter.widget-view+json": {
       "model_id": "",
       "version_major": 2,
       "version_minor": 0
      },
      "text/plain": [
       "FloatProgress(value=0.0, bar_style='info', description='Progress:', layout=Layout(height='25px', width='50%'),…"
      ]
     },
     "metadata": {},
     "output_type": "display_data"
    },
    {
     "data": {
      "application/vnd.jupyter.widget-view+json": {
       "model_id": "",
       "version_major": 2,
       "version_minor": 0
      },
      "text/plain": [
       "FloatProgress(value=0.0, bar_style='info', description='Progress:', layout=Layout(height='25px', width='50%'),…"
      ]
     },
     "metadata": {},
     "output_type": "display_data"
    }
   ],
   "source": [
    "%%spark -o scatter\n",
    "#spark magic moves dataframe to local\n",
    "scatter = (\n",
    "    bike_rental\n",
    "    .select('hr', 'cnt')\n",
    ")"
   ]
  },
  {
   "cell_type": "code",
   "execution_count": 32,
   "metadata": {},
   "outputs": [
    {
     "data": {
      "text/html": [
       "\n",
       "    <div class=\"bk-root\">\n",
       "        <a href=\"https://bokeh.org\" target=\"_blank\" class=\"bk-logo bk-logo-small bk-logo-notebook\"></a>\n",
       "        <span id=\"1001\">Loading BokehJS ...</span>\n",
       "    </div>"
      ]
     },
     "metadata": {},
     "output_type": "display_data"
    },
    {
     "data": {
      "application/javascript": [
       "\n",
       "(function(root) {\n",
       "  function now() {\n",
       "    return new Date();\n",
       "  }\n",
       "\n",
       "  var force = true;\n",
       "\n",
       "  if (typeof root._bokeh_onload_callbacks === \"undefined\" || force === true) {\n",
       "    root._bokeh_onload_callbacks = [];\n",
       "    root._bokeh_is_loading = undefined;\n",
       "  }\n",
       "\n",
       "  var JS_MIME_TYPE = 'application/javascript';\n",
       "  var HTML_MIME_TYPE = 'text/html';\n",
       "  var EXEC_MIME_TYPE = 'application/vnd.bokehjs_exec.v0+json';\n",
       "  var CLASS_NAME = 'output_bokeh rendered_html';\n",
       "\n",
       "  /**\n",
       "   * Render data to the DOM node\n",
       "   */\n",
       "  function render(props, node) {\n",
       "    var script = document.createElement(\"script\");\n",
       "    node.appendChild(script);\n",
       "  }\n",
       "\n",
       "  /**\n",
       "   * Handle when an output is cleared or removed\n",
       "   */\n",
       "  function handleClearOutput(event, handle) {\n",
       "    var cell = handle.cell;\n",
       "\n",
       "    var id = cell.output_area._bokeh_element_id;\n",
       "    var server_id = cell.output_area._bokeh_server_id;\n",
       "    // Clean up Bokeh references\n",
       "    if (id != null && id in Bokeh.index) {\n",
       "      Bokeh.index[id].model.document.clear();\n",
       "      delete Bokeh.index[id];\n",
       "    }\n",
       "\n",
       "    if (server_id !== undefined) {\n",
       "      // Clean up Bokeh references\n",
       "      var cmd = \"from bokeh.io.state import curstate; print(curstate().uuid_to_server['\" + server_id + \"'].get_sessions()[0].document.roots[0]._id)\";\n",
       "      cell.notebook.kernel.execute(cmd, {\n",
       "        iopub: {\n",
       "          output: function(msg) {\n",
       "            var id = msg.content.text.trim();\n",
       "            if (id in Bokeh.index) {\n",
       "              Bokeh.index[id].model.document.clear();\n",
       "              delete Bokeh.index[id];\n",
       "            }\n",
       "          }\n",
       "        }\n",
       "      });\n",
       "      // Destroy server and session\n",
       "      var cmd = \"import bokeh.io.notebook as ion; ion.destroy_server('\" + server_id + \"')\";\n",
       "      cell.notebook.kernel.execute(cmd);\n",
       "    }\n",
       "  }\n",
       "\n",
       "  /**\n",
       "   * Handle when a new output is added\n",
       "   */\n",
       "  function handleAddOutput(event, handle) {\n",
       "    var output_area = handle.output_area;\n",
       "    var output = handle.output;\n",
       "\n",
       "    // limit handleAddOutput to display_data with EXEC_MIME_TYPE content only\n",
       "    if ((output.output_type != \"display_data\") || (!output.data.hasOwnProperty(EXEC_MIME_TYPE))) {\n",
       "      return\n",
       "    }\n",
       "\n",
       "    var toinsert = output_area.element.find(\".\" + CLASS_NAME.split(' ')[0]);\n",
       "\n",
       "    if (output.metadata[EXEC_MIME_TYPE][\"id\"] !== undefined) {\n",
       "      toinsert[toinsert.length - 1].firstChild.textContent = output.data[JS_MIME_TYPE];\n",
       "      // store reference to embed id on output_area\n",
       "      output_area._bokeh_element_id = output.metadata[EXEC_MIME_TYPE][\"id\"];\n",
       "    }\n",
       "    if (output.metadata[EXEC_MIME_TYPE][\"server_id\"] !== undefined) {\n",
       "      var bk_div = document.createElement(\"div\");\n",
       "      bk_div.innerHTML = output.data[HTML_MIME_TYPE];\n",
       "      var script_attrs = bk_div.children[0].attributes;\n",
       "      for (var i = 0; i < script_attrs.length; i++) {\n",
       "        toinsert[toinsert.length - 1].firstChild.setAttribute(script_attrs[i].name, script_attrs[i].value);\n",
       "      }\n",
       "      // store reference to server id on output_area\n",
       "      output_area._bokeh_server_id = output.metadata[EXEC_MIME_TYPE][\"server_id\"];\n",
       "    }\n",
       "  }\n",
       "\n",
       "  function register_renderer(events, OutputArea) {\n",
       "\n",
       "    function append_mime(data, metadata, element) {\n",
       "      // create a DOM node to render to\n",
       "      var toinsert = this.create_output_subarea(\n",
       "        metadata,\n",
       "        CLASS_NAME,\n",
       "        EXEC_MIME_TYPE\n",
       "      );\n",
       "      this.keyboard_manager.register_events(toinsert);\n",
       "      // Render to node\n",
       "      var props = {data: data, metadata: metadata[EXEC_MIME_TYPE]};\n",
       "      render(props, toinsert[toinsert.length - 1]);\n",
       "      element.append(toinsert);\n",
       "      return toinsert\n",
       "    }\n",
       "\n",
       "    /* Handle when an output is cleared or removed */\n",
       "    events.on('clear_output.CodeCell', handleClearOutput);\n",
       "    events.on('delete.Cell', handleClearOutput);\n",
       "\n",
       "    /* Handle when a new output is added */\n",
       "    events.on('output_added.OutputArea', handleAddOutput);\n",
       "\n",
       "    /**\n",
       "     * Register the mime type and append_mime function with output_area\n",
       "     */\n",
       "    OutputArea.prototype.register_mime_type(EXEC_MIME_TYPE, append_mime, {\n",
       "      /* Is output safe? */\n",
       "      safe: true,\n",
       "      /* Index of renderer in `output_area.display_order` */\n",
       "      index: 0\n",
       "    });\n",
       "  }\n",
       "\n",
       "  // register the mime type if in Jupyter Notebook environment and previously unregistered\n",
       "  if (root.Jupyter !== undefined) {\n",
       "    var events = require('base/js/events');\n",
       "    var OutputArea = require('notebook/js/outputarea').OutputArea;\n",
       "\n",
       "    if (OutputArea.prototype.mime_types().indexOf(EXEC_MIME_TYPE) == -1) {\n",
       "      register_renderer(events, OutputArea);\n",
       "    }\n",
       "  }\n",
       "\n",
       "  \n",
       "  if (typeof (root._bokeh_timeout) === \"undefined\" || force === true) {\n",
       "    root._bokeh_timeout = Date.now() + 5000;\n",
       "    root._bokeh_failed_load = false;\n",
       "  }\n",
       "\n",
       "  var NB_LOAD_WARNING = {'data': {'text/html':\n",
       "     \"<div style='background-color: #fdd'>\\n\"+\n",
       "     \"<p>\\n\"+\n",
       "     \"BokehJS does not appear to have successfully loaded. If loading BokehJS from CDN, this \\n\"+\n",
       "     \"may be due to a slow or bad network connection. Possible fixes:\\n\"+\n",
       "     \"</p>\\n\"+\n",
       "     \"<ul>\\n\"+\n",
       "     \"<li>re-rerun `output_notebook()` to attempt to load from CDN again, or</li>\\n\"+\n",
       "     \"<li>use INLINE resources instead, as so:</li>\\n\"+\n",
       "     \"</ul>\\n\"+\n",
       "     \"<code>\\n\"+\n",
       "     \"from bokeh.resources import INLINE\\n\"+\n",
       "     \"output_notebook(resources=INLINE)\\n\"+\n",
       "     \"</code>\\n\"+\n",
       "     \"</div>\"}};\n",
       "\n",
       "  function display_loaded() {\n",
       "    var el = document.getElementById(\"1001\");\n",
       "    if (el != null) {\n",
       "      el.textContent = \"BokehJS is loading...\";\n",
       "    }\n",
       "    if (root.Bokeh !== undefined) {\n",
       "      if (el != null) {\n",
       "        el.textContent = \"BokehJS \" + root.Bokeh.version + \" successfully loaded.\";\n",
       "      }\n",
       "    } else if (Date.now() < root._bokeh_timeout) {\n",
       "      setTimeout(display_loaded, 100)\n",
       "    }\n",
       "  }\n",
       "\n",
       "\n",
       "  function run_callbacks() {\n",
       "    try {\n",
       "      root._bokeh_onload_callbacks.forEach(function(callback) {\n",
       "        if (callback != null)\n",
       "          callback();\n",
       "      });\n",
       "    } finally {\n",
       "      delete root._bokeh_onload_callbacks\n",
       "    }\n",
       "    console.debug(\"Bokeh: all callbacks have finished\");\n",
       "  }\n",
       "\n",
       "  function load_libs(css_urls, js_urls, callback) {\n",
       "    if (css_urls == null) css_urls = [];\n",
       "    if (js_urls == null) js_urls = [];\n",
       "\n",
       "    root._bokeh_onload_callbacks.push(callback);\n",
       "    if (root._bokeh_is_loading > 0) {\n",
       "      console.debug(\"Bokeh: BokehJS is being loaded, scheduling callback at\", now());\n",
       "      return null;\n",
       "    }\n",
       "    if (js_urls == null || js_urls.length === 0) {\n",
       "      run_callbacks();\n",
       "      return null;\n",
       "    }\n",
       "    console.debug(\"Bokeh: BokehJS not loaded, scheduling load and callback at\", now());\n",
       "    root._bokeh_is_loading = css_urls.length + js_urls.length;\n",
       "\n",
       "    function on_load() {\n",
       "      root._bokeh_is_loading--;\n",
       "      if (root._bokeh_is_loading === 0) {\n",
       "        console.debug(\"Bokeh: all BokehJS libraries/stylesheets loaded\");\n",
       "        run_callbacks()\n",
       "      }\n",
       "    }\n",
       "\n",
       "    function on_error() {\n",
       "      console.error(\"failed to load \" + url);\n",
       "    }\n",
       "\n",
       "    for (var i = 0; i < css_urls.length; i++) {\n",
       "      var url = css_urls[i];\n",
       "      const element = document.createElement(\"link\");\n",
       "      element.onload = on_load;\n",
       "      element.onerror = on_error;\n",
       "      element.rel = \"stylesheet\";\n",
       "      element.type = \"text/css\";\n",
       "      element.href = url;\n",
       "      console.debug(\"Bokeh: injecting link tag for BokehJS stylesheet: \", url);\n",
       "      document.body.appendChild(element);\n",
       "    }\n",
       "\n",
       "    for (var i = 0; i < js_urls.length; i++) {\n",
       "      var url = js_urls[i];\n",
       "      var element = document.createElement('script');\n",
       "      element.onload = on_load;\n",
       "      element.onerror = on_error;\n",
       "      element.async = false;\n",
       "      element.src = url;\n",
       "      console.debug(\"Bokeh: injecting script tag for BokehJS library: \", url);\n",
       "      document.head.appendChild(element);\n",
       "    }\n",
       "  };var element = document.getElementById(\"1001\");\n",
       "  if (element == null) {\n",
       "    console.error(\"Bokeh: ERROR: autoload.js configured with elementid '1001' but no matching script tag was found. \")\n",
       "    return false;\n",
       "  }\n",
       "\n",
       "  function inject_raw_css(css) {\n",
       "    const element = document.createElement(\"style\");\n",
       "    element.appendChild(document.createTextNode(css));\n",
       "    document.body.appendChild(element);\n",
       "  }\n",
       "\n",
       "  \n",
       "  var js_urls = [\"https://cdn.pydata.org/bokeh/release/bokeh-1.4.0.min.js\", \"https://cdn.pydata.org/bokeh/release/bokeh-widgets-1.4.0.min.js\", \"https://cdn.pydata.org/bokeh/release/bokeh-tables-1.4.0.min.js\", \"https://cdn.pydata.org/bokeh/release/bokeh-gl-1.4.0.min.js\"];\n",
       "  var css_urls = [];\n",
       "  \n",
       "\n",
       "  var inline_js = [\n",
       "    function(Bokeh) {\n",
       "      Bokeh.set_log_level(\"info\");\n",
       "    },\n",
       "    function(Bokeh) {\n",
       "    \n",
       "    \n",
       "    }\n",
       "  ];\n",
       "\n",
       "  function run_inline_js() {\n",
       "    \n",
       "    if (root.Bokeh !== undefined || force === true) {\n",
       "      \n",
       "    for (var i = 0; i < inline_js.length; i++) {\n",
       "      inline_js[i].call(root, root.Bokeh);\n",
       "    }\n",
       "    if (force === true) {\n",
       "        display_loaded();\n",
       "      }} else if (Date.now() < root._bokeh_timeout) {\n",
       "      setTimeout(run_inline_js, 100);\n",
       "    } else if (!root._bokeh_failed_load) {\n",
       "      console.log(\"Bokeh: BokehJS failed to load within specified timeout.\");\n",
       "      root._bokeh_failed_load = true;\n",
       "    } else if (force !== true) {\n",
       "      var cell = $(document.getElementById(\"1001\")).parents('.cell').data().cell;\n",
       "      cell.output_area.append_execute_result(NB_LOAD_WARNING)\n",
       "    }\n",
       "\n",
       "  }\n",
       "\n",
       "  if (root._bokeh_is_loading === 0) {\n",
       "    console.debug(\"Bokeh: BokehJS loaded, going straight to plotting\");\n",
       "    run_inline_js();\n",
       "  } else {\n",
       "    load_libs(css_urls, js_urls, function() {\n",
       "      console.debug(\"Bokeh: BokehJS plotting callback run at\", now());\n",
       "      run_inline_js();\n",
       "    });\n",
       "  }\n",
       "}(window));"
      ],
      "application/vnd.bokehjs_load.v0+json": "\n(function(root) {\n  function now() {\n    return new Date();\n  }\n\n  var force = true;\n\n  if (typeof root._bokeh_onload_callbacks === \"undefined\" || force === true) {\n    root._bokeh_onload_callbacks = [];\n    root._bokeh_is_loading = undefined;\n  }\n\n  \n\n  \n  if (typeof (root._bokeh_timeout) === \"undefined\" || force === true) {\n    root._bokeh_timeout = Date.now() + 5000;\n    root._bokeh_failed_load = false;\n  }\n\n  var NB_LOAD_WARNING = {'data': {'text/html':\n     \"<div style='background-color: #fdd'>\\n\"+\n     \"<p>\\n\"+\n     \"BokehJS does not appear to have successfully loaded. If loading BokehJS from CDN, this \\n\"+\n     \"may be due to a slow or bad network connection. Possible fixes:\\n\"+\n     \"</p>\\n\"+\n     \"<ul>\\n\"+\n     \"<li>re-rerun `output_notebook()` to attempt to load from CDN again, or</li>\\n\"+\n     \"<li>use INLINE resources instead, as so:</li>\\n\"+\n     \"</ul>\\n\"+\n     \"<code>\\n\"+\n     \"from bokeh.resources import INLINE\\n\"+\n     \"output_notebook(resources=INLINE)\\n\"+\n     \"</code>\\n\"+\n     \"</div>\"}};\n\n  function display_loaded() {\n    var el = document.getElementById(\"1001\");\n    if (el != null) {\n      el.textContent = \"BokehJS is loading...\";\n    }\n    if (root.Bokeh !== undefined) {\n      if (el != null) {\n        el.textContent = \"BokehJS \" + root.Bokeh.version + \" successfully loaded.\";\n      }\n    } else if (Date.now() < root._bokeh_timeout) {\n      setTimeout(display_loaded, 100)\n    }\n  }\n\n\n  function run_callbacks() {\n    try {\n      root._bokeh_onload_callbacks.forEach(function(callback) {\n        if (callback != null)\n          callback();\n      });\n    } finally {\n      delete root._bokeh_onload_callbacks\n    }\n    console.debug(\"Bokeh: all callbacks have finished\");\n  }\n\n  function load_libs(css_urls, js_urls, callback) {\n    if (css_urls == null) css_urls = [];\n    if (js_urls == null) js_urls = [];\n\n    root._bokeh_onload_callbacks.push(callback);\n    if (root._bokeh_is_loading > 0) {\n      console.debug(\"Bokeh: BokehJS is being loaded, scheduling callback at\", now());\n      return null;\n    }\n    if (js_urls == null || js_urls.length === 0) {\n      run_callbacks();\n      return null;\n    }\n    console.debug(\"Bokeh: BokehJS not loaded, scheduling load and callback at\", now());\n    root._bokeh_is_loading = css_urls.length + js_urls.length;\n\n    function on_load() {\n      root._bokeh_is_loading--;\n      if (root._bokeh_is_loading === 0) {\n        console.debug(\"Bokeh: all BokehJS libraries/stylesheets loaded\");\n        run_callbacks()\n      }\n    }\n\n    function on_error() {\n      console.error(\"failed to load \" + url);\n    }\n\n    for (var i = 0; i < css_urls.length; i++) {\n      var url = css_urls[i];\n      const element = document.createElement(\"link\");\n      element.onload = on_load;\n      element.onerror = on_error;\n      element.rel = \"stylesheet\";\n      element.type = \"text/css\";\n      element.href = url;\n      console.debug(\"Bokeh: injecting link tag for BokehJS stylesheet: \", url);\n      document.body.appendChild(element);\n    }\n\n    for (var i = 0; i < js_urls.length; i++) {\n      var url = js_urls[i];\n      var element = document.createElement('script');\n      element.onload = on_load;\n      element.onerror = on_error;\n      element.async = false;\n      element.src = url;\n      console.debug(\"Bokeh: injecting script tag for BokehJS library: \", url);\n      document.head.appendChild(element);\n    }\n  };var element = document.getElementById(\"1001\");\n  if (element == null) {\n    console.error(\"Bokeh: ERROR: autoload.js configured with elementid '1001' but no matching script tag was found. \")\n    return false;\n  }\n\n  function inject_raw_css(css) {\n    const element = document.createElement(\"style\");\n    element.appendChild(document.createTextNode(css));\n    document.body.appendChild(element);\n  }\n\n  \n  var js_urls = [\"https://cdn.pydata.org/bokeh/release/bokeh-1.4.0.min.js\", \"https://cdn.pydata.org/bokeh/release/bokeh-widgets-1.4.0.min.js\", \"https://cdn.pydata.org/bokeh/release/bokeh-tables-1.4.0.min.js\", \"https://cdn.pydata.org/bokeh/release/bokeh-gl-1.4.0.min.js\"];\n  var css_urls = [];\n  \n\n  var inline_js = [\n    function(Bokeh) {\n      Bokeh.set_log_level(\"info\");\n    },\n    function(Bokeh) {\n    \n    \n    }\n  ];\n\n  function run_inline_js() {\n    \n    if (root.Bokeh !== undefined || force === true) {\n      \n    for (var i = 0; i < inline_js.length; i++) {\n      inline_js[i].call(root, root.Bokeh);\n    }\n    if (force === true) {\n        display_loaded();\n      }} else if (Date.now() < root._bokeh_timeout) {\n      setTimeout(run_inline_js, 100);\n    } else if (!root._bokeh_failed_load) {\n      console.log(\"Bokeh: BokehJS failed to load within specified timeout.\");\n      root._bokeh_failed_load = true;\n    } else if (force !== true) {\n      var cell = $(document.getElementById(\"1001\")).parents('.cell').data().cell;\n      cell.output_area.append_execute_result(NB_LOAD_WARNING)\n    }\n\n  }\n\n  if (root._bokeh_is_loading === 0) {\n    console.debug(\"Bokeh: BokehJS loaded, going straight to plotting\");\n    run_inline_js();\n  } else {\n    load_libs(css_urls, js_urls, function() {\n      console.debug(\"Bokeh: BokehJS plotting callback run at\", now());\n      run_inline_js();\n    });\n  }\n}(window));"
     },
     "metadata": {},
     "output_type": "display_data"
    },
    {
     "data": {
      "text/html": [
       "\n",
       "\n",
       "\n",
       "\n",
       "\n",
       "\n",
       "  <div class=\"bk-root\" id=\"c5960541-0ccb-4512-88a7-e957f0858f57\" data-root-id=\"1002\"></div>\n"
      ]
     },
     "metadata": {},
     "output_type": "display_data"
    },
    {
     "data": {
      "application/javascript": [
       "(function(root) {\n",
       "  function embed_document(root) {\n",
       "    \n",
       "  var docs_json = {\"7abb2fe3-bd78-41b9-b1b7-df4720a90d1e\":{\"roots\":{\"references\":[{\"attributes\":{\"below\":[{\"id\":\"1013\",\"type\":\"LinearAxis\"}],\"center\":[{\"id\":\"1017\",\"type\":\"Grid\"},{\"id\":\"1022\",\"type\":\"Grid\"}],\"left\":[{\"id\":\"1018\",\"type\":\"LinearAxis\"}],\"renderers\":[{\"id\":\"1039\",\"type\":\"GlyphRenderer\"}],\"title\":{\"id\":\"1003\",\"type\":\"Title\"},\"toolbar\":{\"id\":\"1029\",\"type\":\"Toolbar\"},\"x_range\":{\"id\":\"1005\",\"type\":\"DataRange1d\"},\"x_scale\":{\"id\":\"1009\",\"type\":\"LinearScale\"},\"y_range\":{\"id\":\"1007\",\"type\":\"DataRange1d\"},\"y_scale\":{\"id\":\"1011\",\"type\":\"LinearScale\"}},\"id\":\"1002\",\"subtype\":\"Figure\",\"type\":\"Plot\"},{\"attributes\":{},\"id\":\"1024\",\"type\":\"WheelZoomTool\"},{\"attributes\":{\"overlay\":{\"id\":\"1048\",\"type\":\"BoxAnnotation\"}},\"id\":\"1025\",\"type\":\"BoxZoomTool\"},{\"attributes\":{},\"id\":\"1026\",\"type\":\"SaveTool\"},{\"attributes\":{},\"id\":\"1027\",\"type\":\"ResetTool\"},{\"attributes\":{\"fill_alpha\":{\"value\":0.2},\"fill_color\":{\"value\":\"#1f77b4\"},\"line_color\":{\"value\":\"#1f77b4\"},\"size\":{\"units\":\"screen\",\"value\":10},\"x\":{\"field\":\"x\"},\"y\":{\"field\":\"y\"}},\"id\":\"1037\",\"type\":\"Circle\"},{\"attributes\":{\"text\":\"Relationship between rental count and hour\"},\"id\":\"1003\",\"type\":\"Title\"},{\"attributes\":{},\"id\":\"1028\",\"type\":\"HelpTool\"},{\"attributes\":{\"callback\":null},\"id\":\"1005\",\"type\":\"DataRange1d\"},{\"attributes\":{\"active_drag\":\"auto\",\"active_inspect\":\"auto\",\"active_multi\":null,\"active_scroll\":\"auto\",\"active_tap\":\"auto\",\"tools\":[{\"id\":\"1023\",\"type\":\"PanTool\"},{\"id\":\"1024\",\"type\":\"WheelZoomTool\"},{\"id\":\"1025\",\"type\":\"BoxZoomTool\"},{\"id\":\"1026\",\"type\":\"SaveTool\"},{\"id\":\"1027\",\"type\":\"ResetTool\"},{\"id\":\"1028\",\"type\":\"HelpTool\"}]},\"id\":\"1029\",\"type\":\"Toolbar\"},{\"attributes\":{\"data_source\":{\"id\":\"1036\",\"type\":\"ColumnDataSource\"},\"glyph\":{\"id\":\"1037\",\"type\":\"Circle\"},\"hover_glyph\":null,\"muted_glyph\":null,\"nonselection_glyph\":{\"id\":\"1038\",\"type\":\"Circle\"},\"selection_glyph\":null,\"view\":{\"id\":\"1040\",\"type\":\"CDSView\"}},\"id\":\"1039\",\"type\":\"GlyphRenderer\"},{\"attributes\":{\"callback\":null},\"id\":\"1007\",\"type\":\"DataRange1d\"},{\"attributes\":{},\"id\":\"1009\",\"type\":\"LinearScale\"},{\"attributes\":{\"source\":{\"id\":\"1036\",\"type\":\"ColumnDataSource\"}},\"id\":\"1040\",\"type\":\"CDSView\"},{\"attributes\":{},\"id\":\"1011\",\"type\":\"LinearScale\"},{\"attributes\":{},\"id\":\"1042\",\"type\":\"BasicTickFormatter\"},{\"attributes\":{\"axis_label\":\"Hour\",\"formatter\":{\"id\":\"1044\",\"type\":\"BasicTickFormatter\"},\"ticker\":{\"id\":\"1014\",\"type\":\"BasicTicker\"}},\"id\":\"1013\",\"type\":\"LinearAxis\"},{\"attributes\":{},\"id\":\"1044\",\"type\":\"BasicTickFormatter\"},{\"attributes\":{},\"id\":\"1014\",\"type\":\"BasicTicker\"},{\"attributes\":{},\"id\":\"1046\",\"type\":\"Selection\"},{\"attributes\":{\"ticker\":{\"id\":\"1014\",\"type\":\"BasicTicker\"}},\"id\":\"1017\",\"type\":\"Grid\"},{\"attributes\":{},\"id\":\"1047\",\"type\":\"UnionRenderers\"},{\"attributes\":{\"axis_label\":\"Rental Count\",\"formatter\":{\"id\":\"1042\",\"type\":\"BasicTickFormatter\"},\"ticker\":{\"id\":\"1019\",\"type\":\"BasicTicker\"}},\"id\":\"1018\",\"type\":\"LinearAxis\"},{\"attributes\":{\"bottom_units\":\"screen\",\"fill_alpha\":{\"value\":0.5},\"fill_color\":{\"value\":\"lightgrey\"},\"left_units\":\"screen\",\"level\":\"overlay\",\"line_alpha\":{\"value\":1.0},\"line_color\":{\"value\":\"black\"},\"line_dash\":[4,4],\"line_width\":{\"value\":2},\"render_mode\":\"css\",\"right_units\":\"screen\",\"top_units\":\"screen\"},\"id\":\"1048\",\"type\":\"BoxAnnotation\"},{\"attributes\":{},\"id\":\"1019\",\"type\":\"BasicTicker\"},{\"attributes\":{\"dimension\":1,\"ticker\":{\"id\":\"1019\",\"type\":\"BasicTicker\"}},\"id\":\"1022\",\"type\":\"Grid\"},{\"attributes\":{\"fill_alpha\":{\"value\":0.1},\"fill_color\":{\"value\":\"#1f77b4\"},\"line_alpha\":{\"value\":0.1},\"line_color\":{\"value\":\"#1f77b4\"},\"size\":{\"units\":\"screen\",\"value\":10},\"x\":{\"field\":\"x\"},\"y\":{\"field\":\"y\"}},\"id\":\"1038\",\"type\":\"Circle\"},{\"attributes\":{\"callback\":null,\"data\":{\"x\":[0,1,2,3,4,5,6,7,8,9,10,11,12,13,14,15,16,17,18,19,20,21,22,23,0,1,2,3,4,6,7,8,9,10,11,12,13,14,15,16,17,18,19,20,21,22,23,0,1,4,5,6,7,8,9,10,11,12,13,14,15,16,17,18,19,20,21,22,23,0,1,2,4,5,6,7,8,9,10,11,12,13,14,15,16,17,18,19,20,21,22,23,0,1,2,4,5,6,7,8,9,10,11,12,13,14,15,16,17,18,19,20,21,22,23,0,1,2,4,5,6,7,8,9,10,11,12,13,14,15,16,17,18,19,20,21,22,23,0,1,2,4,5,6,7,8,9,10,11,12,13,14,15,16,17,18,19,20,21,22,23,0,1,2,3,4,5,6,7,8,9,10,11,12,13,14,15,16,17,18,19,20,21,22,23,0,1,2,3,4,5,6,7,8,9,10,11,12,13,14,15,16,17,18,19,20,21,22,23,0,1,2,3,4,5,6,7,8,9,10,11,12,13,14,15,16,17,18,19,20,21,22,23,0,1,2,5,6,7,8,9,10,11,12,13,14,15,16,17,18,19,20,21,22,23,0,1,2,5,6,7,8,9,10,11,12,13,14,15,16,17,18,19,20,21,22,23,0,1,2,3,4,5,6,7,8,9,10,11,12,13,14,15,16,17,18,19,20,21,22,23,0,1,2,3,5,6,7,8,9,10,11,12,13,14,15,16,17,18,19,20,21,22,23,0,1,2,3,4,5,6,7,8,9,10,11,12,13,14,15,16,17,18,19,20,21,22,23,0,1,2,3,4,5,6,7,8,9,10,11,12,13,14,15,16,17,18,19,20,21,22,23,0,1,2,3,4,5,6,7,8,9,10,11,12,13,14,15,16,17,18,19,20,21,22,23,12,13,14,15,16,17,18,19,20,21,22,23,0,1,2,4,5,6,7,8,9,10,11,12,13,14,15,16,17,18,19,20,21,22,23,0,1,2,3,4,5,6,7,8,9,10,11,12,13,14,15,16,17,18,19,20,21,22,23,0,1,2,3,4,5,6,7,8,9,10,11,12,13,14,15,16,17,18,19,20,21,22,23,0,1,2,3,4,6,7,8,9,10,11,12,13,14,15,16,17,18,19,20,21,22,23,0,1,2,3,5,6,7,8,9,10,11,12,13,14,15,16,17,18,19,20,21,22,23,0,1,3,4,5,6,7,8,9,10,11,12,13,14,15,16,17,18,19,20,21,22,23,0,1,2,4,5,6,7,8,9,10,11,12,13,14,15,16,17,18,19,20,21,22,23,0,1,2,5,6,7,8,9,10,11,12,13,14,15,16,17,16,17,18,19,20,21,22,23,0,1,2,3,5,6,7,8,9,10,11,12,13,14,15,16,17,18,19,20,21,22,23,0,1,2,3,4,6,7,8,9,10,11,12,13,14,15,16,17,18,19,20,21,22,23,0,1,2,3,4,5,7,8,9,10,11,12,13,14,15,16,17,18,19,20,21,22,23,0,1,2,3,4,5,6,7,8,9,10,11,12,13,14,15,16,17,18,19,20,21,22,23,0,1,2,3,5,6,7,8,9,10,11,12,13,14,15,16,17,18,19,20,21,22,23,0,1,2,3,4,5,6,7,8,9,10,11,12,13,14,15,16,17,18,19,20,21,22,23,0,1,2,3,5,6,7,8,9,10,11,12,13,14,15,16,17,18,19,20,21,22,23,0,1,2,3,5,6,7,8,9,10,11,12,13,14,15,16,17,18,19,20,21,22,23,0,1,2,3,4,5,6,7,8,9,10,11,12,13,14,15,16,17,18,19,20,21,22,23,0,1,2,3,4,5,6,7,8,9,10,11,12,13,14,15,16,17,18,19,20,21,22,23,0,1,2,3,4,5,6,7,8,9,10,11,12,13,14,15,16,17,18,19,20,21,22,23,0,1,2,3,4,5,6,7,8,9,10,11,12,13,14,15,16,17,18,19,20,21,22,23,0,1,2,3,5,6,7,8,9,10,11,12,13,14,15,16,17,18,19,20,21,22,23,0,1,2,4,5,6,7,8,9,10,11,12,13,14,15,16,17,18,19,20,21,22,23,0,1,2,5,6,7,8,9,10,11,12,13,14,15,16,17,18,19,20,21,22,23,0,1,2,3,4,5,6,7,8,9,10,11,12,13,14,15,16,17,18,19,20,21,22,23,0,1,2,3,4,6,7,8,9,10,11,12,13,14,15,16,17,18,19,20,21,22,23,0,1,2,3,4,5,6,7,8,9,10,11,12,13,14,15,16,17,18,19,20,21,22,23,0,1,2,4,5,6,7,8,9,10,11,12,13,14,15,16,17,18,19,20,21,22,23,0,1,3,4,5,6,7,8,9,10,11,12,13,14,15,16,17,18,19,20,21,22,23,0,1,2,3,4,5,6,7,8,9,10,11,12,13,14,15,16,17,18,19,20,21,22,23,0,1,2,3,4,5,6,7,8,9,10,11,12,13,14,15,16,17,18,19,20,21,22,23,0,1,2,3,4,5,6,7,8,9,10,11,12,13,14,15,16,17,18,19,20,21,22,23,0,1,2,3,4,6,7,8,9,10,11,12,13,14,15,16,17,18,19,20,21,22,23,0,1,2,3,4,5,6,7,8,9,10,11,12,13,14,15,16,17,18,19,20,21,22,23,6,7,8,9,10,11,12,13,14,15,16,17,18,19,20,21,22,23,0,1,2,3,5,6,7,8,9,10,11,12,13,14,15,16,17,18,19,20,21,22,23,0,1,2,3,5,6,7,8,9,10,11,12,13,14,15,16,17,18,19,20,21,22,23,0,1,2,3,5,6,7,8,9,10,11,12,13,14,15,16,17,18,19,20,21,22,23,0,1,2,3,4,5,6,7,8,9,10,11,12,13,14,15,16,17,18,19,20,21,22,23,0,1,2,3,4,6,7,8,9,10,11,12,13,14,15,16,17,18,19,20,21,22,23,0,1,3,5,6,7,8,9,10,11,12,13,14,15,16,17,18,19,20,21,22,23,0,1,2,3,4,5,6,7,8,9,10,11,12,13,14,15,16,17,18,19,20,21,22,23,0,1,2,3,4,5,6,7,8,9,10,11,12,13,14,15,16,17,18,19,20,21,22,23,0,1,2,3,4,5,6,7,8,9,10,11,12,13,14,15,16,17,18,19,20,21,22,23,0,1,2,3,4,5,6,7,8,9,10,11,12,13,14,15,16,17,18,19,20,21,22,23,0,1,2,3,4,5,6,7,8,9,10,11,12,13,14,15,16,17,18,19,20,21,22,23,0,1,2,3,4,6,7,8,9,10,11,12,13,14,15,16,17,18,19,20,21,22,23,0,1,3,4,5,6,7,8,9,10,11,12,13,14,15,16,17,18,19,20,21,22,23,0,1,2,3,4,5,6,7,8,9,10,11,12,13,14,15,16,17,18,19,20,21,22,23,0,1,2,3,4,5,6,7,8,9,10,11,12,13,14,15,16,17,18,19,20,21,22,23,0,1,2,5,6,7,8,9,10,11,12,13,14,15,16,17,18,19,20,21,22,23,0,1,2,3,5,6,7,8,9,10,11,12,13,14,15,16,17,18,19,20,21,22,23,0,1,2,3,4,5,6,7,8,9,10,11,12,13,14,15,16,17,18,19,20,21,22,23,0,1,3,4,5,6,7,8,9,10,11,12,13,14,15,16,17,18,19,20,21,22,23,0,1,2,3,5,6,7,8,9,10,11,12,13,14,15,16,17,18,19,20,21,22,23,0,1,2,4,5,6,7,8,9,10,11,12,13,14,15,16,17,18,19,20,21,22,23,0,1,3,4,5,6,7,8,9,10,11,12,13,14,15,16,17,18,19,20,21,22,23,0,1,2,3,4,5,6,7,8,9,10,11,12,13,14,15,16,17,18,19,20,21,22,23,0,1,2,3,5,6,7,8,9,10,11,12,13,14,15,16,17,18,19,20,21,22,23,0,1,2,3,4,5,6,7,8,9,10,11,12,13,14,15,16,17,18,19,20,21,22,23,0,1,2,3,4,5,6,7,8,9,10,11,12,13,14,15,16,17,18,19,20,21,22,23,0,1,2,3,5,6,7,8,9,10,11,12,13,14,15,16,17,18,19,20,21,22,23,0,1,2,3,4,5,6,7,8,9,10,11,12,13,14,15,16,17,18,19,20,21,22,23,0,1,2,3,5,6,7,8,9,10,11,12,13,14,15,16,17,18,19,20,21,22,23,0,1,2,3,4,5,6,7,8,9,10,11,12,13,14,15,16,17,18,19,20,21,22,23,0,1,2,3,4,5,6,7,8,9,10,11,12,13,14,15,16,17,18,19,20,21,22,23,0,1,2,3,4,5,6,7,8,9,10,11,12,13,14,15,16,17,18,19,20,21,22,23,0,1,2,3,4,6,7,8,9,10,11,12,13,14,15,16,17,18,19,20,21,22,23,0,1,2,3,5,6,7,8,9,10,11,12,13,14,15,16,17,18,19,20,21,22,23,0,1,2,3,4,5,6,7,8,9,10,11,12,13,14,15,16,17,18,19,20,21,22,23,0,1,2,3,4,5,6,7,8,9,10,11,12,13,14,15,16,17,18,19,20,21,22,23,0,1,2,3,4,5,6,7,8,9,10,11,12,13,14,15,16,17,18,19,20,21,22,23,0,1,2,3,4,5,6,7,8,9,10,11,12,13,14,15,16,17,18,19,20,21,22,23,0,1,2,3,4,5,6,7,8,9,10,11,12,13,14,15,16,17,18,19,20,21,22,23,0,1,2,3,4,5,6,7,8,9,10,11,12,13,14,15,16,17,18,19,20,21,22,23,0,1,2,3,4,5,6,7,8,9,10,11,12,13,14,15,16,17,18,19,20,21,22,23,0,1,2,3,4,5,6,7,8,9,10,11,12,13,14,15,16,17,18,19,20,21,22,23,0,1,2,3,4,5,6,7,8,9,10,11,12,13,14,15,16,17,18,19,20,21,22,23,0,1,2,3,4,5,6,7,8,9,10,11,12,13,14,15,16,17,18,19,20,21,22,23,0,1,2,3,4,5,6,7,8,9,10,11,12,13,14,15,16,17,18,19,20,21,22,23,0,1,2,3,4,5,6,7,8,9,10,11,12,13,14,15,16,17,18,19,20,21,22,23,0,1,2,3,4,5,6,7,8,9,10,11,12,13,14,15,16,17,18,19,20,21,22,23,0,1,2,4,5,6,7,8,9,10,11,12,13,14,15,16,17,18,19,20,21,22,23,0,1,2,3,4,5,6,7,8,9,10,11,12,13,14,15,16,17,18,19,20,21,22,23,0,1,2,3,4,5,6,7,8,9,10,11,12,13,14,15,16,17,18,19,20,21,22,23,0,1,2,3,4,5,6,7,8,9,10,11,12,13,14,15,16,17,18,19,20,21,22,23,0,1,2,3,4,5,6,7,8,9,10,11,12,13,14,15,16,17,18,19,20,21,22,23,0,1,2,3,4,5,6,7,8,9,10,11,12,13,14,15,16,17,18,19,20,21,22,23,0,1,2,3,4,5,6,7,8,9,10,11,12,13,14,15,16,17,18,19,20,21,22,23,0,1,2,3,4,5,6,7,8,9,10,11,12,13,14,15,16,17,18,19,20,21,22,23,0,1],\"y\":[16,40,32,13,1,1,2,3,8,14,36,56,84,94,106,110,93,67,35,37,36,34,28,39,17,17,9,6,3,2,1,8,20,53,70,93,75,59,74,76,65,53,30,22,31,9,8,5,2,1,3,30,64,154,88,44,51,61,61,77,72,76,157,157,110,52,52,20,12,5,2,1,2,4,36,94,179,100,42,57,78,97,63,65,83,212,182,112,54,48,35,11,6,6,2,2,3,33,88,195,115,57,46,79,71,62,62,89,190,169,132,89,43,42,19,11,4,2,1,4,36,95,219,122,45,59,84,67,70,62,86,172,163,112,69,48,52,23,17,7,1,1,5,34,84,210,134,63,67,59,73,50,72,87,187,123,95,51,39,36,15,25,16,16,7,1,5,2,9,15,20,61,62,98,102,95,74,76,69,55,30,28,37,34,22,25,12,11,4,1,1,1,6,10,19,49,49,83,75,72,82,92,62,48,41,38,20,15,6,5,1,3,1,3,3,31,77,188,94,31,30,52,54,47,45,74,178,155,95,74,38,24,18,12,3,3,6,27,99,217,130,54,35,57,52,63,47,76,136,95,51,32,20,29,19,7,6,1,5,16,54,128,81,39,35,55,49,44,49,68,139,137,83,56,57,33,20,7,2,2,3,4,3,28,72,202,139,38,37,52,83,42,60,78,162,144,99,64,40,30,15,14,5,1,1,8,17,70,158,117,44,53,61,77,64,68,90,159,139,92,68,52,36,27,28,20,12,8,5,1,3,10,23,33,59,72,89,101,118,129,128,83,84,74,41,57,26,44,39,23,16,15,1,2,1,3,18,32,79,93,104,118,91,113,99,105,67,61,57,28,21,18,17,16,8,2,3,1,5,13,33,47,57,64,80,93,86,93,82,71,92,60,33,27,13,4,3,22,28,35,61,125,133,99,83,41,33,20,3,7,3,2,7,32,90,197,109,47,52,70,78,75,82,104,197,161,112,76,59,59,28,13,5,2,1,1,6,35,101,249,143,57,68,84,98,81,70,91,215,185,152,126,57,56,31,21,6,2,1,1,5,27,68,217,166,63,59,78,73,62,65,97,161,120,96,53,41,34,27,13,12,11,7,3,2,8,27,40,53,63,70,84,75,103,83,67,54,59,45,39,30,33,22,13,18,5,3,1,2,19,28,58,99,116,87,110,77,65,55,49,50,35,25,28,21,7,1,1,1,5,15,84,177,102,40,46,63,60,45,57,70,184,153,106,81,59,35,24,9,5,2,1,9,36,108,238,144,55,61,106,93,68,84,116,222,225,146,119,45,53,40,17,5,10,1,8,30,72,58,28,41,48,47,36,43,36,26,24,84,104,79,59,38,27,16,9,3,2,1,4,16,60,157,101,49,30,29,31,38,41,80,149,109,89,62,58,26,23,28,20,15,8,3,2,5,34,34,55,64,78,65,99,120,107,91,68,58,43,36,32,33,33,29,11,8,1,3,3,12,38,64,59,97,84,122,109,123,77,65,55,33,28,21,21,7,7,1,2,2,8,37,72,185,112,69,48,68,54,86,44,86,161,156,111,78,56,34,17,8,3,2,2,3,22,52,135,116,47,51,55,52,54,52,64,176,168,108,74,64,36,16,2,3,4,1,1,3,18,49,155,123,61,52,64,75,63,76,103,190,182,91,75,63,40,32,12,5,2,1,2,39,87,188,133,52,64,69,51,47,60,78,175,147,96,109,54,41,38,13,7,1,1,7,28,87,220,127,51,64,86,82,91,90,99,205,155,103,71,43,46,31,39,18,17,11,8,9,4,4,10,20,34,47,52,72,55,60,71,78,83,84,69,56,45,59,39,44,20,13,2,1,1,8,23,45,89,117,174,182,161,182,157,121,78,21,26,27,62,30,15,5,3,1,2,10,30,95,230,118,55,47,66,64,60,50,114,216,175,128,88,78,37,25,10,4,2,1,3,2,39,100,243,135,48,50,65,50,64,51,83,176,152,101,56,54,29,12,17,7,3,2,7,43,99,199,123,59,41,61,69,58,64,79,166,170,88,84,83,46,37,16,7,3,1,6,26,99,178,122,35,45,69,62,48,50,80,165,160,112,97,72,51,34,14,7,3,4,24,74,216,140,44,64,71,110,84,74,125,211,174,101,63,47,43,53,30,24,15,10,4,1,2,11,30,43,84,114,120,135,120,174,145,137,64,41,40,51,45,32,39,24,20,12,2,5,3,12,47,105,112,152,154,161,162,134,125,95,61,47,51,36,30,11,7,2,2,2,3,26,98,256,130,55,53,126,120,90,90,118,243,205,98,70,43,45,20,19,5,3,1,4,30,105,223,110,52,57,71,82,79,85,98,206,212,145,101,66,41,20,15,9,1,1,5,33,108,230,124,69,66,86,93,82,117,122,255,222,161,118,92,73,33,17,6,6,4,4,12,47,126,285,179,88,90,101,123,81,106,146,274,222,175,139,124,76,44,32,8,7,8,1,7,50,116,272,169,95,113,185,176,191,172,232,327,224,162,124,72,107,77,29,31,17,7,3,3,6,22,45,55,106,123,119,155,196,171,120,127,88,59,47,33,44,29,17,16,17,18,1,2,2,24,55,104,161,182,198,212,168,147,146,101,42,42,56,47,54,37,13,4,5,1,3,8,19,63,57,81,90,93,103,116,87,56,80,66,49,29,34,11,2,7,40,114,106,44,50,55,55,58,69,86,196,167,118,105,82,77,21,6,4,1,2,8,36,96,235,139,51,69,67,87,78,72,94,222,209,141,109,91,61,39,11,7,4,2,4,58,104,252,137,57,79,95,88,69,63,71,177,137,115,89,83,55,50,9,10,3,2,6,11,35,73,114,49,59,115,83,85,55,102,189,157,90,62,63,50,39,28,27,12,8,2,10,7,22,57,74,85,126,160,174,211,165,171,183,137,94,68,68,46,34,34,37,22,11,2,3,14,35,59,103,125,193,259,282,261,268,187,127,102,81,69,69,59,30,8,1,5,28,92,255,142,92,87,36,32,25,35,42,79,131,80,45,80,76,45,7,3,4,2,1,2,46,107,214,124,68,56,86,78,79,64,102,242,224,119,88,63,47,25,8,4,2,4,1,5,40,110,256,148,76,73,82,125,96,110,139,268,201,150,95,71,48,22,13,1,3,1,1,8,35,111,220,145,56,50,72,80,78,68,71,202,167,106,70,51,53,23,12,4,2,1,1,7,29,83,228,150,66,89,97,87,95,106,118,228,187,107,87,70,44,46,19,25,20,2,1,3,4,15,45,63,103,159,167,190,198,205,204,164,152,89,70,72,63,44,52,39,32,11,3,2,5,9,22,31,62,79,105,39,7,11,25,23,11,11,7,10,9,4,2,1,1,1,34,91,211,134,58,60,96,70,77,96,122,233,233,145,92,54,35,22,10,4,1,7,2,10,45,128,257,151,71,78,99,98,72,112,108,248,235,150,76,75,55,41,9,4,2,3,2,8,49,141,249,141,57,59,98,99,71,79,112,194,188,134,91,62,21,18,3,2,1,3,12,37,44,24,17,11,34,12,12,14,21,111,82,56,38,28,34,27,6,8,5,2,7,32,114,259,156,78,81,111,107,89,85,113,223,153,118,76,53,64,37,34,18,14,7,1,2,4,23,53,101,99,119,158,157,166,182,244,213,145,112,86,82,63,49,38,33,23,13,3,2,10,34,44,122,181,194,221,250,304,256,241,147,101,77,58,37,28,11,1,1,3,8,28,88,241,140,84,71,94,75,79,101,107,271,235,150,129,63,47,19,14,10,3,2,11,35,119,282,157,78,78,102,97,88,90,114,217,225,152,88,55,21,18,8,3,3,1,3,31,111,253,154,68,75,88,99,100,101,151,253,237,168,121,78,59,27,23,12,8,2,3,13,51,140,299,185,78,86,105,111,119,125,142,313,310,207,137,138,87,50,29,16,14,5,10,36,123,280,210,117,159,195,175,174,173,204,332,331,190,149,113,118,86,76,51,25,8,3,2,10,13,48,76,140,196,267,301,312,313,304,278,217,154,108,93,72,50,40,24,30,12,3,9,4,14,37,78,136,203,228,203,279,308,224,226,156,79,67,49,38,24,13,7,6,1,2,32,18,98,127,62,79,81,112,101,107,141,272,276,221,122,91,78,30,11,19,1,5,1,12,60,136,336,178,124,86,121,106,101,134,165,307,312,164,135,87,70,32,11,7,2,3,10,44,118,261,182,75,71,87,108,84,85,136,273,238,159,75,22,44,26,11,3,6,1,1,9,41,108,124,97,65,71,94,101,83,90,84,233,214,138,118,78,62,33,18,5,5,2,5,9,32,104,237,166,68,75,145,138,133,122,150,225,198,135,81,75,43,39,28,27,25,9,6,8,10,41,66,100,125,168,227,239,216,219,248,203,153,138,85,51,63,41,31,20,21,14,6,2,7,14,54,86,108,163,147,164,172,143,159,137,103,57,36,30,19,12,6,5,2,8,40,110,254,121,69,57,79,83,80,72,132,252,241,173,112,61,40,19,16,4,3,3,2,8,50,133,287,172,59,81,106,104,86,87,136,299,294,190,132,83,55,35,11,10,4,4,1,7,48,136,263,154,64,90,80,98,80,70,36,116,85,72,44,27,24,12,3,5,5,1,2,8,36,92,192,132,69,58,90,68,76,65,85,168,177,130,85,60,51,27,6,4,7,4,3,12,28,95,206,173,75,89,95,110,87,111,167,281,241,136,77,93,74,53,32,32,21,9,5,5,12,18,55,87,154,198,184,137,190,136,196,184,179,148,85,77,55,53,39,34,24,11,3,5,33,33,62,142,215,243,313,367,349,292,303,274,172,144,79,45,36,31,6,11,2,1,2,7,46,157,339,158,90,124,157,139,123,143,189,366,386,278,173,95,75,48,22,15,5,4,2,5,38,134,157,46,28,19,38,56,76,68,130,273,267,160,91,89,46,26,15,2,5,4,1,13,56,133,325,165,69,93,134,112,115,117,169,356,325,232,141,102,84,40,20,13,7,3,1,6,64,160,314,170,95,122,153,135,157,160,213,343,333,226,203,108,81,54,25,9,13,1,1,9,35,113,221,185,73,98,80,42,15,25,60,148,62,53,63,54,51,35,31,20,17,14,3,5,13,21,54,98,133,142,202,222,212,201,191,257,177,130,93,75,87,57,53,37,36,16,5,4,4,10,55,81,150,202,230,263,281,297,288,236,240,131,92,95,57,32,23,4,9,1,13,61,176,314,165,96,104,134,139,145,141,235,452,383,284,166,158,91,54,24,13,14,1,6,16,58,189,226,54,40,49,92,106,44,78,99,291,224,130,103,84,54,39,15,1,2,2,3,5,34,70,164,65,46,61,95,61,106,81,142,309,321,175,126,117,99,62,21,10,3,2,9,14,70,193,337,170,89,115,145,159,137,142,202,388,337,259,169,145,104,47,27,15,18,3,3,13,47,149,300,178,122,136,200,180,163,162,243,331,263,209,118,102,80,64,43,33,24,14,5,4,10,21,45,29,22,31,32,58,63,78,33,15,38,71,53,14,24,35,33,31,29,25,7,3,8,16,43,102,211,304,354,343,361,388,343,306,277,210,141,83,70,56,39,19,16,7,6,16,54,168,297,169,109,123,184,169,144,176,205,428,362,286,165,151,90,46,25,7]},\"selected\":{\"id\":\"1046\",\"type\":\"Selection\"},\"selection_policy\":{\"id\":\"1047\",\"type\":\"UnionRenderers\"}},\"id\":\"1036\",\"type\":\"ColumnDataSource\"},{\"attributes\":{},\"id\":\"1023\",\"type\":\"PanTool\"}],\"root_ids\":[\"1002\"]},\"title\":\"Bokeh Application\",\"version\":\"1.4.0\"}};\n",
       "  var render_items = [{\"docid\":\"7abb2fe3-bd78-41b9-b1b7-df4720a90d1e\",\"roots\":{\"1002\":\"c5960541-0ccb-4512-88a7-e957f0858f57\"}}];\n",
       "  root.Bokeh.embed.embed_items_notebook(docs_json, render_items);\n",
       "\n",
       "  }\n",
       "  if (root.Bokeh !== undefined) {\n",
       "    embed_document(root);\n",
       "  } else {\n",
       "    var attempts = 0;\n",
       "    var timer = setInterval(function(root) {\n",
       "      if (root.Bokeh !== undefined) {\n",
       "        clearInterval(timer);\n",
       "        embed_document(root);\n",
       "      } else {\n",
       "        attempts++;\n",
       "        if (attempts > 100) {\n",
       "          clearInterval(timer);\n",
       "          console.log(\"Bokeh: ERROR: Unable to run BokehJS code because BokehJS library is missing\");\n",
       "        }\n",
       "      }\n",
       "    }, 10, root)\n",
       "  }\n",
       "})(window);"
      ],
      "application/vnd.bokehjs_exec.v0+json": ""
     },
     "metadata": {
      "application/vnd.bokehjs_exec.v0+json": {
       "id": "1002"
      }
     },
     "output_type": "display_data"
    }
   ],
   "source": [
    "%%local\n",
    "from bokeh.io import show\n",
    "from bokeh.plotting import figure\n",
    "from bokeh.io import output_notebook\n",
    "output_notebook()\n",
    "p = figure(title = 'Relationship between rental count and hour')\n",
    "p.xaxis.axis_label = 'Hour'\n",
    "p.yaxis.axis_label = 'Rental Count'\n",
    "\n",
    "p.circle(  list(scatter['hr'])\n",
    "         , list(scatter['cnt'])\n",
    "         , fill_alpha=0.2, size=10)\n",
    "\n",
    "show(p)"
   ]
  },
  {
   "cell_type": "markdown",
   "metadata": {},
   "source": [
    "## We can observe how there are two distinguishable peaks in the scatter plot. these two peaks are at around the 7-8th hour and 15-17th hour of the day. This represents that the rental count is high when people commute to/from home (rush hour)."
   ]
  },
  {
   "cell_type": "markdown",
   "metadata": {},
   "source": [
    "# Scatter plot for count and feels-like temperature"
   ]
  },
  {
   "cell_type": "code",
   "execution_count": 33,
   "metadata": {},
   "outputs": [
    {
     "data": {
      "application/vnd.jupyter.widget-view+json": {
       "model_id": "",
       "version_major": 2,
       "version_minor": 0
      },
      "text/plain": [
       "FloatProgress(value=0.0, bar_style='info', description='Progress:', layout=Layout(height='25px', width='50%'),…"
      ]
     },
     "metadata": {},
     "output_type": "display_data"
    },
    {
     "data": {
      "application/vnd.jupyter.widget-view+json": {
       "model_id": "",
       "version_major": 2,
       "version_minor": 0
      },
      "text/plain": [
       "FloatProgress(value=0.0, bar_style='info', description='Progress:', layout=Layout(height='25px', width='50%'),…"
      ]
     },
     "metadata": {},
     "output_type": "display_data"
    }
   ],
   "source": [
    "%%spark -o scatter2\n",
    "#spark magic moves dataframe to local\n",
    "scatter2 = (\n",
    "    bike_rental\n",
    "    .select('atemp', 'cnt')\n",
    ")"
   ]
  },
  {
   "cell_type": "code",
   "execution_count": 34,
   "metadata": {
    "scrolled": false
   },
   "outputs": [
    {
     "data": {
      "text/html": [
       "\n",
       "    <div class=\"bk-root\">\n",
       "        <a href=\"https://bokeh.org\" target=\"_blank\" class=\"bk-logo bk-logo-small bk-logo-notebook\"></a>\n",
       "        <span id=\"1097\">Loading BokehJS ...</span>\n",
       "    </div>"
      ]
     },
     "metadata": {},
     "output_type": "display_data"
    },
    {
     "data": {
      "application/javascript": [
       "\n",
       "(function(root) {\n",
       "  function now() {\n",
       "    return new Date();\n",
       "  }\n",
       "\n",
       "  var force = true;\n",
       "\n",
       "  if (typeof root._bokeh_onload_callbacks === \"undefined\" || force === true) {\n",
       "    root._bokeh_onload_callbacks = [];\n",
       "    root._bokeh_is_loading = undefined;\n",
       "  }\n",
       "\n",
       "  var JS_MIME_TYPE = 'application/javascript';\n",
       "  var HTML_MIME_TYPE = 'text/html';\n",
       "  var EXEC_MIME_TYPE = 'application/vnd.bokehjs_exec.v0+json';\n",
       "  var CLASS_NAME = 'output_bokeh rendered_html';\n",
       "\n",
       "  /**\n",
       "   * Render data to the DOM node\n",
       "   */\n",
       "  function render(props, node) {\n",
       "    var script = document.createElement(\"script\");\n",
       "    node.appendChild(script);\n",
       "  }\n",
       "\n",
       "  /**\n",
       "   * Handle when an output is cleared or removed\n",
       "   */\n",
       "  function handleClearOutput(event, handle) {\n",
       "    var cell = handle.cell;\n",
       "\n",
       "    var id = cell.output_area._bokeh_element_id;\n",
       "    var server_id = cell.output_area._bokeh_server_id;\n",
       "    // Clean up Bokeh references\n",
       "    if (id != null && id in Bokeh.index) {\n",
       "      Bokeh.index[id].model.document.clear();\n",
       "      delete Bokeh.index[id];\n",
       "    }\n",
       "\n",
       "    if (server_id !== undefined) {\n",
       "      // Clean up Bokeh references\n",
       "      var cmd = \"from bokeh.io.state import curstate; print(curstate().uuid_to_server['\" + server_id + \"'].get_sessions()[0].document.roots[0]._id)\";\n",
       "      cell.notebook.kernel.execute(cmd, {\n",
       "        iopub: {\n",
       "          output: function(msg) {\n",
       "            var id = msg.content.text.trim();\n",
       "            if (id in Bokeh.index) {\n",
       "              Bokeh.index[id].model.document.clear();\n",
       "              delete Bokeh.index[id];\n",
       "            }\n",
       "          }\n",
       "        }\n",
       "      });\n",
       "      // Destroy server and session\n",
       "      var cmd = \"import bokeh.io.notebook as ion; ion.destroy_server('\" + server_id + \"')\";\n",
       "      cell.notebook.kernel.execute(cmd);\n",
       "    }\n",
       "  }\n",
       "\n",
       "  /**\n",
       "   * Handle when a new output is added\n",
       "   */\n",
       "  function handleAddOutput(event, handle) {\n",
       "    var output_area = handle.output_area;\n",
       "    var output = handle.output;\n",
       "\n",
       "    // limit handleAddOutput to display_data with EXEC_MIME_TYPE content only\n",
       "    if ((output.output_type != \"display_data\") || (!output.data.hasOwnProperty(EXEC_MIME_TYPE))) {\n",
       "      return\n",
       "    }\n",
       "\n",
       "    var toinsert = output_area.element.find(\".\" + CLASS_NAME.split(' ')[0]);\n",
       "\n",
       "    if (output.metadata[EXEC_MIME_TYPE][\"id\"] !== undefined) {\n",
       "      toinsert[toinsert.length - 1].firstChild.textContent = output.data[JS_MIME_TYPE];\n",
       "      // store reference to embed id on output_area\n",
       "      output_area._bokeh_element_id = output.metadata[EXEC_MIME_TYPE][\"id\"];\n",
       "    }\n",
       "    if (output.metadata[EXEC_MIME_TYPE][\"server_id\"] !== undefined) {\n",
       "      var bk_div = document.createElement(\"div\");\n",
       "      bk_div.innerHTML = output.data[HTML_MIME_TYPE];\n",
       "      var script_attrs = bk_div.children[0].attributes;\n",
       "      for (var i = 0; i < script_attrs.length; i++) {\n",
       "        toinsert[toinsert.length - 1].firstChild.setAttribute(script_attrs[i].name, script_attrs[i].value);\n",
       "      }\n",
       "      // store reference to server id on output_area\n",
       "      output_area._bokeh_server_id = output.metadata[EXEC_MIME_TYPE][\"server_id\"];\n",
       "    }\n",
       "  }\n",
       "\n",
       "  function register_renderer(events, OutputArea) {\n",
       "\n",
       "    function append_mime(data, metadata, element) {\n",
       "      // create a DOM node to render to\n",
       "      var toinsert = this.create_output_subarea(\n",
       "        metadata,\n",
       "        CLASS_NAME,\n",
       "        EXEC_MIME_TYPE\n",
       "      );\n",
       "      this.keyboard_manager.register_events(toinsert);\n",
       "      // Render to node\n",
       "      var props = {data: data, metadata: metadata[EXEC_MIME_TYPE]};\n",
       "      render(props, toinsert[toinsert.length - 1]);\n",
       "      element.append(toinsert);\n",
       "      return toinsert\n",
       "    }\n",
       "\n",
       "    /* Handle when an output is cleared or removed */\n",
       "    events.on('clear_output.CodeCell', handleClearOutput);\n",
       "    events.on('delete.Cell', handleClearOutput);\n",
       "\n",
       "    /* Handle when a new output is added */\n",
       "    events.on('output_added.OutputArea', handleAddOutput);\n",
       "\n",
       "    /**\n",
       "     * Register the mime type and append_mime function with output_area\n",
       "     */\n",
       "    OutputArea.prototype.register_mime_type(EXEC_MIME_TYPE, append_mime, {\n",
       "      /* Is output safe? */\n",
       "      safe: true,\n",
       "      /* Index of renderer in `output_area.display_order` */\n",
       "      index: 0\n",
       "    });\n",
       "  }\n",
       "\n",
       "  // register the mime type if in Jupyter Notebook environment and previously unregistered\n",
       "  if (root.Jupyter !== undefined) {\n",
       "    var events = require('base/js/events');\n",
       "    var OutputArea = require('notebook/js/outputarea').OutputArea;\n",
       "\n",
       "    if (OutputArea.prototype.mime_types().indexOf(EXEC_MIME_TYPE) == -1) {\n",
       "      register_renderer(events, OutputArea);\n",
       "    }\n",
       "  }\n",
       "\n",
       "  \n",
       "  if (typeof (root._bokeh_timeout) === \"undefined\" || force === true) {\n",
       "    root._bokeh_timeout = Date.now() + 5000;\n",
       "    root._bokeh_failed_load = false;\n",
       "  }\n",
       "\n",
       "  var NB_LOAD_WARNING = {'data': {'text/html':\n",
       "     \"<div style='background-color: #fdd'>\\n\"+\n",
       "     \"<p>\\n\"+\n",
       "     \"BokehJS does not appear to have successfully loaded. If loading BokehJS from CDN, this \\n\"+\n",
       "     \"may be due to a slow or bad network connection. Possible fixes:\\n\"+\n",
       "     \"</p>\\n\"+\n",
       "     \"<ul>\\n\"+\n",
       "     \"<li>re-rerun `output_notebook()` to attempt to load from CDN again, or</li>\\n\"+\n",
       "     \"<li>use INLINE resources instead, as so:</li>\\n\"+\n",
       "     \"</ul>\\n\"+\n",
       "     \"<code>\\n\"+\n",
       "     \"from bokeh.resources import INLINE\\n\"+\n",
       "     \"output_notebook(resources=INLINE)\\n\"+\n",
       "     \"</code>\\n\"+\n",
       "     \"</div>\"}};\n",
       "\n",
       "  function display_loaded() {\n",
       "    var el = document.getElementById(\"1097\");\n",
       "    if (el != null) {\n",
       "      el.textContent = \"BokehJS is loading...\";\n",
       "    }\n",
       "    if (root.Bokeh !== undefined) {\n",
       "      if (el != null) {\n",
       "        el.textContent = \"BokehJS \" + root.Bokeh.version + \" successfully loaded.\";\n",
       "      }\n",
       "    } else if (Date.now() < root._bokeh_timeout) {\n",
       "      setTimeout(display_loaded, 100)\n",
       "    }\n",
       "  }\n",
       "\n",
       "\n",
       "  function run_callbacks() {\n",
       "    try {\n",
       "      root._bokeh_onload_callbacks.forEach(function(callback) {\n",
       "        if (callback != null)\n",
       "          callback();\n",
       "      });\n",
       "    } finally {\n",
       "      delete root._bokeh_onload_callbacks\n",
       "    }\n",
       "    console.debug(\"Bokeh: all callbacks have finished\");\n",
       "  }\n",
       "\n",
       "  function load_libs(css_urls, js_urls, callback) {\n",
       "    if (css_urls == null) css_urls = [];\n",
       "    if (js_urls == null) js_urls = [];\n",
       "\n",
       "    root._bokeh_onload_callbacks.push(callback);\n",
       "    if (root._bokeh_is_loading > 0) {\n",
       "      console.debug(\"Bokeh: BokehJS is being loaded, scheduling callback at\", now());\n",
       "      return null;\n",
       "    }\n",
       "    if (js_urls == null || js_urls.length === 0) {\n",
       "      run_callbacks();\n",
       "      return null;\n",
       "    }\n",
       "    console.debug(\"Bokeh: BokehJS not loaded, scheduling load and callback at\", now());\n",
       "    root._bokeh_is_loading = css_urls.length + js_urls.length;\n",
       "\n",
       "    function on_load() {\n",
       "      root._bokeh_is_loading--;\n",
       "      if (root._bokeh_is_loading === 0) {\n",
       "        console.debug(\"Bokeh: all BokehJS libraries/stylesheets loaded\");\n",
       "        run_callbacks()\n",
       "      }\n",
       "    }\n",
       "\n",
       "    function on_error() {\n",
       "      console.error(\"failed to load \" + url);\n",
       "    }\n",
       "\n",
       "    for (var i = 0; i < css_urls.length; i++) {\n",
       "      var url = css_urls[i];\n",
       "      const element = document.createElement(\"link\");\n",
       "      element.onload = on_load;\n",
       "      element.onerror = on_error;\n",
       "      element.rel = \"stylesheet\";\n",
       "      element.type = \"text/css\";\n",
       "      element.href = url;\n",
       "      console.debug(\"Bokeh: injecting link tag for BokehJS stylesheet: \", url);\n",
       "      document.body.appendChild(element);\n",
       "    }\n",
       "\n",
       "    for (var i = 0; i < js_urls.length; i++) {\n",
       "      var url = js_urls[i];\n",
       "      var element = document.createElement('script');\n",
       "      element.onload = on_load;\n",
       "      element.onerror = on_error;\n",
       "      element.async = false;\n",
       "      element.src = url;\n",
       "      console.debug(\"Bokeh: injecting script tag for BokehJS library: \", url);\n",
       "      document.head.appendChild(element);\n",
       "    }\n",
       "  };var element = document.getElementById(\"1097\");\n",
       "  if (element == null) {\n",
       "    console.error(\"Bokeh: ERROR: autoload.js configured with elementid '1097' but no matching script tag was found. \")\n",
       "    return false;\n",
       "  }\n",
       "\n",
       "  function inject_raw_css(css) {\n",
       "    const element = document.createElement(\"style\");\n",
       "    element.appendChild(document.createTextNode(css));\n",
       "    document.body.appendChild(element);\n",
       "  }\n",
       "\n",
       "  \n",
       "  var js_urls = [\"https://cdn.pydata.org/bokeh/release/bokeh-1.4.0.min.js\", \"https://cdn.pydata.org/bokeh/release/bokeh-widgets-1.4.0.min.js\", \"https://cdn.pydata.org/bokeh/release/bokeh-tables-1.4.0.min.js\", \"https://cdn.pydata.org/bokeh/release/bokeh-gl-1.4.0.min.js\"];\n",
       "  var css_urls = [];\n",
       "  \n",
       "\n",
       "  var inline_js = [\n",
       "    function(Bokeh) {\n",
       "      Bokeh.set_log_level(\"info\");\n",
       "    },\n",
       "    function(Bokeh) {\n",
       "    \n",
       "    \n",
       "    }\n",
       "  ];\n",
       "\n",
       "  function run_inline_js() {\n",
       "    \n",
       "    if (root.Bokeh !== undefined || force === true) {\n",
       "      \n",
       "    for (var i = 0; i < inline_js.length; i++) {\n",
       "      inline_js[i].call(root, root.Bokeh);\n",
       "    }\n",
       "    if (force === true) {\n",
       "        display_loaded();\n",
       "      }} else if (Date.now() < root._bokeh_timeout) {\n",
       "      setTimeout(run_inline_js, 100);\n",
       "    } else if (!root._bokeh_failed_load) {\n",
       "      console.log(\"Bokeh: BokehJS failed to load within specified timeout.\");\n",
       "      root._bokeh_failed_load = true;\n",
       "    } else if (force !== true) {\n",
       "      var cell = $(document.getElementById(\"1097\")).parents('.cell').data().cell;\n",
       "      cell.output_area.append_execute_result(NB_LOAD_WARNING)\n",
       "    }\n",
       "\n",
       "  }\n",
       "\n",
       "  if (root._bokeh_is_loading === 0) {\n",
       "    console.debug(\"Bokeh: BokehJS loaded, going straight to plotting\");\n",
       "    run_inline_js();\n",
       "  } else {\n",
       "    load_libs(css_urls, js_urls, function() {\n",
       "      console.debug(\"Bokeh: BokehJS plotting callback run at\", now());\n",
       "      run_inline_js();\n",
       "    });\n",
       "  }\n",
       "}(window));"
      ],
      "application/vnd.bokehjs_load.v0+json": "\n(function(root) {\n  function now() {\n    return new Date();\n  }\n\n  var force = true;\n\n  if (typeof root._bokeh_onload_callbacks === \"undefined\" || force === true) {\n    root._bokeh_onload_callbacks = [];\n    root._bokeh_is_loading = undefined;\n  }\n\n  \n\n  \n  if (typeof (root._bokeh_timeout) === \"undefined\" || force === true) {\n    root._bokeh_timeout = Date.now() + 5000;\n    root._bokeh_failed_load = false;\n  }\n\n  var NB_LOAD_WARNING = {'data': {'text/html':\n     \"<div style='background-color: #fdd'>\\n\"+\n     \"<p>\\n\"+\n     \"BokehJS does not appear to have successfully loaded. If loading BokehJS from CDN, this \\n\"+\n     \"may be due to a slow or bad network connection. Possible fixes:\\n\"+\n     \"</p>\\n\"+\n     \"<ul>\\n\"+\n     \"<li>re-rerun `output_notebook()` to attempt to load from CDN again, or</li>\\n\"+\n     \"<li>use INLINE resources instead, as so:</li>\\n\"+\n     \"</ul>\\n\"+\n     \"<code>\\n\"+\n     \"from bokeh.resources import INLINE\\n\"+\n     \"output_notebook(resources=INLINE)\\n\"+\n     \"</code>\\n\"+\n     \"</div>\"}};\n\n  function display_loaded() {\n    var el = document.getElementById(\"1097\");\n    if (el != null) {\n      el.textContent = \"BokehJS is loading...\";\n    }\n    if (root.Bokeh !== undefined) {\n      if (el != null) {\n        el.textContent = \"BokehJS \" + root.Bokeh.version + \" successfully loaded.\";\n      }\n    } else if (Date.now() < root._bokeh_timeout) {\n      setTimeout(display_loaded, 100)\n    }\n  }\n\n\n  function run_callbacks() {\n    try {\n      root._bokeh_onload_callbacks.forEach(function(callback) {\n        if (callback != null)\n          callback();\n      });\n    } finally {\n      delete root._bokeh_onload_callbacks\n    }\n    console.debug(\"Bokeh: all callbacks have finished\");\n  }\n\n  function load_libs(css_urls, js_urls, callback) {\n    if (css_urls == null) css_urls = [];\n    if (js_urls == null) js_urls = [];\n\n    root._bokeh_onload_callbacks.push(callback);\n    if (root._bokeh_is_loading > 0) {\n      console.debug(\"Bokeh: BokehJS is being loaded, scheduling callback at\", now());\n      return null;\n    }\n    if (js_urls == null || js_urls.length === 0) {\n      run_callbacks();\n      return null;\n    }\n    console.debug(\"Bokeh: BokehJS not loaded, scheduling load and callback at\", now());\n    root._bokeh_is_loading = css_urls.length + js_urls.length;\n\n    function on_load() {\n      root._bokeh_is_loading--;\n      if (root._bokeh_is_loading === 0) {\n        console.debug(\"Bokeh: all BokehJS libraries/stylesheets loaded\");\n        run_callbacks()\n      }\n    }\n\n    function on_error() {\n      console.error(\"failed to load \" + url);\n    }\n\n    for (var i = 0; i < css_urls.length; i++) {\n      var url = css_urls[i];\n      const element = document.createElement(\"link\");\n      element.onload = on_load;\n      element.onerror = on_error;\n      element.rel = \"stylesheet\";\n      element.type = \"text/css\";\n      element.href = url;\n      console.debug(\"Bokeh: injecting link tag for BokehJS stylesheet: \", url);\n      document.body.appendChild(element);\n    }\n\n    for (var i = 0; i < js_urls.length; i++) {\n      var url = js_urls[i];\n      var element = document.createElement('script');\n      element.onload = on_load;\n      element.onerror = on_error;\n      element.async = false;\n      element.src = url;\n      console.debug(\"Bokeh: injecting script tag for BokehJS library: \", url);\n      document.head.appendChild(element);\n    }\n  };var element = document.getElementById(\"1097\");\n  if (element == null) {\n    console.error(\"Bokeh: ERROR: autoload.js configured with elementid '1097' but no matching script tag was found. \")\n    return false;\n  }\n\n  function inject_raw_css(css) {\n    const element = document.createElement(\"style\");\n    element.appendChild(document.createTextNode(css));\n    document.body.appendChild(element);\n  }\n\n  \n  var js_urls = [\"https://cdn.pydata.org/bokeh/release/bokeh-1.4.0.min.js\", \"https://cdn.pydata.org/bokeh/release/bokeh-widgets-1.4.0.min.js\", \"https://cdn.pydata.org/bokeh/release/bokeh-tables-1.4.0.min.js\", \"https://cdn.pydata.org/bokeh/release/bokeh-gl-1.4.0.min.js\"];\n  var css_urls = [];\n  \n\n  var inline_js = [\n    function(Bokeh) {\n      Bokeh.set_log_level(\"info\");\n    },\n    function(Bokeh) {\n    \n    \n    }\n  ];\n\n  function run_inline_js() {\n    \n    if (root.Bokeh !== undefined || force === true) {\n      \n    for (var i = 0; i < inline_js.length; i++) {\n      inline_js[i].call(root, root.Bokeh);\n    }\n    if (force === true) {\n        display_loaded();\n      }} else if (Date.now() < root._bokeh_timeout) {\n      setTimeout(run_inline_js, 100);\n    } else if (!root._bokeh_failed_load) {\n      console.log(\"Bokeh: BokehJS failed to load within specified timeout.\");\n      root._bokeh_failed_load = true;\n    } else if (force !== true) {\n      var cell = $(document.getElementById(\"1097\")).parents('.cell').data().cell;\n      cell.output_area.append_execute_result(NB_LOAD_WARNING)\n    }\n\n  }\n\n  if (root._bokeh_is_loading === 0) {\n    console.debug(\"Bokeh: BokehJS loaded, going straight to plotting\");\n    run_inline_js();\n  } else {\n    load_libs(css_urls, js_urls, function() {\n      console.debug(\"Bokeh: BokehJS plotting callback run at\", now());\n      run_inline_js();\n    });\n  }\n}(window));"
     },
     "metadata": {},
     "output_type": "display_data"
    },
    {
     "data": {
      "text/html": [
       "\n",
       "\n",
       "\n",
       "\n",
       "\n",
       "\n",
       "  <div class=\"bk-root\" id=\"26c84dae-8df2-4a93-a13d-89cc0e747fab\" data-root-id=\"1098\"></div>\n"
      ]
     },
     "metadata": {},
     "output_type": "display_data"
    },
    {
     "data": {
      "application/javascript": [
       "(function(root) {\n",
       "  function embed_document(root) {\n",
       "    \n",
       "  var docs_json = {\"d80e998b-f737-4534-bac9-e30251d8bc5e\":{\"roots\":{\"references\":[{\"attributes\":{\"below\":[{\"id\":\"1109\",\"type\":\"LinearAxis\"}],\"center\":[{\"id\":\"1113\",\"type\":\"Grid\"},{\"id\":\"1118\",\"type\":\"Grid\"}],\"left\":[{\"id\":\"1114\",\"type\":\"LinearAxis\"}],\"renderers\":[{\"id\":\"1135\",\"type\":\"GlyphRenderer\"}],\"title\":{\"id\":\"1099\",\"type\":\"Title\"},\"toolbar\":{\"id\":\"1125\",\"type\":\"Toolbar\"},\"x_range\":{\"id\":\"1101\",\"type\":\"DataRange1d\"},\"x_scale\":{\"id\":\"1105\",\"type\":\"LinearScale\"},\"y_range\":{\"id\":\"1103\",\"type\":\"DataRange1d\"},\"y_scale\":{\"id\":\"1107\",\"type\":\"LinearScale\"}},\"id\":\"1098\",\"subtype\":\"Figure\",\"type\":\"Plot\"},{\"attributes\":{},\"id\":\"1150\",\"type\":\"Selection\"},{\"attributes\":{\"bottom_units\":\"screen\",\"fill_alpha\":{\"value\":0.5},\"fill_color\":{\"value\":\"lightgrey\"},\"left_units\":\"screen\",\"level\":\"overlay\",\"line_alpha\":{\"value\":1.0},\"line_color\":{\"value\":\"black\"},\"line_dash\":[4,4],\"line_width\":{\"value\":2},\"render_mode\":\"css\",\"right_units\":\"screen\",\"top_units\":\"screen\"},\"id\":\"1152\",\"type\":\"BoxAnnotation\"},{\"attributes\":{},\"id\":\"1107\",\"type\":\"LinearScale\"},{\"attributes\":{\"axis_label\":\"Rentals\",\"formatter\":{\"id\":\"1148\",\"type\":\"BasicTickFormatter\"},\"ticker\":{\"id\":\"1110\",\"type\":\"BasicTicker\"}},\"id\":\"1109\",\"type\":\"LinearAxis\"},{\"attributes\":{\"ticker\":{\"id\":\"1110\",\"type\":\"BasicTicker\"}},\"id\":\"1113\",\"type\":\"Grid\"},{\"attributes\":{\"axis_label\":\"Feels-like temperature\",\"formatter\":{\"id\":\"1146\",\"type\":\"BasicTickFormatter\"},\"ticker\":{\"id\":\"1115\",\"type\":\"BasicTicker\"}},\"id\":\"1114\",\"type\":\"LinearAxis\"},{\"attributes\":{},\"id\":\"1122\",\"type\":\"SaveTool\"},{\"attributes\":{\"callback\":null},\"id\":\"1103\",\"type\":\"DataRange1d\"},{\"attributes\":{},\"id\":\"1151\",\"type\":\"UnionRenderers\"},{\"attributes\":{\"data_source\":{\"id\":\"1132\",\"type\":\"ColumnDataSource\"},\"glyph\":{\"id\":\"1133\",\"type\":\"Circle\"},\"hover_glyph\":null,\"muted_glyph\":null,\"nonselection_glyph\":{\"id\":\"1134\",\"type\":\"Circle\"},\"selection_glyph\":null,\"view\":{\"id\":\"1136\",\"type\":\"CDSView\"}},\"id\":\"1135\",\"type\":\"GlyphRenderer\"},{\"attributes\":{\"fill_alpha\":{\"value\":0.1},\"fill_color\":{\"value\":\"#1f77b4\"},\"line_color\":{\"value\":\"#1f77b4\"},\"size\":{\"units\":\"screen\",\"value\":10},\"x\":{\"field\":\"x\"},\"y\":{\"field\":\"y\"}},\"id\":\"1133\",\"type\":\"Circle\"},{\"attributes\":{},\"id\":\"1105\",\"type\":\"LinearScale\"},{\"attributes\":{\"fill_alpha\":{\"value\":0.1},\"fill_color\":{\"value\":\"#1f77b4\"},\"line_alpha\":{\"value\":0.1},\"line_color\":{\"value\":\"#1f77b4\"},\"size\":{\"units\":\"screen\",\"value\":10},\"x\":{\"field\":\"x\"},\"y\":{\"field\":\"y\"}},\"id\":\"1134\",\"type\":\"Circle\"},{\"attributes\":{},\"id\":\"1146\",\"type\":\"BasicTickFormatter\"},{\"attributes\":{},\"id\":\"1110\",\"type\":\"BasicTicker\"},{\"attributes\":{\"callback\":null,\"data\":{\"x\":[16,40,32,13,1,1,2,3,8,14,36,56,84,94,106,110,93,67,35,37,36,34,28,39,17,17,9,6,3,2,1,8,20,53,70,93,75,59,74,76,65,53,30,22,31,9,8,5,2,1,3,30,64,154,88,44,51,61,61,77,72,76,157,157,110,52,52,20,12,5,2,1,2,4,36,94,179,100,42,57,78,97,63,65,83,212,182,112,54,48,35,11,6,6,2,2,3,33,88,195,115,57,46,79,71,62,62,89,190,169,132,89,43,42,19,11,4,2,1,4,36,95,219,122,45,59,84,67,70,62,86,172,163,112,69,48,52,23,17,7,1,1,5,34,84,210,134,63,67,59,73,50,72,87,187,123,95,51,39,36,15,25,16,16,7,1,5,2,9,15,20,61,62,98,102,95,74,76,69,55,30,28,37,34,22,25,12,11,4,1,1,1,6,10,19,49,49,83,75,72,82,92,62,48,41,38,20,15,6,5,1,3,1,3,3,31,77,188,94,31,30,52,54,47,45,74,178,155,95,74,38,24,18,12,3,3,6,27,99,217,130,54,35,57,52,63,47,76,136,95,51,32,20,29,19,7,6,1,5,16,54,128,81,39,35,55,49,44,49,68,139,137,83,56,57,33,20,7,2,2,3,4,3,28,72,202,139,38,37,52,83,42,60,78,162,144,99,64,40,30,15,14,5,1,1,8,17,70,158,117,44,53,61,77,64,68,90,159,139,92,68,52,36,27,28,20,12,8,5,1,3,10,23,33,59,72,89,101,118,129,128,83,84,74,41,57,26,44,39,23,16,15,1,2,1,3,18,32,79,93,104,118,91,113,99,105,67,61,57,28,21,18,17,16,8,2,3,1,5,13,33,47,57,64,80,93,86,93,82,71,92,60,33,27,13,4,3,22,28,35,61,125,133,99,83,41,33,20,3,7,3,2,7,32,90,197,109,47,52,70,78,75,82,104,197,161,112,76,59,59,28,13,5,2,1,1,6,35,101,249,143,57,68,84,98,81,70,91,215,185,152,126,57,56,31,21,6,2,1,1,5,27,68,217,166,63,59,78,73,62,65,97,161,120,96,53,41,34,27,13,12,11,7,3,2,8,27,40,53,63,70,84,75,103,83,67,54,59,45,39,30,33,22,13,18,5,3,1,2,19,28,58,99,116,87,110,77,65,55,49,50,35,25,28,21,7,1,1,1,5,15,84,177,102,40,46,63,60,45,57,70,184,153,106,81,59,35,24,9,5,2,1,9,36,108,238,144,55,61,106,93,68,84,116,222,225,146,119,45,53,40,17,5,10,1,8,30,72,58,28,41,48,47,36,43,36,26,24,84,104,79,59,38,27,16,9,3,2,1,4,16,60,157,101,49,30,29,31,38,41,80,149,109,89,62,58,26,23,28,20,15,8,3,2,5,34,34,55,64,78,65,99,120,107,91,68,58,43,36,32,33,33,29,11,8,1,3,3,12,38,64,59,97,84,122,109,123,77,65,55,33,28,21,21,7,7,1,2,2,8,37,72,185,112,69,48,68,54,86,44,86,161,156,111,78,56,34,17,8,3,2,2,3,22,52,135,116,47,51,55,52,54,52,64,176,168,108,74,64,36,16,2,3,4,1,1,3,18,49,155,123,61,52,64,75,63,76,103,190,182,91,75,63,40,32,12,5,2,1,2,39,87,188,133,52,64,69,51,47,60,78,175,147,96,109,54,41,38,13,7,1,1,7,28,87,220,127,51,64,86,82,91,90,99,205,155,103,71,43,46,31,39,18,17,11,8,9,4,4,10,20,34,47,52,72,55,60,71,78,83,84,69,56,45,59,39,44,20,13,2,1,1,8,23,45,89,117,174,182,161,182,157,121,78,21,26,27,62,30,15,5,3,1,2,10,30,95,230,118,55,47,66,64,60,50,114,216,175,128,88,78,37,25,10,4,2,1,3,2,39,100,243,135,48,50,65,50,64,51,83,176,152,101,56,54,29,12,17,7,3,2,7,43,99,199,123,59,41,61,69,58,64,79,166,170,88,84,83,46,37,16,7,3,1,6,26,99,178,122,35,45,69,62,48,50,80,165,160,112,97,72,51,34,14,7,3,4,24,74,216,140,44,64,71,110,84,74,125,211,174,101,63,47,43,53,30,24,15,10,4,1,2,11,30,43,84,114,120,135,120,174,145,137,64,41,40,51,45,32,39,24,20,12,2,5,3,12,47,105,112,152,154,161,162,134,125,95,61,47,51,36,30,11,7,2,2,2,3,26,98,256,130,55,53,126,120,90,90,118,243,205,98,70,43,45,20,19,5,3,1,4,30,105,223,110,52,57,71,82,79,85,98,206,212,145,101,66,41,20,15,9,1,1,5,33,108,230,124,69,66,86,93,82,117,122,255,222,161,118,92,73,33,17,6,6,4,4,12,47,126,285,179,88,90,101,123,81,106,146,274,222,175,139,124,76,44,32,8,7,8,1,7,50,116,272,169,95,113,185,176,191,172,232,327,224,162,124,72,107,77,29,31,17,7,3,3,6,22,45,55,106,123,119,155,196,171,120,127,88,59,47,33,44,29,17,16,17,18,1,2,2,24,55,104,161,182,198,212,168,147,146,101,42,42,56,47,54,37,13,4,5,1,3,8,19,63,57,81,90,93,103,116,87,56,80,66,49,29,34,11,2,7,40,114,106,44,50,55,55,58,69,86,196,167,118,105,82,77,21,6,4,1,2,8,36,96,235,139,51,69,67,87,78,72,94,222,209,141,109,91,61,39,11,7,4,2,4,58,104,252,137,57,79,95,88,69,63,71,177,137,115,89,83,55,50,9,10,3,2,6,11,35,73,114,49,59,115,83,85,55,102,189,157,90,62,63,50,39,28,27,12,8,2,10,7,22,57,74,85,126,160,174,211,165,171,183,137,94,68,68,46,34,34,37,22,11,2,3,14,35,59,103,125,193,259,282,261,268,187,127,102,81,69,69,59,30,8,1,5,28,92,255,142,92,87,36,32,25,35,42,79,131,80,45,80,76,45,7,3,4,2,1,2,46,107,214,124,68,56,86,78,79,64,102,242,224,119,88,63,47,25,8,4,2,4,1,5,40,110,256,148,76,73,82,125,96,110,139,268,201,150,95,71,48,22,13,1,3,1,1,8,35,111,220,145,56,50,72,80,78,68,71,202,167,106,70,51,53,23,12,4,2,1,1,7,29,83,228,150,66,89,97,87,95,106,118,228,187,107,87,70,44,46,19,25,20,2,1,3,4,15,45,63,103,159,167,190,198,205,204,164,152,89,70,72,63,44,52,39,32,11,3,2,5,9,22,31,62,79,105,39,7,11,25,23,11,11,7,10,9,4,2,1,1,1,34,91,211,134,58,60,96,70,77,96,122,233,233,145,92,54,35,22,10,4,1,7,2,10,45,128,257,151,71,78,99,98,72,112,108,248,235,150,76,75,55,41,9,4,2,3,2,8,49,141,249,141,57,59,98,99,71,79,112,194,188,134,91,62,21,18,3,2,1,3,12,37,44,24,17,11,34,12,12,14,21,111,82,56,38,28,34,27,6,8,5,2,7,32,114,259,156,78,81,111,107,89,85,113,223,153,118,76,53,64,37,34,18,14,7,1,2,4,23,53,101,99,119,158,157,166,182,244,213,145,112,86,82,63,49,38,33,23,13,3,2,10,34,44,122,181,194,221,250,304,256,241,147,101,77,58,37,28,11,1,1,3,8,28,88,241,140,84,71,94,75,79,101,107,271,235,150,129,63,47,19,14,10,3,2,11,35,119,282,157,78,78,102,97,88,90,114,217,225,152,88,55,21,18,8,3,3,1,3,31,111,253,154,68,75,88,99,100,101,151,253,237,168,121,78,59,27,23,12,8,2,3,13,51,140,299,185,78,86,105,111,119,125,142,313,310,207,137,138,87,50,29,16,14,5,10,36,123,280,210,117,159,195,175,174,173,204,332,331,190,149,113,118,86,76,51,25,8,3,2,10,13,48,76,140,196,267,301,312,313,304,278,217,154,108,93,72,50,40,24,30,12,3,9,4,14,37,78,136,203,228,203,279,308,224,226,156,79,67,49,38,24,13,7,6,1,2,32,18,98,127,62,79,81,112,101,107,141,272,276,221,122,91,78,30,11,19,1,5,1,12,60,136,336,178,124,86,121,106,101,134,165,307,312,164,135,87,70,32,11,7,2,3,10,44,118,261,182,75,71,87,108,84,85,136,273,238,159,75,22,44,26,11,3,6,1,1,9,41,108,124,97,65,71,94,101,83,90,84,233,214,138,118,78,62,33,18,5,5,2,5,9,32,104,237,166,68,75,145,138,133,122,150,225,198,135,81,75,43,39,28,27,25,9,6,8,10,41,66,100,125,168,227,239,216,219,248,203,153,138,85,51,63,41,31,20,21,14,6,2,7,14,54,86,108,163,147,164,172,143,159,137,103,57,36,30,19,12,6,5,2,8,40,110,254,121,69,57,79,83,80,72,132,252,241,173,112,61,40,19,16,4,3,3,2,8,50,133,287,172,59,81,106,104,86,87,136,299,294,190,132,83,55,35,11,10,4,4,1,7,48,136,263,154,64,90,80,98,80,70,36,116,85,72,44,27,24,12,3,5,5,1,2,8,36,92,192,132,69,58,90,68,76,65,85,168,177,130,85,60,51,27,6,4,7,4,3,12,28,95,206,173,75,89,95,110,87,111,167,281,241,136,77,93,74,53,32,32,21,9,5,5,12,18,55,87,154,198,184,137,190,136,196,184,179,148,85,77,55,53,39,34,24,11,3,5,33,33,62,142,215,243,313,367,349,292,303,274,172,144,79,45,36,31,6,11,2,1,2,7,46,157,339,158,90,124,157,139,123,143,189,366,386,278,173,95,75,48,22,15,5,4,2,5,38,134,157,46,28,19,38,56,76,68,130,273,267,160,91,89,46,26,15,2,5,4,1,13,56,133,325,165,69,93,134,112,115,117,169,356,325,232,141,102,84,40,20,13,7,3,1,6,64,160,314,170,95,122,153,135,157,160,213,343,333,226,203,108,81,54,25,9,13,1,1,9,35,113,221,185,73,98,80,42,15,25,60,148,62,53,63,54,51,35,31,20,17,14,3,5,13,21,54,98,133,142,202,222,212,201,191,257,177,130,93,75,87,57,53,37,36,16,5,4,4,10,55,81,150,202,230,263,281,297,288,236,240,131,92,95,57,32,23,4,9,1,13,61,176,314,165,96,104,134,139,145,141,235,452,383,284,166,158,91,54,24,13,14,1,6,16,58,189,226,54,40,49,92,106,44,78,99,291,224,130,103,84,54,39,15,1,2,2,3,5,34,70,164,65,46,61,95,61,106,81,142,309,321,175,126,117,99,62,21,10,3,2,9,14,70,193,337,170,89,115,145,159,137,142,202,388,337,259,169,145,104,47,27,15,18,3,3,13,47,149,300,178,122,136,200,180,163,162,243,331,263,209,118,102,80,64,43,33,24,14,5,4,10,21,45,29,22,31,32,58,63,78,33,15,38,71,53,14,24,35,33,31,29,25,7,3,8,16,43,102,211,304,354,343,361,388,343,306,277,210,141,83,70,56,39,19,16,7,6,16,54,168,297,169,109,123,184,169,144,176,205,428,362,286,165,151,90,46,25,7],\"y\":[0.2879,0.2727,0.2727,0.2879,0.2879,0.2576,0.2727,0.2576,0.2879,0.3485,0.3939,0.3333,0.4242,0.4545,0.4545,0.4394,0.4242,0.4394,0.4242,0.4242,0.4091,0.4091,0.4091,0.4545,0.4545,0.4394,0.4242,0.4545,0.4545,0.4242,0.4091,0.4091,0.3939,0.3485,0.3333,0.3333,0.3485,0.3485,0.3333,0.3333,0.3333,0.3333,0.2879,0.2727,0.2273,0.2121,0.2273,0.197,0.1667,0.1364,0.1364,0.1061,0.1364,0.1212,0.1364,0.1667,0.1818,0.2121,0.2121,0.2424,0.2424,0.2424,0.2273,0.2576,0.2576,0.2273,0.197,0.1515,0.2121,0.1818,0.1818,0.1515,0.1818,0.1515,0.1515,0.1515,0.1515,0.1515,0.1364,0.2121,0.2273,0.2273,0.2576,0.2727,0.2879,0.2727,0.2576,0.2576,0.2576,0.2727,0.2576,0.2273,0.2576,0.197,0.197,0.2273,0.2273,0.197,0.1818,0.1818,0.197,0.197,0.2273,0.2273,0.2576,0.2879,0.2879,0.3182,0.2273,0.2424,0.2576,0.2273,0.197,0.197,0.2576,0.2424,0.2273,0.2273,0.197,0.1818,0.1667,0.2273,0.2273,0.2424,0.2576,0.2576,0.2879,0.2727,0.2727,0.2727,0.2576,0.2273,0.2273,0.2576,0.2121,0.2121,0.2121,0.197,0.197,0.197,0.197,0.2121,0.2727,0.2576,0.2121,0.197,0.1818,0.197,0.197,0.197,0.1818,0.197,0.2121,0.2121,0.2576,0.2273,0.197,0.2121,0.197,0.197,0.197,0.197,0.2121,0.2424,0.197,0.197,0.1667,0.1667,0.1818,0.1818,0.1818,0.197,0.1818,0.1818,0.1818,0.1667,0.1667,0.1364,0.1212,0.1212,0.1212,0.1212,0.1061,0.1061,0.0606,0.0758,0.0606,0.0606,0.0758,0.0909,0.0909,0.0909,0.0909,0.0909,0.0758,0.1061,0.1212,0.1364,0.1667,0.1818,0.197,0.1667,0.1515,0.1364,0.1364,0.1212,0.1061,0.1212,0.1364,0.1212,0.1212,0.1212,0.1212,0.1212,0.1061,0.1212,0.1212,0.1212,0.1212,0.1212,0.1364,0.1818,0.1818,0.197,0.197,0.2121,0.2273,0.197,0.1667,0.1667,0.1364,0.1515,0.1515,0.1667,0.1515,0.1515,0.1818,0.1818,0.2273,0.2121,0.197,0.2121,0.2121,0.2273,0.2273,0.2273,0.197,0.1515,0.1515,0.1818,0.2273,0.1515,0.197,0.1818,0.197,0.197,0.1818,0.1515,0.1515,0.1515,0.1515,0.1667,0.1364,0.1818,0.1818,0.1515,0.197,0.1818,0.1667,0.197,0.1818,0.1515,0.1515,0.1364,0.1364,0.1212,0.1061,0.1212,0.1212,0.1212,0.1212,0.1212,0.1212,0.1515,0.1515,0.1364,0.1212,0.1364,0.1667,0.1667,0.197,0.197,0.2121,0.2121,0.1818,0.1818,0.1515,0.1515,0.1212,0.1212,0.1364,0.1364,0.1212,0.1212,0.1364,0.1364,0.1818,0.1212,0.1667,0.1515,0.1818,0.1667,0.197,0.197,0.2121,0.2424,0.2424,0.2273,0.2576,0.197,0.2424,0.2273,0.2273,0.2424,0.2424,0.197,0.197,0.2273,0.2273,0.2273,0.1667,0.2121,0.1515,0.1818,0.197,0.197,0.2273,0.2576,0.2879,0.3182,0.3333,0.303,0.2879,0.303,0.303,0.303,0.3182,0.2879,0.303,0.2727,0.2879,0.2727,0.2576,0.2576,0.2576,0.2121,0.2121,0.2121,0.2121,0.2273,0.2121,0.2273,0.2727,0.2424,0.2273,0.2121,0.2121,0.197,0.197,0.197,0.2121,0.2273,0.197,0.197,0.1667,0.1818,0.197,0.197,0.1818,0.1818,0.1515,0.1515,0.1515,0.1515,0.197,0.197,0.2121,0.2121,0.2121,0.197,0.1667,0.1818,0.1515,0.1515,0.1212,0.1364,0.1818,0.197,0.2273,0.2273,0.2273,0.2273,0.2273,0.2273,0.2727,0.2424,0.2576,0.2727,0.2727,0.2273,0.2273,0.2273,0.2576,0.2576,0.2576,0.2576,0.2576,0.2727,0.303,0.3182,0.4091,0.4091,0.4091,0.3939,0.3333,0.3182,0.2879,0.303,0.2879,0.303,0.2727,0.2273,0.2727,0.2727,0.2576,0.2576,0.2273,0.2121,0.2121,0.2121,0.2273,0.2273,0.2727,0.3333,0.2879,0.303,0.3182,0.303,0.3182,0.2576,0.2273,0.2424,0.2273,0.2121,0.2121,0.2273,0.2273,0.2424,0.2121,0.2576,0.197,0.2121,0.1818,0.1818,0.1818,0.1667,0.1818,0.1818,0.1515,0.1515,0.1212,0.1364,0.1212,0.1212,0.1061,0.0758,0.0758,0.0303,0.0455,0.0303,0.0,0.0303,0.0303,0.0152,0.0303,0.0152,0.0,0.0303,0.0606,0.0758,0.1061,0.1667,0.1364,0.1515,0.1364,0.197,0.0909,0.1061,0.0758,0.1061,0.1515,0.0758,0.0758,0.0758,0.0606,0.0606,0.0758,0.0758,0.1061,0.0758,0.0758,0.1061,0.1364,0.1212,0.1061,0.1364,0.1364,0.1364,0.1061,0.1212,0.1212,0.1061,0.1061,0.0909,0.0606,0.0606,0.0455,0.0303,0.0606,0.0606,0.0758,0.1212,0.1364,0.1515,0.1364,0.1212,0.1364,0.1364,0.1364,0.1667,0.1515,0.1212,0.1364,0.1515,0.1364,0.1515,0.1364,0.1515,0.1364,0.1667,0.1515,0.1667,0.1364,0.1818,0.1515,0.1818,0.2273,0.2424,0.2424,0.2879,0.2727,0.3333,0.3485,0.3485,0.3333,0.3182,0.2576,0.2273,0.2273,0.2273,0.2273,0.2273,0.2424,0.2273,0.1818,0.1818,0.2121,0.2121,0.2121,0.2121,0.197,0.197,0.197,0.197,0.1818,0.197,0.1818,0.2273,0.2424,0.2273,0.2273,0.2121,0.2121,0.2121,0.197,0.2121,0.2121,0.2121,0.2273,0.2121,0.197,0.197,0.197,0.2121,0.2121,0.2121,0.2121,0.2121,0.2727,0.2576,0.2727,0.2424,0.2273,0.2424,0.2273,0.2273,0.2121,0.2273,0.197,0.2273,0.2273,0.2121,0.1818,0.1818,0.1818,0.197,0.2121,0.2121,0.197,0.197,0.2273,0.2273,0.2121,0.2424,0.2879,0.2273,0.2121,0.2121,0.2121,0.197,0.197,0.1818,0.2121,0.2273,0.2121,0.2121,0.2121,0.2121,0.2121,0.2273,0.2424,0.2727,0.3182,0.2879,0.303,0.3333,0.3333,0.2879,0.2576,0.2576,0.2727,0.2424,0.2273,0.2121,0.2273,0.2121,0.2273,0.2273,0.197,0.1667,0.1364,0.1364,0.1364,0.1364,0.1515,0.1515,0.2121,0.2273,0.197,0.1818,0.1818,0.1515,0.1515,0.3182,0.1667,0.197,0.1818,0.197,0.1818,0.1818,0.2273,0.2273,0.2121,0.2121,0.2273,0.2273,0.2273,0.2273,0.2424,0.2576,0.2576,0.2576,0.2879,0.2424,0.2879,0.2576,0.2424,0.2273,0.2273,0.2576,0.197,0.2424,0.2273,0.2273,0.2273,0.2121,0.2424,0.2424,0.2121,0.2121,0.2576,0.2727,0.2273,0.2273,0.3333,0.3939,0.3939,0.3333,0.3182,0.2879,0.2424,0.197,0.197,0.2121,0.1667,0.1667,0.1515,0.1667,0.1667,0.1364,0.1364,0.1212,0.1212,0.1364,0.1515,0.1364,0.1818,0.1667,0.197,0.197,0.2121,0.197,0.2121,0.2576,0.2273,0.2121,0.2121,0.2273,0.2576,0.2273,0.1667,0.1667,0.1515,0.2273,0.2121,0.1515,0.1818,0.2121,0.2273,0.2424,0.2576,0.2727,0.2727,0.2879,0.2727,0.2576,0.2424,0.2424,0.2424,0.2424,0.2424,0.2424,0.2424,0.2424,0.2424,0.2273,0.2273,0.2576,0.2576,0.2273,0.2273,0.2121,0.2273,0.2273,0.2273,0.2727,0.2727,0.2273,0.2121,0.2424,0.2424,0.2879,0.2576,0.2727,0.2576,0.2576,0.2273,0.2273,0.2879,0.2273,0.2576,0.2576,0.2424,0.2576,0.2879,0.2879,0.303,0.3333,0.3636,0.3485,0.3485,0.3485,0.3636,0.303,0.2879,0.2879,0.303,0.303,0.2879,0.2879,0.2727,0.2576,0.2576,0.2576,0.2576,0.2424,0.2424,0.2273,0.2727,0.2576,0.3182,0.3485,0.3636,0.3636,0.3939,0.3485,0.3182,0.3333,0.3485,0.3333,0.3485,0.303,0.3333,0.3182,0.3182,0.2727,0.2727,0.2576,0.2273,0.2273,0.197,0.197,0.197,0.1818,0.1818,0.197,0.197,0.197,0.197,0.1818,0.1818,0.1818,0.1212,0.1364,0.1061,0.1061,0.1061,0.0758,0.1061,0.0758,0.0758,0.1061,0.1515,0.1061,0.1364,0.1364,0.1818,0.1515,0.1818,0.1667,0.1818,0.1818,0.197,0.197,0.1667,0.1212,0.1515,0.1515,0.1667,0.1515,0.1364,0.1515,0.1515,0.1364,0.1212,0.1212,0.0758,0.0758,0.1061,0.1061,0.1212,0.1364,0.1667,0.1818,0.197,0.1818,0.1818,0.1818,0.1667,0.1818,0.2121,0.197,0.1515,0.1364,0.1364,0.1364,0.1212,0.1818,0.1667,0.1212,0.1212,0.1364,0.2273,0.2273,0.2273,0.2879,0.3182,0.2879,0.3333,0.3182,0.303,0.2273,0.2121,0.2273,0.2424,0.197,0.2121,0.2121,0.197,0.1667,0.1667,0.1364,0.1515,0.1515,0.1818,0.2121,0.2727,0.2727,0.2727,0.3182,0.303,0.303,0.2879,0.2576,0.2727,0.2576,0.303,0.2576,0.2273,0.2273,0.2273,0.2273,0.2273,0.2121,0.2121,0.2727,0.2273,0.2273,0.2727,0.2879,0.3182,0.3939,0.4091,0.4091,0.4242,0.4242,0.4091,0.4091,0.4091,0.4091,0.4091,0.4091,0.3939,0.3939,0.3333,0.3182,0.303,0.303,0.303,0.303,0.3939,0.4091,0.4394,0.5,0.5303,0.5455,0.5909,0.5303,0.5,0.4545,0.4091,0.3939,0.3182,0.3182,0.2879,0.2879,0.2727,0.2424,0.2273,0.1818,0.1818,0.1818,0.1818,0.1818,0.197,0.2121,0.2424,0.2727,0.303,0.3182,0.3333,0.3182,0.303,0.303,0.2879,0.2727,0.2879,0.2879,0.2576,0.2576,0.2273,0.197,0.197,0.197,0.197,0.197,0.2273,0.2121,0.2273,0.303,0.3939,0.4242,0.4545,0.4545,0.4545,0.4545,0.4091,0.3182,0.3939,0.3485,0.3333,0.3939,0.3333,0.3182,0.3182,0.3333,0.3182,0.3333,0.303,0.3333,0.3333,0.3485,0.3939,0.4394,0.4697,0.5152,0.6212,0.6061,0.5303,0.5455,0.5152,0.4697,0.4697,0.5,0.4848,0.4545,0.4394,0.4394,0.4394,0.4545,0.4545,0.4545,0.4394,0.4242,0.4242,0.4242,0.4394,0.4394,0.4848,0.6212,0.6212,0.6212,0.6212,0.6212,0.6212,0.6212,0.6212,0.5455,0.5152,0.5,0.4697,0.4545,0.4394,0.4242,0.4091,0.4091,0.4091,0.3939,0.3939,0.4091,0.4242,0.4394,0.4394,0.4394,0.4545,0.4394,0.4394,0.4242,0.3182,0.303,0.2879,0.2727,0.2576,0.2424,0.2121,0.197,0.197,0.1818,0.1818,0.1818,0.1667,0.2273,0.2121,0.2576,0.303,0.3182,0.3333,0.3485,0.3636,0.3636,0.3485,0.3333,0.3333,0.3636,0.3485,0.303,0.303,0.303,0.303,0.303,0.303,0.3182,0.3636,0.4242,0.4242,0.303,0.303,0.303,0.3333,0.3182,0.2727,0.303,0.2727,0.2424,0.2576,0.2121,0.2121,0.2121,0.197,0.1667,0.1667,0.1212,0.1212,0.1212,0.1212,0.1818,0.2273,0.2273,0.2273,0.2273,0.2273,0.2273,0.2121,0.2273,0.1818,0.197,0.197,0.1515,0.1515,0.1364,0.1515,0.1515,0.1364,0.1515,0.1515,0.1515,0.1515,0.2121,0.2576,0.2576,0.2879,0.3182,0.3333,0.3485,0.3636,0.3485,0.3333,0.3333,0.2424,0.2879,0.2879,0.2576,0.2576,0.2576,0.2273,0.2121,0.2121,0.197,0.197,0.2273,0.2121,0.2424,0.2879,0.3333,0.3939,0.4091,0.4091,0.3939,0.3485,0.303,0.303,0.303,0.303,0.3182,0.303,0.3485,0.3485,0.3485,0.3333,0.3333,0.3485,0.3333,0.3485,0.303,0.4242,0.5,0.5152,0.5152,0.5303,0.4545,0.2879,0.2727,0.2879,0.2727,0.2576,0.2576,0.2121,0.2273,0.2273,0.2121,0.197,0.2273,0.2576,0.2424,0.2727,0.2576,0.2879,0.2576,0.303,0.3333,0.3182,0.3182,0.303,0.3333,0.3333,0.3485,0.3333,0.303,0.303,0.2727,0.2727,0.2576,0.2424,0.2576,0.2727,0.2879,0.2424,0.2879,0.2424,0.303,0.303,0.303,0.3485,0.4091,0.4242,0.4394,0.4545,0.4697,0.4242,0.4091,0.4091,0.4091,0.3939,0.3939,0.3485,0.3636,0.303,0.3182,0.3636,0.3485,0.3636,0.303,0.4242,0.5,0.5303,0.5303,0.4545,0.4242,0.4242,0.4242,0.4091,0.4545,0.4394,0.4394,0.3939,0.303,0.2879,0.2727,0.2273,0.2121,0.2121,0.2121,0.1818,0.1818,0.1818,0.1818,0.197,0.2121,0.2727,0.303,0.3485,0.3333,0.3636,0.3485,0.3485,0.3182,0.303,0.3182,0.303,0.2727,0.2273,0.2273,0.2273,0.2273,0.2121,0.2121,0.2121,0.2121,0.2121,0.2121,0.2576,0.303,0.303,0.4091,0.4848,0.5,0.5152,0.5152,0.4848,0.4545,0.4091,0.3333,0.2879,0.2576,0.2121,0.197,0.197,0.1667,0.1667,0.1212,0.1212,0.1212,0.0909,0.1212,0.1364,0.1818,0.2273,0.2273,0.2576,0.2576,0.2879,0.303,0.303,0.2121,0.197,0.2273,0.2121,0.2576,0.2121,0.197,0.1818,0.1818,0.1667,0.1818,0.1818,0.197,0.1818,0.197,0.2273,0.2273,0.2727,0.303,0.3182,0.3333,0.3333,0.3485,0.3333,0.303,0.303,0.2879,0.2879,0.2879,0.303,0.2879,0.3182,0.2879,0.2879,0.303,0.303,0.2879,0.2727,0.2727,0.303,0.3333,0.4091,0.4394,0.4545,0.4697,0.4545,0.4697,0.4697,0.4697,0.4545,0.4394,0.4394,0.4242,0.4394,0.4242,0.4242,0.4091,0.4242,0.4242,0.4242,0.4242,0.4091,0.4242,0.4242,0.4242,0.4545,0.4545,0.4394,0.4394,0.3333,0.303,0.2879,0.2576,0.2424,0.1818,0.197,0.197,0.1818,0.1818,0.1515,0.1515,0.1818,0.1818,0.1667,0.1818,0.1818,0.2121,0.2121,0.2727,0.2879,0.2879,0.303,0.303,0.303,0.303,0.2879,0.303,0.2727,0.2576,0.3182,0.2879,0.2424,0.2424,0.2576,0.2727,0.2273,0.2576,0.197,0.2273,0.2576,0.2879,0.3485,0.3788,0.3939,0.3939,0.3788,0.3939,0.3485,0.3333,0.3485,0.3333,0.2879,0.2879,0.2727,0.2879,0.2727,0.2727,0.2576,0.2576,0.2424,0.2576,0.2424,0.2424,0.2424,0.2879,0.2879,0.303,0.2879,0.303,0.3333,0.303,0.303,0.3182,0.303,0.3182,0.303,0.3182,0.3333,0.3182,0.3182,0.3182,0.3485,0.3333,0.3939,0.3939,0.4091,0.4091,0.4091,0.4242,0.4242,0.4394,0.4394,0.4242,0.4394,0.4394,0.4394,0.3333,0.3485,0.3333,0.3485,0.3485,0.3485,0.3485,0.3333,0.2879,0.2424,0.2576,0.2727,0.2879,0.303,0.303,0.3182,0.3333,0.3333,0.3182,0.303,0.3182,0.303,0.2727,0.303,0.2879,0.303,0.2879,0.2727,0.2273,0.2273,0.2273,0.2273,0.2273,0.2121,0.2273,0.2576,0.2879,0.303,0.303,0.3182,0.3333,0.4091,0.4242,0.4545,0.4545,0.4242,0.4242,0.4091,0.3939,0.3788,0.3939,0.3939,0.3485,0.3333,0.3333,0.3485,0.3636,0.3485,0.4091,0.4091,0.4242,0.4394,0.4545,0.4545,0.4545,0.4697,0.4545,0.4394,0.4091,0.3333,0.303,0.2879,0.2727,0.2576,0.2727,0.2879,0.2879,0.2727,0.2424,0.2727,0.3182,0.303,0.303,0.3182,0.3333,0.3939,0.3939,0.3939,0.3939,0.4091,0.3939,0.3636,0.3485,0.3182,0.3333,0.3333,0.3485,0.3485,0.303,0.303,0.2576,0.2273,0.2273,0.2424,0.2879,0.3333,0.3182,0.3182,0.3485,0.3333,0.3939,0.3939,0.3939,0.3485,0.3333,0.3182,0.3182,0.3333,0.3182,0.3182,0.2879,0.2727,0.2727,0.303,0.3182,0.3182,0.2879,0.3182,0.3333,0.3485,0.3485,0.4091,0.4091,0.4091,0.4091,0.4091,0.4394,0.4394,0.4394,0.4242,0.4242,0.4091,0.4091,0.3939,0.3485,0.303,0.3333,0.3333,0.3333,0.3182,0.3333,0.3485,0.4091,0.4394,0.4394,0.4848,0.5,0.4848,0.5,0.4848,0.4848,0.4545,0.4394,0.4242,0.4242,0.4091,0.4242,0.4242,0.4091,0.4091,0.3485,0.3939,0.4091,0.4091,0.4242,0.4545,0.5,0.5152,0.5303,0.6212,0.6212,0.6364,0.6364,0.6364,0.6364,0.6212,0.6212,0.6212,0.6212,0.6212,0.6212,0.5455,0.5303,0.5152,0.5,0.5,0.4394,0.4091,0.4242,0.4242,0.4394,0.4545,0.4545,0.4848,0.4848,0.4848,0.4848,0.4697,0.4545,0.4394,0.4242,0.4091,0.4091,0.3939,0.303,0.2879,0.2879,0.2727,0.2576,0.2576,0.2576,0.2273,0.2727,0.303,0.3485,0.3485,0.3636,0.3939,0.4091,0.4091,0.4242,0.4091,0.3939,0.3333,0.3333,0.3182,0.303,0.303,0.303,0.303,0.303,0.303,0.303,0.303,0.2727,0.2727,0.303,0.3939,0.4242,0.4394,0.4848,0.5152,0.5303,0.5152,0.5152,0.5,0.5455,0.5303,0.4545,0.4545,0.4545,0.4545,0.4242,0.4394,0.4394,0.4242,0.4091,0.4091,0.4091,0.4091,0.4091,0.4394,0.4394,0.4545,0.4848,0.4848,0.4848,0.4848,0.4848,0.4697,0.4394,0.4394,0.4242,0.4091,0.4091,0.3485,0.3182,0.3182,0.3182,0.3182,0.3182,0.303,0.3182,0.303,0.3182,0.3333,0.3182,0.3333,0.3636,0.3939,0.4091,0.4091,0.3939,0.3939,0.303,0.2879,0.3182,0.3333,0.303,0.2879,0.2879,0.2727,0.2727,0.2727,0.2727,0.2576,0.2273,0.2576,0.2273,0.2727,0.2727,0.303,0.303,0.2879,0.2879,0.2879,0.2727,0.2727,0.2576,0.2576,0.2576,0.2273,0.2273,0.2121,0.197,0.2273,0.2121,0.197,0.1818,0.1818,0.2121,0.2121,0.2576,0.2879,0.303,0.3182,0.3333,0.3182,0.303,0.2879,0.2879,0.2879,0.303,0.303,0.2576,0.2424,0.2424,0.2273,0.2121,0.197,0.2121,0.197,0.1818,0.197,0.2273,0.2424,0.2576,0.2727,0.2879,0.303,0.3182,0.3333,0.3333,0.303,0.3182,0.2727,0.2727,0.2576,0.2727,0.2424,0.2576,0.2273,0.2273,0.197,0.197,0.1818,0.1667,0.197,0.2273,0.2121,0.2424,0.2576,0.2879,0.3182,0.303,0.3333,0.303,0.2879,0.2879,0.2727,0.2576,0.2576,0.2576,0.2273,0.2273,0.2273,0.2273,0.1818,0.1667,0.1818,0.197,0.2121,0.2273,0.2424,0.2727,0.2879,0.303,0.303,0.3182,0.303,0.303,0.303,0.3333,0.3333,0.2879,0.2576,0.2273,0.2121,0.2121,0.2121,0.2121,0.2121,0.2121,0.197,0.2121,0.2576,0.2727,0.303,0.3333,0.303,0.3333,0.3939,0.3939,0.4091,0.3636,0.3333,0.3636,0.3636,0.3636,0.3333,0.3485,0.3485,0.3485,0.3485,0.3485,0.2879,0.303,0.3333,0.3182,0.303,0.3182,0.3182,0.3333,0.3485,0.3333,0.2576,0.2727,0.2727,0.2576,0.2576,0.2121,0.2273,0.2273,0.2121,0.2273,0.2273,0.2273,0.2273,0.2273,0.2273,0.2121,0.2273,0.2273,0.2424,0.2424,0.2727,0.2727,0.303,0.303,0.2727,0.2879,0.2879,0.303,0.303,0.2576,0.2727,0.2727,0.2576,0.2576,0.2576,0.2576,0.2273,0.2273,0.2273,0.2273,0.2424,0.2424,0.2879,0.303,0.2879,0.303,0.3333,0.3333,0.303,0.303,0.303,0.303,0.303,0.3182,0.3333,0.303,0.3182,0.3333,0.2727,0.2424,0.2424,0.2424,0.2424,0.2727,0.2727,0.3182,0.3485,0.3485,0.4091,0.3333,0.3333,0.303,0.303,0.3939,0.3939,0.3939,0.3333,0.3182,0.303,0.303,0.3182,0.2879,0.3182,0.2727,0.3333,0.303,0.2727,0.2727,0.303,0.3333,0.3182,0.4091,0.4242,0.4394,0.4394,0.4545,0.4545,0.4545,0.4545,0.4545,0.4242,0.4242,0.4242,0.4091,0.4091,0.4091,0.4091,0.3939,0.3939,0.3939,0.4091,0.4242,0.4394,0.4545,0.4848,0.5152,0.6212,0.6212,0.6364,0.6515,0.6667,0.6515,0.6515,0.6364,0.6364,0.6364,0.6364,0.6364,0.6212,0.6212,0.6212,0.5152,0.5152,0.4848,0.4545,0.4697,0.4697,0.3939,0.3182,0.303,0.2879,0.303,0.3333,0.3182,0.4091,0.3939,0.4242,0.3939,0.3333,0.3182,0.2879,0.303,0.2879,0.3182,0.2727,0.2424,0.2727,0.2424,0.2576,0.2576,0.2727,0.303,0.3333,0.4091,0.4242,0.4394,0.4545,0.4848,0.5,0.5152,0.5,0.5,0.4848,0.4545,0.4545,0.4545,0.4545,0.4545,0.4242,0.4242,0.3485,0.3333,0.3182,0.303,0.3333,0.3485,0.4091,0.4242,0.4545,0.4545,0.5,0.5303,0.6212,0.6212,0.5,0.4697,0.4545,0.4394,0.4394,0.4091,0.3939,0.3485,0.3333,0.3333,0.3333,0.3333,0.3182,0.3636,0.3333,0.3333,0.3485,0.3333,0.4091,0.3939,0.3333,0.3182,0.3182,0.303,0.303,0.303,0.2727,0.2727,0.2879,0.2727,0.2879,0.2879,0.303,0.303,0.2879,0.2727,0.2879,0.2879,0.303,0.303,0.3485,0.3333,0.3636,0.3485,0.3788,0.3485,0.3788,0.3939,0.3939,0.3939,0.3939,0.3939,0.3485,0.3485,0.3939,0.3939,0.3939,0.3939,0.3939,0.3636,0.3636,0.3636,0.3636,0.3939,0.3939,0.4091,0.4091,0.4242,0.4545,0.4848,0.4848,0.5,0.5,0.4848,0.4848,0.4545,0.4394,0.4394,0.4545,0.4697,0.4545,0.4545,0.4545,0.4545,0.4545,0.4848,0.5,0.5303,0.5303,0.5909,0.5909,0.6061,0.6667,0.6667,0.6667,0.6667,0.6667,0.6667,0.6364,0.6212,0.6212,0.5455,0.6212,0.6212,0.6212,0.5455,0.5303,0.5152,0.5152,0.5152,0.4697,0.4545,0.4848,0.5,0.5303,0.5152,0.4848,0.4697,0.4697,0.4394,0.4394,0.4242,0.4242,0.4242,0.4091,0.4091,0.4091,0.4091,0.4091,0.4091,0.4091,0.3939,0.3939,0.3485,0.3939,0.3939,0.4091,0.4242,0.4242,0.4394,0.4242,0.4394,0.4545,0.4545,0.4394,0.4394,0.4394,0.4242,0.4242,0.4091,0.3939,0.3939,0.3485,0.3333,0.3636,0.3485,0.3485,0.3939,0.4242,0.4545,0.4848,0.5,0.5152,0.5303,0.5303,0.6212,0.6061,0.6061,0.5303,0.5152,0.4848,0.4545,0.4697,0.4545,0.4394,0.4394,0.4091,0.4091,0.3939,0.3636,0.3636,0.4091,0.4394,0.4848,0.4848,0.5,0.5,0.5152,0.5152,0.5152,0.5,0.4848,0.4545,0.4242,0.4091,0.4091,0.3939,0.3485,0.3485,0.3333,0.3485,0.3485,0.3485,0.3939,0.4091,0.4091,0.4091,0.4091,0.4242,0.4242,0.4545,0.4545,0.5,0.5,0.4848,0.4848,0.4848,0.5,0.4394,0.4394,0.4242,0.4394,0.4394,0.4242,0.4091,0.4091,0.3636,0.3485,0.3182,0.3333,0.3939,0.4091,0.4242,0.4545,0.4545,0.4848,0.5,0.5152,0.5152,0.5303,0.5303,0.5303,0.5,0.4848,0.4848,0.4394,0.4545,0.4545,0.4242,0.4242,0.4091,0.4091,0.4091,0.4545,0.4545,0.4848,0.5,0.5152,0.5303,0.5303,0.5455,0.6212,0.6212,0.5455,0.6212,0.5303,0.6212,0.5303,0.5,0.4848,0.4848,0.4545]},\"selected\":{\"id\":\"1150\",\"type\":\"Selection\"},\"selection_policy\":{\"id\":\"1151\",\"type\":\"UnionRenderers\"}},\"id\":\"1132\",\"type\":\"ColumnDataSource\"},{\"attributes\":{\"active_drag\":\"auto\",\"active_inspect\":\"auto\",\"active_multi\":null,\"active_scroll\":\"auto\",\"active_tap\":\"auto\",\"tools\":[{\"id\":\"1119\",\"type\":\"PanTool\"},{\"id\":\"1120\",\"type\":\"WheelZoomTool\"},{\"id\":\"1121\",\"type\":\"BoxZoomTool\"},{\"id\":\"1122\",\"type\":\"SaveTool\"},{\"id\":\"1123\",\"type\":\"ResetTool\"},{\"id\":\"1124\",\"type\":\"HelpTool\"}]},\"id\":\"1125\",\"type\":\"Toolbar\"},{\"attributes\":{\"callback\":null},\"id\":\"1101\",\"type\":\"DataRange1d\"},{\"attributes\":{},\"id\":\"1115\",\"type\":\"BasicTicker\"},{\"attributes\":{},\"id\":\"1123\",\"type\":\"ResetTool\"},{\"attributes\":{},\"id\":\"1124\",\"type\":\"HelpTool\"},{\"attributes\":{\"dimension\":1,\"ticker\":{\"id\":\"1115\",\"type\":\"BasicTicker\"}},\"id\":\"1118\",\"type\":\"Grid\"},{\"attributes\":{\"text\":\"Relationship between rentals and feels-like temp\"},\"id\":\"1099\",\"type\":\"Title\"},{\"attributes\":{},\"id\":\"1148\",\"type\":\"BasicTickFormatter\"},{\"attributes\":{},\"id\":\"1119\",\"type\":\"PanTool\"},{\"attributes\":{},\"id\":\"1120\",\"type\":\"WheelZoomTool\"},{\"attributes\":{\"overlay\":{\"id\":\"1152\",\"type\":\"BoxAnnotation\"}},\"id\":\"1121\",\"type\":\"BoxZoomTool\"},{\"attributes\":{\"source\":{\"id\":\"1132\",\"type\":\"ColumnDataSource\"}},\"id\":\"1136\",\"type\":\"CDSView\"}],\"root_ids\":[\"1098\"]},\"title\":\"Bokeh Application\",\"version\":\"1.4.0\"}};\n",
       "  var render_items = [{\"docid\":\"d80e998b-f737-4534-bac9-e30251d8bc5e\",\"roots\":{\"1098\":\"26c84dae-8df2-4a93-a13d-89cc0e747fab\"}}];\n",
       "  root.Bokeh.embed.embed_items_notebook(docs_json, render_items);\n",
       "\n",
       "  }\n",
       "  if (root.Bokeh !== undefined) {\n",
       "    embed_document(root);\n",
       "  } else {\n",
       "    var attempts = 0;\n",
       "    var timer = setInterval(function(root) {\n",
       "      if (root.Bokeh !== undefined) {\n",
       "        clearInterval(timer);\n",
       "        embed_document(root);\n",
       "      } else {\n",
       "        attempts++;\n",
       "        if (attempts > 100) {\n",
       "          clearInterval(timer);\n",
       "          console.log(\"Bokeh: ERROR: Unable to run BokehJS code because BokehJS library is missing\");\n",
       "        }\n",
       "      }\n",
       "    }, 10, root)\n",
       "  }\n",
       "})(window);"
      ],
      "application/vnd.bokehjs_exec.v0+json": ""
     },
     "metadata": {
      "application/vnd.bokehjs_exec.v0+json": {
       "id": "1098"
      }
     },
     "output_type": "display_data"
    }
   ],
   "source": [
    "%%local\n",
    "from bokeh.io import show\n",
    "from bokeh.plotting import figure\n",
    "from bokeh.io import output_notebook\n",
    "output_notebook()\n",
    "p1 = figure(title = 'Relationship between rentals and feels-like temp')\n",
    "p1.xaxis.axis_label = 'Rentals'\n",
    "p1.yaxis.axis_label = 'Feels-like temperature'\n",
    "\n",
    "p1.circle( list(scatter2['cnt'])\n",
    "         , list(scatter2['atemp'])\n",
    "         , fill_alpha=0.1, size=10)\n",
    "\n",
    "show(p1)"
   ]
  },
  {
   "cell_type": "markdown",
   "metadata": {},
   "source": [
    "## this scatter plot shows that are a good number of rentals in high feels-like temperatures, but not many in the low temps. however, while there are more in the rentals in the high temps compared to the low temps, the mid-low temperatures seem to be when most rentals take place."
   ]
  },
  {
   "cell_type": "markdown",
   "metadata": {},
   "source": [
    "### we calculated the correlation to our dependent variable \"count\" and the other independent variables.\n",
    "### from this we saw that hour, temp, feels-like temp, and humidity had the highest correlation to count\n",
    "### some other variables such as mnth and season don't seem to have much correlation, possibly because our dataset are hourly records, so there is more correlation with the hour. as temp, and feels-like temp have similar values and correlation, we may want to drop temp as it can be redundant, and atemp (feels-like temp) is a better measure for our analysis."
   ]
  },
  {
   "cell_type": "code",
   "execution_count": 35,
   "metadata": {},
   "outputs": [
    {
     "data": {
      "application/vnd.jupyter.widget-view+json": {
       "model_id": "0d20f9163ac34f5e97b890f2651beda6",
       "version_major": 2,
       "version_minor": 0
      },
      "text/plain": [
       "VBox()"
      ]
     },
     "metadata": {},
     "output_type": "display_data"
    },
    {
     "data": {
      "application/vnd.jupyter.widget-view+json": {
       "model_id": "",
       "version_major": 2,
       "version_minor": 0
      },
      "text/plain": [
       "FloatProgress(value=0.0, bar_style='info', description='Progress:', layout=Layout(height='25px', width='50%'),…"
      ]
     },
     "metadata": {},
     "output_type": "display_data"
    },
    {
     "name": "stdout",
     "output_type": "stream",
     "text": [
      "Correlation to CNT for  season 0.17805573098267663\n",
      "Correlation to CNT for  yr 0.2504948988596486\n",
      "Correlation to CNT for  mnth 0.12063776021315141\n",
      "Correlation to CNT for  hr 0.3940714977829419\n",
      "Correlation to CNT for  holiday -0.0309273032491106\n",
      "Correlation to CNT for  weekday 0.026899859990839544\n",
      "Correlation to CNT for  workingday 0.030284367747910726\n",
      "Correlation to CNT for  weathersit -0.14242613813809568\n",
      "Correlation to CNT for  temp 0.4047722757786578\n",
      "Correlation to CNT for  atemp 0.40092930412663574\n",
      "Correlation to CNT for  hum -0.32291074082456017\n",
      "Correlation to CNT for  windspeed 0.09323378392612537\n",
      "Correlation to CNT for  cnt 1.0"
     ]
    }
   ],
   "source": [
    "import pyspark.mllib.stat as st\n",
    "import numpy as np\n",
    "\n",
    "independent_variables = ['season', 'yr', 'mnth','hr','holiday','weekday','workingday','weathersit','temp','atemp','hum','windspeed']\n",
    "dependent_variable = ['cnt']\n",
    "bike_sharing_df = bike_rental.select(independent_variables + dependent_variable)\n",
    "for i in bike_sharing_df.columns:\n",
    "    print(\"Correlation to CNT for \", i, bike_rental.stat.corr('cnt', i))"
   ]
  },
  {
   "cell_type": "markdown",
   "metadata": {},
   "source": [
    "### these were the variables that we want to include into our model\n",
    "### we didnt need some variables such as yr, season as the year doesn't matter to us and season can be told because we are including the month.\n",
    "### we also decided to take out holiday and weekday because it can be interpreted as a variable we already have, \"workingday\". this is because we want to know if the day interpreted is a workingday or weekend, and if it is a workingday or holiday. also, we don't really need temp because atemp explains temp in a better perspective, and the correlations are similar as well as the records. we will only include atemp because feels-like temperature is a better measure."
   ]
  },
  {
   "cell_type": "code",
   "execution_count": 36,
   "metadata": {},
   "outputs": [
    {
     "data": {
      "application/vnd.jupyter.widget-view+json": {
       "model_id": "2a7fdfde1a0e4d2dae737461070b11cd",
       "version_major": 2,
       "version_minor": 0
      },
      "text/plain": [
       "VBox()"
      ]
     },
     "metadata": {},
     "output_type": "display_data"
    },
    {
     "data": {
      "application/vnd.jupyter.widget-view+json": {
       "model_id": "",
       "version_major": 2,
       "version_minor": 0
      },
      "text/plain": [
       "FloatProgress(value=0.0, bar_style='info', description='Progress:', layout=Layout(height='25px', width='50%'),…"
      ]
     },
     "metadata": {},
     "output_type": "display_data"
    },
    {
     "name": "stdout",
     "output_type": "stream",
     "text": [
      "['cnt', 'atemp', 'hum', 'windspeed', 'mnth', 'hr', 'workingday', 'weathersit']"
     ]
    }
   ],
   "source": [
    "cols_to_keep = bike_rental.dtypes\n",
    "\n",
    "cols_to_keep = (\n",
    "    ['cnt'                  #keep these columns\n",
    "     ,'atemp','hum'\n",
    "     ,'windspeed'\n",
    "     ,'mnth','hr'\n",
    "     ,'workingday'\n",
    "     ,'weathersit'\n",
    "        \n",
    "    ]\n",
    "    + [\n",
    "        e[0] for e in cols_to_keep[:-1] #list comprehension\n",
    "        if e[1] == 'string'             #keep String columns too\n",
    "    ]\n",
    ")\n",
    "\n",
    "cols_to_keep"
   ]
  },
  {
   "cell_type": "markdown",
   "metadata": {},
   "source": [
    "### for some more descriptive statistics, we seperated the columns into numerical and categorical columns. we will be able to observe some of the stats and correlations between these variables"
   ]
  },
  {
   "cell_type": "code",
   "execution_count": 37,
   "metadata": {},
   "outputs": [
    {
     "data": {
      "application/vnd.jupyter.widget-view+json": {
       "model_id": "1ab5272c39144f29a09c460ab9592a25",
       "version_major": 2,
       "version_minor": 0
      },
      "text/plain": [
       "VBox()"
      ]
     },
     "metadata": {},
     "output_type": "display_data"
    },
    {
     "data": {
      "application/vnd.jupyter.widget-view+json": {
       "model_id": "",
       "version_major": 2,
       "version_minor": 0
      },
      "text/plain": [
       "FloatProgress(value=0.0, bar_style='info', description='Progress:', layout=Layout(height='25px', width='50%'),…"
      ]
     },
     "metadata": {},
     "output_type": "display_data"
    },
    {
     "name": "stdout",
     "output_type": "stream",
     "text": [
      "(['cnt', 'temp', 'atemp', 'hum', 'windspeed'], ['mnth', 'hr', 'workingday', 'weathersit'])"
     ]
    }
   ],
   "source": [
    "import pyspark.mllib.stat as st\n",
    "import numpy as np\n",
    "\n",
    "bike_rental_subset = bike_rental.select(cols_to_keep)\n",
    "\n",
    "cols_num = (\n",
    "    ['cnt','temp','atemp','hum','windspeed'\n",
    "    \n",
    "]\n",
    ")\n",
    "cols_cat = (\n",
    "    ['mnth','hr'\n",
    "     ,'workingday'\n",
    "     ,'weathersit'    \n",
    "]\n",
    ")\n",
    "cols_num, cols_cat"
   ]
  },
  {
   "cell_type": "code",
   "execution_count": 38,
   "metadata": {},
   "outputs": [
    {
     "data": {
      "application/vnd.jupyter.widget-view+json": {
       "model_id": "d76ea01dd9654313bb05c8e3fb77a575",
       "version_major": 2,
       "version_minor": 0
      },
      "text/plain": [
       "VBox()"
      ]
     },
     "metadata": {},
     "output_type": "display_data"
    },
    {
     "data": {
      "application/vnd.jupyter.widget-view+json": {
       "model_id": "",
       "version_major": 2,
       "version_minor": 0
      },
      "text/plain": [
       "FloatProgress(value=0.0, bar_style='info', description='Progress:', layout=Layout(height='25px', width='50%'),…"
      ]
     },
     "metadata": {},
     "output_type": "display_data"
    },
    {
     "name": "stdout",
     "output_type": "stream",
     "text": [
      "root\n",
      " |-- instant: integer (nullable = true)\n",
      " |-- dteday: timestamp (nullable = true)\n",
      " |-- season: integer (nullable = true)\n",
      " |-- yr: integer (nullable = true)\n",
      " |-- mnth: integer (nullable = true)\n",
      " |-- hr: integer (nullable = true)\n",
      " |-- holiday: integer (nullable = true)\n",
      " |-- weekday: integer (nullable = true)\n",
      " |-- workingday: integer (nullable = true)\n",
      " |-- weathersit: integer (nullable = true)\n",
      " |-- temp: double (nullable = true)\n",
      " |-- atemp: double (nullable = true)\n",
      " |-- hum: double (nullable = true)\n",
      " |-- windspeed: double (nullable = true)\n",
      " |-- casual: integer (nullable = true)\n",
      " |-- registered: integer (nullable = true)\n",
      " |-- cnt: integer (nullable = true)"
     ]
    }
   ],
   "source": [
    "cols = bike_rental.columns\n",
    "bike_rental.printSchema()"
   ]
  },
  {
   "cell_type": "code",
   "execution_count": 39,
   "metadata": {},
   "outputs": [
    {
     "data": {
      "application/vnd.jupyter.widget-view+json": {
       "model_id": "6be0d707be844e2ba01b38116ef8dbc5",
       "version_major": 2,
       "version_minor": 0
      },
      "text/plain": [
       "VBox()"
      ]
     },
     "metadata": {},
     "output_type": "display_data"
    },
    {
     "data": {
      "application/vnd.jupyter.widget-view+json": {
       "model_id": "",
       "version_major": 2,
       "version_minor": 0
      },
      "text/plain": [
       "FloatProgress(value=0.0, bar_style='info', description='Progress:', layout=Layout(height='25px', width='50%'),…"
      ]
     },
     "metadata": {},
     "output_type": "display_data"
    },
    {
     "name": "stdout",
     "output_type": "stream",
     "text": [
      "[[16, 0.24, 0.2879, 0.81, 0.0], [40, 0.22, 0.2727, 0.8, 0.0], [32, 0.22, 0.2727, 0.8, 0.0], [13, 0.24, 0.2879, 0.75, 0.0], [1, 0.24, 0.2879, 0.75, 0.0]]"
     ]
    }
   ],
   "source": [
    "rdd_num = (\n",
    "    bike_rental\n",
    "    .select(cols_num)\n",
    "    .rdd\n",
    "    #aftr you convert df to rdd, each row looks like this:\n",
    "    #Row(age=39, capital-gain=2174, capital-loss=0, hours-per-week=40),\n",
    "    .map(lambda row: [e for e in row])\n",
    "    #Then we map it to get rid of the the dictionary format and get to the following format:\n",
    "    #[39, 2174, 0, 40]\n",
    ")\n",
    "rdd_num.take(5)"
   ]
  },
  {
   "cell_type": "markdown",
   "metadata": {},
   "source": [
    "## stats of the numeric variables\n",
    "### because of our normalized dataset, there is no much to observe for the temp, atemp, hum, windpseed"
   ]
  },
  {
   "cell_type": "code",
   "execution_count": 40,
   "metadata": {},
   "outputs": [
    {
     "data": {
      "application/vnd.jupyter.widget-view+json": {
       "model_id": "68410983913e4c1aa62d94e39b1a0757",
       "version_major": 2,
       "version_minor": 0
      },
      "text/plain": [
       "VBox()"
      ]
     },
     "metadata": {},
     "output_type": "display_data"
    },
    {
     "data": {
      "application/vnd.jupyter.widget-view+json": {
       "model_id": "",
       "version_major": 2,
       "version_minor": 0
      },
      "text/plain": [
       "FloatProgress(value=0.0, bar_style='info', description='Progress:', layout=Layout(height='25px', width='50%'),…"
      ]
     },
     "metadata": {},
     "output_type": "display_data"
    },
    {
     "name": "stdout",
     "output_type": "stream",
     "text": [
      "cnt: min->1.0, mean->189.5, max->977.0, stdev->181.4\n",
      "temp: min->0.0, mean->0.5, max->1.0, stdev->0.2\n",
      "atemp: min->0.0, mean->0.5, max->1.0, stdev->0.2\n",
      "hum: min->0.0, mean->0.6, max->1.0, stdev->0.2\n",
      "windspeed: min->0.0, mean->0.2, max->0.9, stdev->0.1"
     ]
    }
   ],
   "source": [
    "stats_num = st.Statistics.colStats(rdd_num)\n",
    "\n",
    "for col, min_, mean_, max_, var_ in zip(\n",
    "      cols_num\n",
    "    , stats_num.min()\n",
    "    , stats_num.mean()\n",
    "    , stats_num.max()\n",
    "    , stats_num.variance()\n",
    "):\n",
    "    print('{0}: min->{1:.1f}, mean->{2:.1f}, max->{3:.1f}, stdev->{4:.1f}'\n",
    "          .format(col, min_, mean_, max_, np.sqrt(var_)))"
   ]
  },
  {
   "cell_type": "code",
   "execution_count": 41,
   "metadata": {},
   "outputs": [
    {
     "data": {
      "application/vnd.jupyter.widget-view+json": {
       "model_id": "115c31df4ccd401fa228a5a8daf57176",
       "version_major": 2,
       "version_minor": 0
      },
      "text/plain": [
       "VBox()"
      ]
     },
     "metadata": {},
     "output_type": "display_data"
    },
    {
     "data": {
      "application/vnd.jupyter.widget-view+json": {
       "model_id": "",
       "version_major": 2,
       "version_minor": 0
      },
      "text/plain": [
       "FloatProgress(value=0.0, bar_style='info', description='Progress:', layout=Layout(height='25px', width='50%'),…"
      ]
     },
     "metadata": {},
     "output_type": "display_data"
    },
    {
     "name": "stdout",
     "output_type": "stream",
     "text": [
      "mnth [(5, 1488), (7, 1488), (12, 1483), (8, 1475), (3, 1473), (10, 1451), (6, 1440), (4, 1437), (9, 1437), (11, 1437), (1, 1429), (2, 1341)] \n",
      "\n",
      "hr [(16, 730), (17, 730), (13, 729), (14, 729), (15, 729), (12, 728), (18, 728), (19, 728), (20, 728), (21, 728), (22, 728), (23, 728), (7, 727), (8, 727), (9, 727), (10, 727), (11, 727), (0, 726), (6, 725), (1, 724), (5, 717), (2, 715), (3, 697), (4, 697)] \n",
      "\n",
      "workingday [(1, 11865), (0, 5514)] \n",
      "\n",
      "weathersit [(1, 11413), (2, 4544), (3, 1419), (4, 3)]"
     ]
    }
   ],
   "source": [
    "rdd_cat = (\n",
    "    bike_rental\n",
    "    .select(cols_cat) # bring column label back in\n",
    "    .rdd\n",
    "    .map(lambda row: [e for e in row])\n",
    ")\n",
    "\n",
    "#Create an empty dictionary\n",
    "results_cat = {}\n",
    "\n",
    "for i, col in enumerate(cols_cat):\n",
    "    results_cat[col] = (\n",
    "        rdd_cat\n",
    "        .groupBy(lambda row: row[i]) #group by distinct values in column i\n",
    "        .map(lambda el: (el[0], len(el[1]))) #map to (category name, count)\n",
    "        .collect()\n",
    "    )\n",
    "    \n",
    "#print the results\n",
    "for k in results_cat:\n",
    "    print(\n",
    "        k #column name, dictionary key\n",
    "        , sorted( #sort by frequency of each category, descending\n",
    "            results_cat[k] #print results\n",
    "            , key=lambda el: el[1] #use frequency for sorting\n",
    "            , reverse=True)\n",
    "        , '\\n')"
   ]
  },
  {
   "cell_type": "markdown",
   "metadata": {},
   "source": [
    "### from this analysis, we can observe the number of rentals in each respective category. we can see the summer months have more rentals, however, it was also odd to see more rentals in december than in august.\n",
    "### additionally, most rentals occur when the weather situation allows for riding. Harsh weather conditions are descriped as a \"4\", and only 3 rentals occured during the two years of our data."
   ]
  },
  {
   "cell_type": "markdown",
   "metadata": {},
   "source": [
    "### these are the correlations between the cnt and the numeric variables. temp,atemp, and humidity have high correlations with cnt meaning these variables are strong predictors to the hourly count of rentals and should be included in our model"
   ]
  },
  {
   "cell_type": "code",
   "execution_count": 42,
   "metadata": {},
   "outputs": [
    {
     "data": {
      "application/vnd.jupyter.widget-view+json": {
       "model_id": "d4d450b9e5aa469292696bbac4c8249e",
       "version_major": 2,
       "version_minor": 0
      },
      "text/plain": [
       "VBox()"
      ]
     },
     "metadata": {},
     "output_type": "display_data"
    },
    {
     "data": {
      "application/vnd.jupyter.widget-view+json": {
       "model_id": "",
       "version_major": 2,
       "version_minor": 0
      },
      "text/plain": [
       "FloatProgress(value=0.0, bar_style='info', description='Progress:', layout=Layout(height='25px', width='50%'),…"
      ]
     },
     "metadata": {},
     "output_type": "display_data"
    },
    {
     "name": "stdout",
     "output_type": "stream",
     "text": [
      "['cnt', 'temp', 'atemp', 'hum', 'windspeed']\n",
      "[[ 1.          0.40477228  0.4009293  -0.32291074  0.09323378]\n",
      " [ 0.40477228  1.          0.98767214 -0.06988139 -0.02312526]\n",
      " [ 0.4009293   0.98767214  1.         -0.0519177  -0.06233604]\n",
      " [-0.32291074 -0.06988139 -0.0519177   1.         -0.2901049 ]\n",
      " [ 0.09323378 -0.02312526 -0.06233604 -0.2901049   1.        ]]"
     ]
    }
   ],
   "source": [
    "correlations = st.Statistics.corr(rdd_num)\n",
    "print(cols_num)\n",
    "print(correlations)"
   ]
  },
  {
   "cell_type": "code",
   "execution_count": 43,
   "metadata": {},
   "outputs": [
    {
     "data": {
      "application/vnd.jupyter.widget-view+json": {
       "model_id": "4e8d766bee604ec2b04b1c17928d5ed4",
       "version_major": 2,
       "version_minor": 0
      },
      "text/plain": [
       "VBox()"
      ]
     },
     "metadata": {},
     "output_type": "display_data"
    },
    {
     "data": {
      "application/vnd.jupyter.widget-view+json": {
       "model_id": "",
       "version_major": 2,
       "version_minor": 0
      },
      "text/plain": [
       "FloatProgress(value=0.0, bar_style='info', description='Progress:', layout=Layout(height='25px', width='50%'),…"
      ]
     },
     "metadata": {},
     "output_type": "display_data"
    },
    {
     "name": "stdout",
     "output_type": "stream",
     "text": [
      "cnt\n",
      "     temp 0.40477227577869096\n",
      "     atemp 0.40092930412669814\n",
      "     hum -0.3229107408245724\n",
      "     windspeed 0.09323378392612278\n",
      "\n",
      "temp\n",
      "     cnt 0.40477227577869096\n",
      "     atemp 0.9876721390399834\n",
      "     hum -0.06988139105126243\n",
      "\n",
      "atemp\n",
      "     cnt 0.40092930412669814\n",
      "     temp 0.9876721390399834\n",
      "     hum -0.05191769599338927\n",
      "     windspeed -0.06233604268701625\n",
      "\n",
      "hum\n",
      "     cnt -0.3229107408245724\n",
      "     temp -0.06988139105126243\n",
      "     atemp -0.05191769599338927\n",
      "     windspeed -0.2901048950638113\n",
      "\n",
      "windspeed\n",
      "     cnt 0.09323378392612278\n",
      "     atemp -0.06233604268701625\n",
      "     hum -0.2901048950638113"
     ]
    }
   ],
   "source": [
    "#print correlations in pairs\n",
    "for i, el_i in enumerate(abs(correlations) > 0.05):\n",
    "    print(cols_num[i])\n",
    "    \n",
    "    for j, el_j in enumerate(el_i):\n",
    "        if el_j and j != i:\n",
    "            print(\n",
    "                '    '\n",
    "                , cols_num[j]\n",
    "                , correlations[i][j]\n",
    "            )\n",
    "            \n",
    "    print()"
   ]
  },
  {
   "cell_type": "markdown",
   "metadata": {},
   "source": [
    "### a pivot table to see the number of rentals in each month by corresponding weathers situations and another pivot table showing the number of rentals in each weekday and if it is a working day or not. from the second pivot table we see that there are a lot of rentals during the working weekdays, however, not many rentals in non-working weekdays. therefore, there may not be many rentals during the holidays."
   ]
  },
  {
   "cell_type": "code",
   "execution_count": 44,
   "metadata": {},
   "outputs": [
    {
     "data": {
      "application/vnd.jupyter.widget-view+json": {
       "model_id": "3d1e828feeb34d5e8f81a20ed587bbfc",
       "version_major": 2,
       "version_minor": 0
      },
      "text/plain": [
       "VBox()"
      ]
     },
     "metadata": {},
     "output_type": "display_data"
    },
    {
     "data": {
      "application/vnd.jupyter.widget-view+json": {
       "model_id": "",
       "version_major": 2,
       "version_minor": 0
      },
      "text/plain": [
       "FloatProgress(value=0.0, bar_style='info', description='Progress:', layout=Layout(height='25px', width='50%'),…"
      ]
     },
     "metadata": {},
     "output_type": "display_data"
    },
    {
     "name": "stdout",
     "output_type": "stream",
     "text": [
      "+----+----+---+---+----+\n",
      "|mnth|   1|  2|  3|   4|\n",
      "+----+----+---+---+----+\n",
      "|  12| 828|525|130|null|\n",
      "|   1| 890|428|108|   3|\n",
      "|   6|1093|275| 72|null|\n",
      "|   3| 903|441|129|null|\n",
      "|   5| 944|401|143|null|\n",
      "|   9| 879|414|144|null|\n",
      "|   4| 923|372|142|null|\n",
      "|   8|1086|302| 87|null|\n",
      "|   7|1172|254| 62|null|\n",
      "|  10| 875|412|164|null|\n",
      "|  11| 958|378|101|null|\n",
      "|   2| 862|342|137|null|\n",
      "+----+----+---+---+----+\n",
      "\n",
      "+-------+----+----+\n",
      "|weekday|   0|   1|\n",
      "+-------+----+----+\n",
      "|      1| 357|2122|\n",
      "|      6|2512|null|\n",
      "|      3|  24|2451|\n",
      "|      5|  48|2439|\n",
      "|      4|  48|2423|\n",
      "|      2|  23|2430|\n",
      "|      0|2502|null|\n",
      "+-------+----+----+"
     ]
    }
   ],
   "source": [
    "#make a pivot table\n",
    "#Group by mnth and then weathersituation \n",
    "#to count how many in each weather situation\n",
    "bike_rental_cnt_weathersit = (\n",
    "    bike_rental\n",
    "    .groupby('mnth')\n",
    "    .pivot('weathersit')\n",
    "    .count()\n",
    ")\n",
    "\n",
    "bike_rental_cnt_workingday = (\n",
    "    bike_rental\n",
    "    .groupby('weekday')\n",
    "    .pivot('workingday')\n",
    "    .count()\n",
    ")\n",
    "bike_rental_cnt_weathersit.show()\n",
    "bike_rental_cnt_workingday.show()"
   ]
  },
  {
   "cell_type": "code",
   "execution_count": 45,
   "metadata": {},
   "outputs": [
    {
     "data": {
      "application/vnd.jupyter.widget-view+json": {
       "model_id": "a207e2fa1141481b9beabf67fbacea29",
       "version_major": 2,
       "version_minor": 0
      },
      "text/plain": [
       "VBox()"
      ]
     },
     "metadata": {},
     "output_type": "display_data"
    },
    {
     "data": {
      "application/vnd.jupyter.widget-view+json": {
       "model_id": "",
       "version_major": 2,
       "version_minor": 0
      },
      "text/plain": [
       "FloatProgress(value=0.0, bar_style='info', description='Progress:', layout=Layout(height='25px', width='50%'),…"
      ]
     },
     "metadata": {},
     "output_type": "display_data"
    },
    {
     "name": "stdout",
     "output_type": "stream",
     "text": [
      "{'mnth': 12, 'hr': 24, 'workingday': 2, 'weathersit': 4}"
     ]
    }
   ],
   "source": [
    "len_ftrs = []\n",
    "\n",
    "for col in cols_cat:\n",
    "    (\n",
    "        len_ftrs\n",
    "        .append(\n",
    "            (col\n",
    "             , bike_rental\n",
    "                 .select(col)\n",
    "                 .distinct()\n",
    "                 .count()\n",
    "            )\n",
    "        )\n",
    "    )\n",
    "    \n",
    "len_ftrs = dict(len_ftrs)\n",
    "len_ftrs"
   ]
  },
  {
   "cell_type": "code",
   "execution_count": 46,
   "metadata": {},
   "outputs": [
    {
     "data": {
      "application/vnd.jupyter.widget-view+json": {
       "model_id": "34b72c951bfc4176b2ef5fb3ad65f43a",
       "version_major": 2,
       "version_minor": 0
      },
      "text/plain": [
       "VBox()"
      ]
     },
     "metadata": {},
     "output_type": "display_data"
    },
    {
     "data": {
      "application/vnd.jupyter.widget-view+json": {
       "model_id": "",
       "version_major": 2,
       "version_minor": 0
      },
      "text/plain": [
       "FloatProgress(value=0.0, bar_style='info', description='Progress:', layout=Layout(height='25px', width='50%'),…"
      ]
     },
     "metadata": {},
     "output_type": "display_data"
    },
    {
     "name": "stdout",
     "output_type": "stream",
     "text": [
      "['cnt', 'atemp', 'hum', 'windspeed', 'mnth', 'hr', 'workingday', 'weathersit']"
     ]
    }
   ],
   "source": [
    "cols_to_keep"
   ]
  },
  {
   "cell_type": "markdown",
   "metadata": {},
   "source": [
    "# Feature Engineering\n",
    "## Vector Assembler\n",
    "### most of the variables we want to include in our model are numeric and can be interpreted as features\n",
    "### VectorAssembler allows us to put all features into a single vector for a Machine Learning Algorithm. we create the vectorassembler and pass the features we want to analyze. with this we have our features (independent variables) and count (dependent variable) for machine learning"
   ]
  },
  {
   "cell_type": "code",
   "execution_count": 63,
   "metadata": {},
   "outputs": [
    {
     "data": {
      "application/vnd.jupyter.widget-view+json": {
       "model_id": "ff9b147f80824978bbc342dd448ef590",
       "version_major": 2,
       "version_minor": 0
      },
      "text/plain": [
       "VBox()"
      ]
     },
     "metadata": {},
     "output_type": "display_data"
    },
    {
     "data": {
      "application/vnd.jupyter.widget-view+json": {
       "model_id": "",
       "version_major": 2,
       "version_minor": 0
      },
      "text/plain": [
       "FloatProgress(value=0.0, bar_style='info', description='Progress:', layout=Layout(height='25px', width='50%'),…"
      ]
     },
     "metadata": {},
     "output_type": "display_data"
    },
    {
     "name": "stdout",
     "output_type": "stream",
     "text": [
      "[Row(instant=1, dteday=datetime.datetime(2011, 1, 1, 0, 0), season=1, yr=0, mnth=1, hr=0, holiday=0, weekday=6, workingday=0, weathersit=1, temp=0.24, atemp=0.2879, hum=0.81, windspeed=0.0, casual=3, registered=13, cnt=16, features=DenseVector([1.0, 0.0, 0.0, 1.0, 0.2879, 0.81, 0.0]))]"
     ]
    }
   ],
   "source": [
    "from pyspark.ml.feature import VectorAssembler, VectorIndexer\n",
    "\n",
    "vectorAssembler = VectorAssembler(inputCols = ['mnth', 'hr', 'workingday', 'weathersit' \n",
    "                                               ,'atemp', 'hum', 'windspeed'], outputCol = 'features')\n",
    "bike_rental_df = vectorAssembler.transform(bike_rental)\n",
    "bike_rental_df.take(1)"
   ]
  },
  {
   "cell_type": "code",
   "execution_count": 64,
   "metadata": {},
   "outputs": [
    {
     "data": {
      "application/vnd.jupyter.widget-view+json": {
       "model_id": "0357ca0f7e6c4dd487100f47974826f7",
       "version_major": 2,
       "version_minor": 0
      },
      "text/plain": [
       "VBox()"
      ]
     },
     "metadata": {},
     "output_type": "display_data"
    },
    {
     "data": {
      "application/vnd.jupyter.widget-view+json": {
       "model_id": "",
       "version_major": 2,
       "version_minor": 0
      },
      "text/plain": [
       "FloatProgress(value=0.0, bar_style='info', description='Progress:', layout=Layout(height='25px', width='50%'),…"
      ]
     },
     "metadata": {},
     "output_type": "display_data"
    },
    {
     "name": "stdout",
     "output_type": "stream",
     "text": [
      "+--------------------+---+\n",
      "|            features|cnt|\n",
      "+--------------------+---+\n",
      "|[1.0,0.0,0.0,1.0,...| 16|\n",
      "|[1.0,1.0,0.0,1.0,...| 40|\n",
      "|[1.0,2.0,0.0,1.0,...| 32|\n",
      "|[1.0,3.0,0.0,1.0,...| 13|\n",
      "|[1.0,4.0,0.0,1.0,...|  1|\n",
      "+--------------------+---+\n",
      "only showing top 5 rows"
     ]
    }
   ],
   "source": [
    "bike_rental_df = bike_rental_df.select(['features', 'cnt'])\n",
    "bike_rental_df.show(5)"
   ]
  },
  {
   "cell_type": "markdown",
   "metadata": {},
   "source": [
    "### we used the 75%, 25% random split for our training/testing"
   ]
  },
  {
   "cell_type": "code",
   "execution_count": 65,
   "metadata": {},
   "outputs": [
    {
     "data": {
      "application/vnd.jupyter.widget-view+json": {
       "model_id": "788387989b09445abd6a2e44bdfb4aa1",
       "version_major": 2,
       "version_minor": 0
      },
      "text/plain": [
       "VBox()"
      ]
     },
     "metadata": {},
     "output_type": "display_data"
    },
    {
     "data": {
      "application/vnd.jupyter.widget-view+json": {
       "model_id": "",
       "version_major": 2,
       "version_minor": 0
      },
      "text/plain": [
       "FloatProgress(value=0.0, bar_style='info', description='Progress:', layout=Layout(height='25px', width='50%'),…"
      ]
     },
     "metadata": {},
     "output_type": "display_data"
    }
   ],
   "source": [
    "splits = bike_rental_df.randomSplit([0.75, 0.25])\n",
    "train = splits[0]\n",
    "test = splits[1]"
   ]
  },
  {
   "cell_type": "markdown",
   "metadata": {},
   "source": [
    "# Linear Regression\n",
    "### for our machine learning method, we implemented linear regression as it is a good regression model for prediction. it predicts a dependent variable based on the given independent variables, which is great for our model. Also, we believe that with our specific dataset and variables, linear regression can act as a good baseline model to improve on."
   ]
  },
  {
   "cell_type": "code",
   "execution_count": 66,
   "metadata": {},
   "outputs": [
    {
     "data": {
      "application/vnd.jupyter.widget-view+json": {
       "model_id": "d9aaf47da5f84f29b89ff69fce0d758f",
       "version_major": 2,
       "version_minor": 0
      },
      "text/plain": [
       "VBox()"
      ]
     },
     "metadata": {},
     "output_type": "display_data"
    },
    {
     "data": {
      "application/vnd.jupyter.widget-view+json": {
       "model_id": "",
       "version_major": 2,
       "version_minor": 0
      },
      "text/plain": [
       "FloatProgress(value=0.0, bar_style='info', description='Progress:', layout=Layout(height='25px', width='50%'),…"
      ]
     },
     "metadata": {},
     "output_type": "display_data"
    },
    {
     "name": "stdout",
     "output_type": "stream",
     "text": [
      "Coefficients: [4.878280003686827,7.3428522987873235,7.2119729111846125,-2.3345228327195064,345.980447744651,-224.27289878064633,26.684401585603922]\n",
      "Intercept: 43.41736582286953"
     ]
    }
   ],
   "source": [
    "from pyspark.ml.regression import LinearRegression\n",
    "\n",
    "lr = LinearRegression(featuresCol = 'features', labelCol='cnt', maxIter=10, regParam=0.3, elasticNetParam=0.8)\n",
    "lr_model = lr.fit(train)\n",
    "print(\"Coefficients: \" + str(lr_model.coefficients))\n",
    "print(\"Intercept: \" + str(lr_model.intercept))"
   ]
  },
  {
   "cell_type": "markdown",
   "metadata": {},
   "source": [
    "### after training the dataset with linear regression, we got a RMSE of 147.37 and a r2 score of 0.33.\n",
    "### meaning that, our model explains 33% of the variability of the data around its mean\n",
    "### it isn't the best, but we can still improve"
   ]
  },
  {
   "cell_type": "code",
   "execution_count": 67,
   "metadata": {},
   "outputs": [
    {
     "data": {
      "application/vnd.jupyter.widget-view+json": {
       "model_id": "32b25233126b49cc9b45c5d93ce02f8b",
       "version_major": 2,
       "version_minor": 0
      },
      "text/plain": [
       "VBox()"
      ]
     },
     "metadata": {},
     "output_type": "display_data"
    },
    {
     "data": {
      "application/vnd.jupyter.widget-view+json": {
       "model_id": "",
       "version_major": 2,
       "version_minor": 0
      },
      "text/plain": [
       "FloatProgress(value=0.0, bar_style='info', description='Progress:', layout=Layout(height='25px', width='50%'),…"
      ]
     },
     "metadata": {},
     "output_type": "display_data"
    },
    {
     "name": "stdout",
     "output_type": "stream",
     "text": [
      "RMSE: 148.993848\n",
      "r2: 0.332598"
     ]
    }
   ],
   "source": [
    "lr_trainingSummary = lr_model.summary\n",
    "print(\"RMSE: %f\" % lr_trainingSummary.rootMeanSquaredError)\n",
    "print(\"r2: %f\" % lr_trainingSummary.r2)"
   ]
  },
  {
   "cell_type": "code",
   "execution_count": 68,
   "metadata": {},
   "outputs": [
    {
     "data": {
      "application/vnd.jupyter.widget-view+json": {
       "model_id": "95304f51c519444d89889cb929f8f10c",
       "version_major": 2,
       "version_minor": 0
      },
      "text/plain": [
       "VBox()"
      ]
     },
     "metadata": {},
     "output_type": "display_data"
    },
    {
     "data": {
      "application/vnd.jupyter.widget-view+json": {
       "model_id": "",
       "version_major": 2,
       "version_minor": 0
      },
      "text/plain": [
       "FloatProgress(value=0.0, bar_style='info', description='Progress:', layout=Layout(height='25px', width='50%'),…"
      ]
     },
     "metadata": {},
     "output_type": "display_data"
    },
    {
     "name": "stdout",
     "output_type": "stream",
     "text": [
      "+-------+-----------------+\n",
      "|summary|              cnt|\n",
      "+-------+-----------------+\n",
      "|  count|            13003|\n",
      "|   mean|191.0154579712374|\n",
      "| stddev|182.3858620295932|\n",
      "|    min|                1|\n",
      "|    max|              977|\n",
      "+-------+-----------------+"
     ]
    }
   ],
   "source": [
    "train.describe().show()"
   ]
  },
  {
   "cell_type": "code",
   "execution_count": 69,
   "metadata": {},
   "outputs": [
    {
     "data": {
      "application/vnd.jupyter.widget-view+json": {
       "model_id": "8e78eddeffb64aada6220732137bff50",
       "version_major": 2,
       "version_minor": 0
      },
      "text/plain": [
       "VBox()"
      ]
     },
     "metadata": {},
     "output_type": "display_data"
    },
    {
     "data": {
      "application/vnd.jupyter.widget-view+json": {
       "model_id": "",
       "version_major": 2,
       "version_minor": 0
      },
      "text/plain": [
       "FloatProgress(value=0.0, bar_style='info', description='Progress:', layout=Layout(height='25px', width='50%'),…"
      ]
     },
     "metadata": {},
     "output_type": "display_data"
    },
    {
     "name": "stdout",
     "output_type": "stream",
     "text": [
      "+-------------------+---+--------------------+\n",
      "|         prediction|cnt|            features|\n",
      "+-------------------+---+--------------------+\n",
      "| -67.76943066500706| 33|[1.0,0.0,0.0,1.0,...|\n",
      "|-19.857031372117227| 28|[1.0,0.0,0.0,1.0,...|\n",
      "| 36.514682823263044| 69|[1.0,0.0,0.0,1.0,...|\n",
      "|  25.20037534330413| 39|[1.0,0.0,0.0,1.0,...|\n",
      "| -18.68445377083094| 12|[1.0,0.0,1.0,1.0,...|\n",
      "+-------------------+---+--------------------+\n",
      "only showing top 5 rows\n",
      "\n",
      "R Squared (R2) on test data = 0.339685"
     ]
    }
   ],
   "source": [
    "lr_predictions = lr_model.transform(test)\n",
    "lr_predictions.select(\"prediction\",\"cnt\",\"features\").show(5)\n",
    "\n",
    "from pyspark.ml.evaluation import RegressionEvaluator\n",
    "lr_evaluator = RegressionEvaluator(predictionCol=\"prediction\", \\\n",
    "                 labelCol=\"cnt\",metricName=\"r2\")\n",
    "print(\"R Squared (R2) on test data = %g\" % lr_evaluator.evaluate(lr_predictions))"
   ]
  },
  {
   "cell_type": "code",
   "execution_count": 70,
   "metadata": {},
   "outputs": [
    {
     "data": {
      "application/vnd.jupyter.widget-view+json": {
       "model_id": "1179814b033a4db8bd71d4956604d5ed",
       "version_major": 2,
       "version_minor": 0
      },
      "text/plain": [
       "VBox()"
      ]
     },
     "metadata": {},
     "output_type": "display_data"
    },
    {
     "data": {
      "application/vnd.jupyter.widget-view+json": {
       "model_id": "",
       "version_major": 2,
       "version_minor": 0
      },
      "text/plain": [
       "FloatProgress(value=0.0, bar_style='info', description='Progress:', layout=Layout(height='25px', width='50%'),…"
      ]
     },
     "metadata": {},
     "output_type": "display_data"
    },
    {
     "name": "stdout",
     "output_type": "stream",
     "text": [
      "Root Mean Squared Error (RMSE) on test data = 144.893"
     ]
    }
   ],
   "source": [
    "test_result = lr_model.evaluate(test)\n",
    "print(\"Root Mean Squared Error (RMSE) on test data = %g\" % test_result.rootMeanSquaredError)"
   ]
  },
  {
   "cell_type": "markdown",
   "metadata": {},
   "source": [
    "### above are the RMSE and r2 score on the test data with linear regression"
   ]
  },
  {
   "cell_type": "code",
   "execution_count": 71,
   "metadata": {},
   "outputs": [
    {
     "data": {
      "application/vnd.jupyter.widget-view+json": {
       "model_id": "b8961de25c284e54aa8b5a5184a7fe66",
       "version_major": 2,
       "version_minor": 0
      },
      "text/plain": [
       "VBox()"
      ]
     },
     "metadata": {},
     "output_type": "display_data"
    },
    {
     "data": {
      "application/vnd.jupyter.widget-view+json": {
       "model_id": "",
       "version_major": 2,
       "version_minor": 0
      },
      "text/plain": [
       "FloatProgress(value=0.0, bar_style='info', description='Progress:', layout=Layout(height='25px', width='50%'),…"
      ]
     },
     "metadata": {},
     "output_type": "display_data"
    },
    {
     "name": "stdout",
     "output_type": "stream",
     "text": [
      "numIterations: 11\n",
      "objectiveHistory: [0.5000000000000001, 0.4679200216261118, 0.335885732674642, 0.33533875893453013, 0.3350388018399574, 0.3350346261410569, 0.3350282680439472, 0.33502822136139065, 0.3350282172953921, 0.3350282172625244, 0.335028217262078]\n",
      "+------------------+\n",
      "|         residuals|\n",
      "+------------------+\n",
      "|50.708641208523346|\n",
      "| 36.65196029961717|\n",
      "| 74.86059140639139|\n",
      "| 62.49224887998421|\n",
      "|130.30016908500704|\n",
      "|26.204657478999245|\n",
      "|37.759374067393765|\n",
      "|21.523310802215235|\n",
      "|18.466525183074708|\n",
      "|52.092154112801666|\n",
      "|20.219561617119297|\n",
      "| 19.00159659571591|\n",
      "| -9.10135813787359|\n",
      "|-71.13943726757397|\n",
      "|  4.64887654507347|\n",
      "|23.212851270959874|\n",
      "| 5.520143392604766|\n",
      "| 67.85190254288447|\n",
      "|19.635603554110524|\n",
      "|20.291948968811816|\n",
      "+------------------+\n",
      "only showing top 20 rows"
     ]
    }
   ],
   "source": [
    "print(\"numIterations: %d\" % lr_trainingSummary.totalIterations)\n",
    "print(\"objectiveHistory: %s\" % str(lr_trainingSummary.objectiveHistory))\n",
    "lr_trainingSummary.residuals.show()"
   ]
  },
  {
   "cell_type": "markdown",
   "metadata": {},
   "source": [
    "### these are the predictions the linear model made"
   ]
  },
  {
   "cell_type": "code",
   "execution_count": 72,
   "metadata": {},
   "outputs": [
    {
     "data": {
      "application/vnd.jupyter.widget-view+json": {
       "model_id": "524e38e52a2e435aa7f3a4dddc774564",
       "version_major": 2,
       "version_minor": 0
      },
      "text/plain": [
       "VBox()"
      ]
     },
     "metadata": {},
     "output_type": "display_data"
    },
    {
     "data": {
      "application/vnd.jupyter.widget-view+json": {
       "model_id": "",
       "version_major": 2,
       "version_minor": 0
      },
      "text/plain": [
       "FloatProgress(value=0.0, bar_style='info', description='Progress:', layout=Layout(height='25px', width='50%'),…"
      ]
     },
     "metadata": {},
     "output_type": "display_data"
    },
    {
     "name": "stdout",
     "output_type": "stream",
     "text": [
      "+-------------------+---+--------------------+\n",
      "|         prediction|cnt|            features|\n",
      "+-------------------+---+--------------------+\n",
      "| -67.76943066500706| 33|[1.0,0.0,0.0,1.0,...|\n",
      "|-19.857031372117227| 28|[1.0,0.0,0.0,1.0,...|\n",
      "| 36.514682823263044| 69|[1.0,0.0,0.0,1.0,...|\n",
      "|  25.20037534330413| 39|[1.0,0.0,0.0,1.0,...|\n",
      "| -18.68445377083094| 12|[1.0,0.0,1.0,1.0,...|\n",
      "| 13.721898414855797| 13|[1.0,0.0,1.0,1.0,...|\n",
      "| 13.688662108969368| 11|[1.0,0.0,1.0,1.0,...|\n",
      "| 29.794231303253653| 27|[1.0,0.0,1.0,2.0,...|\n",
      "| -14.96981014180217| 25|[1.0,0.0,1.0,2.0,...|\n",
      "|  40.71311240005706| 42|[1.0,0.0,1.0,2.0,...|\n",
      "|   15.2452299267764| 38|[1.0,0.0,1.0,2.0,...|\n",
      "| -39.57768848551933|  3|[1.0,0.0,1.0,3.0,...|\n",
      "|  94.41478438197285| 73|[1.0,1.0,0.0,1.0,...|\n",
      "|  83.33332347286229| 12|[1.0,1.0,0.0,1.0,...|\n",
      "| 29.441763269355064| 93|[1.0,1.0,0.0,1.0,...|\n",
      "| 0.7182169786740502| 42|[1.0,1.0,0.0,2.0,...|\n",
      "|-49.352258125437544| 50|[1.0,1.0,0.0,2.0,...|\n",
      "| 25.624299109723683| 16|[1.0,1.0,0.0,2.0,...|\n",
      "| -2.866421366896681|  7|[1.0,1.0,1.0,1.0,...|\n",
      "|  50.79754002201149| 15|[1.0,1.0,1.0,1.0,...|\n",
      "+-------------------+---+--------------------+\n",
      "only showing top 20 rows"
     ]
    }
   ],
   "source": [
    "predictions = lr_model.transform(test)\n",
    "predictions.select(\"prediction\",\"cnt\",\"features\").show()"
   ]
  },
  {
   "cell_type": "markdown",
   "metadata": {},
   "source": [
    "# Decision Tree Regression\n",
    "### to improve on our linear regression model, we implemented the decision tree regression method. Decision trees builds on regression in a tree structure, meaning that it breaks down the dataset into smaller subsets while it develops. Therefore, we implemented this model to try to improve"
   ]
  },
  {
   "cell_type": "code",
   "execution_count": 73,
   "metadata": {},
   "outputs": [
    {
     "data": {
      "application/vnd.jupyter.widget-view+json": {
       "model_id": "4f2b4b697a3b40f0a70b7e0b59a79d1d",
       "version_major": 2,
       "version_minor": 0
      },
      "text/plain": [
       "VBox()"
      ]
     },
     "metadata": {},
     "output_type": "display_data"
    },
    {
     "data": {
      "application/vnd.jupyter.widget-view+json": {
       "model_id": "",
       "version_major": 2,
       "version_minor": 0
      },
      "text/plain": [
       "FloatProgress(value=0.0, bar_style='info', description='Progress:', layout=Layout(height='25px', width='50%'),…"
      ]
     },
     "metadata": {},
     "output_type": "display_data"
    },
    {
     "name": "stdout",
     "output_type": "stream",
     "text": [
      "Root Mean Squared Error (RMSE) on test data = 113.093\n",
      "R Squared (R2) on test data = 0.597719"
     ]
    }
   ],
   "source": [
    "from pyspark.ml.regression import DecisionTreeRegressor\n",
    "\n",
    "dt = DecisionTreeRegressor(featuresCol ='features', labelCol = 'cnt')\n",
    "dt_model = dt.fit(train)\n",
    "dt_predictions = dt_model.transform(test)\n",
    "dt_evaluator = RegressionEvaluator(\n",
    "    labelCol=\"cnt\", predictionCol=\"prediction\", metricName=\"rmse\")\n",
    "rmse = dt_evaluator.evaluate(dt_predictions)\n",
    "print(\"Root Mean Squared Error (RMSE) on test data = %g\" % rmse)\n",
    "dt_evaluator1 = RegressionEvaluator(predictionCol=\"prediction\", \\\n",
    "                 labelCol=\"cnt\",metricName=\"r2\")\n",
    "dt_r2 = dt_evaluator1.evaluate(dt_predictions)\n",
    "print(\"R Squared (R2) on test data = %g\" % dt_r2)"
   ]
  },
  {
   "cell_type": "markdown",
   "metadata": {},
   "source": [
    "### after implementing the model, we see improvement from the previous model\n",
    "### on the test data, our model generated a RMSE of 115.22 and a r2 score of 0.61"
   ]
  },
  {
   "cell_type": "code",
   "execution_count": 74,
   "metadata": {},
   "outputs": [
    {
     "data": {
      "application/vnd.jupyter.widget-view+json": {
       "model_id": "2007c849742d41808c46323fbb6c55cb",
       "version_major": 2,
       "version_minor": 0
      },
      "text/plain": [
       "VBox()"
      ]
     },
     "metadata": {},
     "output_type": "display_data"
    },
    {
     "data": {
      "application/vnd.jupyter.widget-view+json": {
       "model_id": "",
       "version_major": 2,
       "version_minor": 0
      },
      "text/plain": [
       "FloatProgress(value=0.0, bar_style='info', description='Progress:', layout=Layout(height='25px', width='50%'),…"
      ]
     },
     "metadata": {},
     "output_type": "display_data"
    },
    {
     "name": "stdout",
     "output_type": "stream",
     "text": [
      "[Row(features=DenseVector([1.0, 0.0, 0.0, 1.0, 0.0303, 0.45, 0.2537]), cnt=13)]"
     ]
    }
   ],
   "source": [
    "train.take(1)"
   ]
  },
  {
   "cell_type": "code",
   "execution_count": 75,
   "metadata": {},
   "outputs": [
    {
     "data": {
      "application/vnd.jupyter.widget-view+json": {
       "model_id": "55c5905e339740b0af14427e6420f76a",
       "version_major": 2,
       "version_minor": 0
      },
      "text/plain": [
       "VBox()"
      ]
     },
     "metadata": {},
     "output_type": "display_data"
    },
    {
     "data": {
      "application/vnd.jupyter.widget-view+json": {
       "model_id": "",
       "version_major": 2,
       "version_minor": 0
      },
      "text/plain": [
       "FloatProgress(value=0.0, bar_style='info', description='Progress:', layout=Layout(height='25px', width='50%'),…"
      ]
     },
     "metadata": {},
     "output_type": "display_data"
    },
    {
     "name": "stdout",
     "output_type": "stream",
     "text": [
      "SparseVector(7, {0: 0.0002, 1: 0.7631, 2: 0.0285, 3: 0.0111, 4: 0.1951, 5: 0.002})"
     ]
    }
   ],
   "source": [
    "dt_model.featureImportances"
   ]
  },
  {
   "cell_type": "markdown",
   "metadata": {},
   "source": [
    "### with our decision tree model, we want to see the features (independent variables) that impact \"count\" and their weight. in our observation we see that \"hour\" and \"atemp\" (feels-like temp) have the highest importance in regard to bike rentals"
   ]
  },
  {
   "cell_type": "code",
   "execution_count": 76,
   "metadata": {},
   "outputs": [
    {
     "data": {
      "application/vnd.jupyter.widget-view+json": {
       "model_id": "4d22e2c01c5c4800a5bab23814419335",
       "version_major": 2,
       "version_minor": 0
      },
      "text/plain": [
       "VBox()"
      ]
     },
     "metadata": {},
     "output_type": "display_data"
    },
    {
     "data": {
      "application/vnd.jupyter.widget-view+json": {
       "model_id": "",
       "version_major": 2,
       "version_minor": 0
      },
      "text/plain": [
       "FloatProgress(value=0.0, bar_style='info', description='Progress:', layout=Layout(height='25px', width='50%'),…"
      ]
     },
     "metadata": {},
     "output_type": "display_data"
    },
    {
     "name": "stdout",
     "output_type": "stream",
     "text": [
      "[Row(features=DenseVector([1.0, 0.0, 0.0, 1.0, 0.2879, 0.81, 0.0]), cnt=16)]"
     ]
    }
   ],
   "source": [
    "bike_rental_df.take(1)"
   ]
  },
  {
   "cell_type": "markdown",
   "metadata": {},
   "source": [
    "### in order to minimize our loss functions, we will also implement the Gradient-Boosted Trees (GBT) algorithm. we used this model instead of a random forest because GBT's train one tree at a time for a minimal loss function, and it also captures non-linearities and feature interactions."
   ]
  },
  {
   "cell_type": "code",
   "execution_count": 77,
   "metadata": {},
   "outputs": [
    {
     "data": {
      "application/vnd.jupyter.widget-view+json": {
       "model_id": "e00d8096aafb43579f49ed197d47163b",
       "version_major": 2,
       "version_minor": 0
      },
      "text/plain": [
       "VBox()"
      ]
     },
     "metadata": {},
     "output_type": "display_data"
    },
    {
     "data": {
      "application/vnd.jupyter.widget-view+json": {
       "model_id": "",
       "version_major": 2,
       "version_minor": 0
      },
      "text/plain": [
       "FloatProgress(value=0.0, bar_style='info', description='Progress:', layout=Layout(height='25px', width='50%'),…"
      ]
     },
     "metadata": {},
     "output_type": "display_data"
    },
    {
     "name": "stdout",
     "output_type": "stream",
     "text": [
      "+------------------+---+--------------------+\n",
      "|        prediction|cnt|            features|\n",
      "+------------------+---+--------------------+\n",
      "| 39.11398048841465| 33|[1.0,0.0,0.0,1.0,...|\n",
      "| 39.38398788052057| 28|[1.0,0.0,0.0,1.0,...|\n",
      "| 39.38398788052057| 69|[1.0,0.0,0.0,1.0,...|\n",
      "| 39.38398788052057| 39|[1.0,0.0,0.0,1.0,...|\n",
      "|27.185344292510926| 12|[1.0,0.0,1.0,1.0,...|\n",
      "+------------------+---+--------------------+\n",
      "only showing top 5 rows"
     ]
    }
   ],
   "source": [
    "from pyspark.ml.regression import GBTRegressor\n",
    "gbt = GBTRegressor(featuresCol = 'features', labelCol = 'cnt', maxIter=10)\n",
    "gbt_model = gbt.fit(train)\n",
    "gbt_predictions = gbt_model.transform(test)\n",
    "gbt_predictions.select('prediction', 'cnt', 'features').show(5)"
   ]
  },
  {
   "cell_type": "code",
   "execution_count": 78,
   "metadata": {},
   "outputs": [
    {
     "data": {
      "application/vnd.jupyter.widget-view+json": {
       "model_id": "bda603af4ca048fa971b81601ef86a6a",
       "version_major": 2,
       "version_minor": 0
      },
      "text/plain": [
       "VBox()"
      ]
     },
     "metadata": {},
     "output_type": "display_data"
    },
    {
     "data": {
      "application/vnd.jupyter.widget-view+json": {
       "model_id": "",
       "version_major": 2,
       "version_minor": 0
      },
      "text/plain": [
       "FloatProgress(value=0.0, bar_style='info', description='Progress:', layout=Layout(height='25px', width='50%'),…"
      ]
     },
     "metadata": {},
     "output_type": "display_data"
    },
    {
     "name": "stdout",
     "output_type": "stream",
     "text": [
      "Root Mean Squared Error (RMSE) on test data = 87.5606\n",
      "R Squared (R2) on test data = 0.758859"
     ]
    }
   ],
   "source": [
    "gbt_evaluator = RegressionEvaluator(\n",
    "    labelCol=\"cnt\", predictionCol=\"prediction\", metricName=\"rmse\")\n",
    "rmse = gbt_evaluator.evaluate(gbt_predictions)\n",
    "print(\"Root Mean Squared Error (RMSE) on test data = %g\" % rmse)\n",
    "\n",
    "gbt_evaluator1 = RegressionEvaluator(predictionCol=\"prediction\", \\\n",
    "                 labelCol=\"cnt\",metricName=\"r2\")\n",
    "gbt_r2 = gbt_evaluator1.evaluate(gbt_predictions)\n",
    "print(\"R Squared (R2) on test data = %g\" % gbt_r2)"
   ]
  },
  {
   "cell_type": "markdown",
   "metadata": {},
   "source": [
    "### with the GBT, we were able to improve our model with a RMSE 86.74 and a r2 score of 0.77\n",
    "### this means that our model explains 77% of the variability of the data around its mean.\n",
    "### although we believe that our model could still improve and can act as a good baseline model. we observed that our models were making negative predictions when we can't have negative rental counts. also we can tune our parameters more to improve like possibly increasing the number of iterations or combining different base features. \n",
    "### additionally, we trained our model based on the dependent variable count, which is the total of registered rentals and casual rentals. however, registered cyclists and casual cyclists can rent for completely different reasons. For further observation, we can train two different models with registered/casual rentals being the dependent variable rather than the total count; with this two models we can add the both predictions to estimate our total count, and this could be a more accurate analysis\n",
    "### with more variables, such as location or distance traveled, we can make more implications. however, with our dataset, we know that the time of the day is important for rentals as most rentals take place during 7-9am and 5-7pm. the feels-like temperature is also a factor that has impact on rentals.\n",
    "### in the future, we can use different, recent datasets that have more variables to analyze and make more implications of."
   ]
  },
  {
   "cell_type": "code",
   "execution_count": null,
   "metadata": {},
   "outputs": [],
   "source": []
  },
  {
   "cell_type": "code",
   "execution_count": null,
   "metadata": {},
   "outputs": [],
   "source": []
  },
  {
   "cell_type": "code",
   "execution_count": null,
   "metadata": {},
   "outputs": [],
   "source": []
  },
  {
   "cell_type": "code",
   "execution_count": null,
   "metadata": {},
   "outputs": [],
   "source": []
  }
 ],
 "metadata": {
  "kernelspec": {
   "display_name": "PySpark",
   "language": "",
   "name": "pysparkkernel"
  },
  "language_info": {
   "codemirror_mode": {
    "name": "python",
    "version": 2
   },
   "mimetype": "text/x-python",
   "name": "pyspark",
   "pygments_lexer": "python2"
  }
 },
 "nbformat": 4,
 "nbformat_minor": 2
}
